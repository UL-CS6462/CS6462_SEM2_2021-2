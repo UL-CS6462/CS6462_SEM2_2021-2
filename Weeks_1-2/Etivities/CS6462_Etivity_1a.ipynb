{
  "nbformat": 4,
  "nbformat_minor": 0,
  "metadata": {
    "colab": {
      "name": "CS6462_Etivity_1a.ipynb",
      "provenance": []
    },
    "kernelspec": {
      "name": "python3",
      "display_name": "Python 3"
    },
    "language_info": {
      "name": "python"
    }
  },
  "cells": [
    {
      "cell_type": "markdown",
      "source": [
        "<div>\n",
        "<img src=\"https://drive.google.com/uc?export=view&id=1vK33e_EqaHgBHcbRV_m38hx6IkG0blK_\" width=\"350\"/>\n",
        "</div> \n",
        "\n",
        "#**Artificial Intelligence - MSc**\n",
        "\n",
        "##CS6462 - PROBABILISTIC AND EXPLAINABLE AI \n",
        "\n",
        "###CS6462_Etivity_1a\n",
        "\n",
        "###Enrique Naredo"
      ],
      "metadata": {
        "id": "uMeS-D_76W2l"
      }
    },
    {
      "cell_type": "markdown",
      "source": [
        "Student Name:\n",
        "\n",
        "Student Surname:\n",
        "\n",
        "Student ID:\n",
        "\n",
        "Date: "
      ],
      "metadata": {
        "id": "Xxlvi0ENM0cC"
      }
    },
    {
      "cell_type": "markdown",
      "source": [
        "##Rolling a Die"
      ],
      "metadata": {
        "id": "cy9PWDh-6gxb"
      }
    },
    {
      "cell_type": "markdown",
      "source": [
        "Code in the cells are only hints and you must verify its correct implementation.\n",
        "\n",
        "Lab_1.1"
      ],
      "metadata": {
        "id": "pHq-ws7cDXgw"
      }
    },
    {
      "cell_type": "markdown",
      "source": [
        "###Imports"
      ],
      "metadata": {
        "id": "dO-hJrHa-iH5"
      }
    },
    {
      "cell_type": "markdown",
      "source": [
        "Add any library you require."
      ],
      "metadata": {
        "id": "VhXhS8Bc-mez"
      }
    },
    {
      "cell_type": "code",
      "source": [
        "# Here your code\n",
        "\n",
        "import \n",
        "\n",
        "\n",
        "\n"
      ],
      "metadata": {
        "id": "Wgu9Tu45-tUz"
      },
      "execution_count": null,
      "outputs": []
    },
    {
      "cell_type": "markdown",
      "source": [
        "###Random generator"
      ],
      "metadata": {
        "id": "B8dac9M-_SU-"
      }
    },
    {
      "cell_type": "markdown",
      "source": [
        "Write a code to get one integer from 1 to 6, randomly chosen to simulate a die."
      ],
      "metadata": {
        "id": "svUX2DxG-xGO"
      }
    },
    {
      "cell_type": "code",
      "source": [
        "# Here your code\n",
        "\n",
        "def DieRoller():\n",
        "\n",
        "\n",
        "\n",
        "  return number"
      ],
      "metadata": {
        "id": "9Tf4YAJc_1PF"
      },
      "execution_count": null,
      "outputs": []
    },
    {
      "cell_type": "markdown",
      "source": [
        "### Roll a die N times"
      ],
      "metadata": {
        "id": "qs2ynCU_CnqA"
      }
    },
    {
      "cell_type": "markdown",
      "source": [
        "Write a code to roll a six-sided die N times"
      ],
      "metadata": {
        "id": "DczP7ZrPAqar"
      }
    },
    {
      "cell_type": "code",
      "source": [
        "# Here your code\n",
        "\n",
        "N = 10000000\n",
        "\n",
        "for i in range(N): \n",
        "\n",
        "  # use your previous function\n",
        "  face[i] = DieRoller()\n",
        "\n",
        "  # increment counter\n",
        "  frequency[face] += 1\n",
        "\n"
      ],
      "metadata": {
        "id": "SDEDz8eiBmsn"
      },
      "execution_count": null,
      "outputs": []
    },
    {
      "cell_type": "markdown",
      "source": [
        "###Print frequency"
      ],
      "metadata": {
        "id": "f6SvpoAeCx-s"
      }
    },
    {
      "cell_type": "markdown",
      "source": [
        "Display frequency for each face."
      ],
      "metadata": {
        "id": "-NSAstSpCZec"
      }
    },
    {
      "cell_type": "code",
      "source": [
        "# Here your code\n",
        "\n",
        "print('Face', \"Frequency\")\n",
        "\n",
        "for  :\n",
        "    print()\n",
        "\n"
      ],
      "metadata": {
        "id": "d60SoERFDCld"
      },
      "execution_count": null,
      "outputs": []
    },
    {
      "cell_type": "markdown",
      "source": [
        "### Plot a histogram"
      ],
      "metadata": {
        "id": "Q3yW-WdZHTA6"
      }
    },
    {
      "cell_type": "code",
      "source": [
        "# Here your code\n",
        "\n",
        "sns.displot(frequency, kde = False)\n",
        "plt.title(\"Histogram of simulated dice rolls\")\n",
        "plt.xlim([0,7])"
      ],
      "metadata": {
        "id": "fLys018MHV2J"
      },
      "execution_count": null,
      "outputs": []
    },
    {
      "cell_type": "markdown",
      "source": [
        "### Dice rolling simulator"
      ],
      "metadata": {
        "id": "S84kGUvKFeUD"
      }
    },
    {
      "cell_type": "markdown",
      "source": [
        "Use the nicer Dice rolling simulator from the Lab_1.1.\n",
        "\n",
        "* Do not use the while loop (code line 63), because you already have a random generator.\n"
      ],
      "metadata": {
        "id": "at2K6o2QF2WS"
      }
    },
    {
      "cell_type": "code",
      "source": [
        "# Here your code\n",
        "\n",
        "\n",
        "# string var\n",
        "x = \"y\"\n",
        "\n",
        "# dictionary\n",
        "face = {\n",
        "# case 1\n",
        "1: (\n",
        "\t\t\"┌─────────┐\\n\"\n",
        "\t\t\"│         │\\n\"\n",
        "\t\t\"│    ●    │\\n\"\n",
        "\t\t\"│         │\\n\"\n",
        "\t\t\"└─────────┘\\n\"\n",
        "\t),\n",
        "\n",
        "\n",
        "\n",
        "\n",
        "\n",
        "  "
      ],
      "metadata": {
        "id": "NUX8qs7xFfNt"
      },
      "execution_count": null,
      "outputs": []
    },
    {
      "cell_type": "markdown",
      "source": [
        "###Show first events"
      ],
      "metadata": {
        "id": "FG_2yLdyD1nF"
      }
    },
    {
      "cell_type": "markdown",
      "source": [
        "Show the first 10 events using the nicer Dice rolling simulator from the Lab_1.1"
      ],
      "metadata": {
        "id": "XQ_7_3dH9X23"
      }
    },
    {
      "cell_type": "code",
      "source": [
        "# Here your code\n",
        "\n",
        "for :\n",
        "\n",
        "  print(face[number])\n",
        "\n",
        "\n",
        "  "
      ],
      "metadata": {
        "id": "MU8xwDfY_zqP"
      },
      "execution_count": null,
      "outputs": []
    },
    {
      "cell_type": "markdown",
      "source": [
        "###Expected value"
      ],
      "metadata": {
        "id": "D2TpZS3aI058"
      }
    },
    {
      "cell_type": "markdown",
      "source": [
        "\n",
        "**Expected value of a dice roll.**\n",
        "\n",
        "The expected value of a dice roll is\n",
        "$$ \\sum_{i=1}^6 i \\times \\frac{1}{6} = 3.5 $$\n",
        "\n",
        "That means that if we toss a dice a large number of times, the mean value should converge to 3.5."
      ],
      "metadata": {
        "id": "Wu3_MBNg9gRH"
      }
    },
    {
      "cell_type": "code",
      "execution_count": null,
      "metadata": {
        "id": "eHwCaKBq6Spo"
      },
      "outputs": [],
      "source": [
        "# Here your code\n",
        "\n",
        "# N could be same from the previous cells\n",
        "N = \n",
        "roll = np.zeros(N, dtype=int)\n",
        "expectation = np.zeros(N)\n",
        "\n",
        "# you could use your previous results \n",
        "# face[i]\n",
        "\n",
        "for i in range(1, N):\n",
        "    expectation[i] = np.mean(face[0:i])\n",
        "\n",
        "plt.plot(expectation)\n",
        "plt.title(\"Expectation of a dice roll\")\n",
        "plt.show()"
      ]
    },
    {
      "cell_type": "markdown",
      "source": [
        "##Card Probabilities"
      ],
      "metadata": {
        "id": "k1Fx6Ui_MgYc"
      }
    },
    {
      "cell_type": "code",
      "source": [
        "# Here your code\n",
        "\n",
        "import\n",
        "\n",
        "\n"
      ],
      "metadata": {
        "id": "EQkwfr5iOnbr"
      },
      "execution_count": null,
      "outputs": []
    },
    {
      "cell_type": "code",
      "source": [
        "# Here your code\n",
        "\n",
        "# define the number of events\n",
        "M =\n"
      ],
      "metadata": {
        "id": "_I2v9blYOcKg"
      },
      "execution_count": null,
      "outputs": []
    },
    {
      "cell_type": "markdown",
      "source": [
        "###Deck of Cards"
      ],
      "metadata": {
        "id": "gZAqFshEMgR-"
      }
    },
    {
      "cell_type": "markdown",
      "source": [
        "Use the code from the Lab_2.2 to run 4 experiments related to the questions.\n",
        "\n",
        "* Address the questions using the code from the Lab_2.2\n",
        "* Add code line to save the frequency of the event for each question.\n",
        "* In the last cells add a code to print the frequency of the events for each question.\n",
        "* Finally, plot a histogram with the results."
      ],
      "metadata": {
        "id": "FQaTx-y1P6dU"
      }
    },
    {
      "cell_type": "markdown",
      "source": [
        "Generate a Deck of Cards uaing the code from the Lab_2.2"
      ],
      "metadata": {
        "id": "o9xpkQ_zNods"
      }
    },
    {
      "cell_type": "code",
      "source": [
        "# Here your code\n",
        "\n",
        "# make a deck of cards\n",
        "deck = \n",
        "\n",
        "\n",
        "\n",
        "\n"
      ],
      "metadata": {
        "id": "i-qseTSn6c5g"
      },
      "execution_count": null,
      "outputs": []
    },
    {
      "cell_type": "markdown",
      "source": [
        "##Question 1"
      ],
      "metadata": {
        "id": "WCPZs-v2OKsY"
      }
    },
    {
      "cell_type": "markdown",
      "source": [
        "What is the probability that when two cards are drawn from a deck of cards without a replacement that both of them will be Ace?"
      ],
      "metadata": {
        "id": "LTdCUfrWOICF"
      }
    },
    {
      "cell_type": "code",
      "source": [
        "# Here your code\n",
        "\n",
        "\n",
        "\n"
      ],
      "metadata": {
        "id": "gL4w9Xp1O5pR"
      },
      "execution_count": null,
      "outputs": []
    },
    {
      "cell_type": "markdown",
      "source": [
        "###Question 2"
      ],
      "metadata": {
        "id": "agFyucS7O7a0"
      }
    },
    {
      "cell_type": "markdown",
      "source": [
        "What is the probability of two Aces in 5 card hand without replacement"
      ],
      "metadata": {
        "id": "NSdbsF3lO6Ya"
      }
    },
    {
      "cell_type": "code",
      "source": [
        "# Here your code\n",
        "\n",
        "\n",
        "\n"
      ],
      "metadata": {
        "id": "H67ZqL9pPBEi"
      },
      "execution_count": null,
      "outputs": []
    },
    {
      "cell_type": "markdown",
      "source": [
        "###Question 3\n"
      ],
      "metadata": {
        "id": "pTPJe9WpPJLa"
      }
    },
    {
      "cell_type": "markdown",
      "source": [
        "What is the probability of being dealt a flush (5 cards of all the same suit) from the first 5 cards in a deck?"
      ],
      "metadata": {
        "id": "_hhPtyhOPJvd"
      }
    },
    {
      "cell_type": "code",
      "source": [
        "# Here your code\n",
        "\n",
        "\n",
        "\n"
      ],
      "metadata": {
        "id": "ICrnRnPbPQ0V"
      },
      "execution_count": null,
      "outputs": []
    },
    {
      "cell_type": "markdown",
      "source": [
        "###Question 4"
      ],
      "metadata": {
        "id": "tnREQucKPW54"
      }
    },
    {
      "cell_type": "markdown",
      "source": [
        "What is the probability of being dealt a royal flush from the first 5 cards in a deck?"
      ],
      "metadata": {
        "id": "q61I9rssPW2A"
      }
    },
    {
      "cell_type": "code",
      "source": [
        "# Here your code\n",
        "\n",
        "\n",
        "\n"
      ],
      "metadata": {
        "id": "-qyg-YQWPc58"
      },
      "execution_count": null,
      "outputs": []
    },
    {
      "cell_type": "markdown",
      "source": [
        "###Print frequency"
      ],
      "metadata": {
        "id": "LMbCkIz5PqIM"
      }
    },
    {
      "cell_type": "markdown",
      "source": [
        "Display frequency for each face."
      ],
      "metadata": {
        "id": "6A3saq61PqIN"
      }
    },
    {
      "cell_type": "code",
      "source": [
        "# Here your code\n",
        "\n",
        "print('Questions', \"Frequency\")\n",
        "\n",
        "for  :\n",
        "    print()\n",
        "\n"
      ],
      "metadata": {
        "id": "nYHlrz-6PqIN"
      },
      "execution_count": null,
      "outputs": []
    },
    {
      "cell_type": "markdown",
      "source": [
        "### Plot a histogram"
      ],
      "metadata": {
        "id": "Oy53ZutNPqIN"
      }
    },
    {
      "cell_type": "code",
      "source": [
        "# Here your code\n",
        "\n",
        "sns.displot(frequency, kde = False)\n",
        "plt.title(\"Histogram of Questions\")\n",
        "plt.xlim([0,7])"
      ],
      "metadata": {
        "id": "-3YB9x0dPqIN"
      },
      "execution_count": null,
      "outputs": []
    }
  ]
}