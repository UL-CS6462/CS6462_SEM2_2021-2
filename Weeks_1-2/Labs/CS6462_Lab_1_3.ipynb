{
  "nbformat": 4,
  "nbformat_minor": 0,
  "metadata": {
    "colab": {
      "name": "CS6462_Lab_1_3.ipynb",
      "provenance": []
    },
    "kernelspec": {
      "name": "python3",
      "display_name": "Python 3"
    },
    "language_info": {
      "name": "python"
    }
  },
  "cells": [
    {
      "cell_type": "markdown",
      "source": [
        "<div>\n",
        "<img src=\"https://drive.google.com/uc?export=view&id=1vK33e_EqaHgBHcbRV_m38hx6IkG0blK_\" width=\"350\"/>\n",
        "</div> \n",
        "\n",
        "#**Artificial Intelligence - MSc**\n",
        "\n",
        "##CS6462 - PROBABILISTIC AND EXPLAINABLE AI \n",
        "\n",
        "##SEM2 2021/2\n",
        "\n",
        "###CS6462_Lab_1.3\n",
        "\n",
        "###Instructor: Enrique Naredo\n",
        "Copyright (C) 2022 - Copy or distribution not allowed outside this module"
      ],
      "metadata": {
        "id": "os4xKtWzlPww"
      }
    },
    {
      "cell_type": "markdown",
      "metadata": {
        "id": "xRhm0rs0zpub"
      },
      "source": [
        "# Probabilistic Modelling\n",
        "\n",
        "* A model is a mathematical description of a phenomenon.\n",
        "* A probabilistic model is a probabilistic description of a phenomenon  that models our **uncertainty** about it.\n",
        "* Mathematically, a probabilistic model is a (set of) probabilistic distribution(s)\n",
        "\n",
        "You can express it\n",
        " *  either writing down its analytical formula\n",
        " *  or plotting its probability mass function\n",
        " \n",
        "### Generative model\n",
        "* A probabilistic model is a generative model.\n",
        "* It means that you can use it to simulate a phenomenon (by *sampling* from the model)\n",
        "\n",
        "What is a sample?\n",
        "* A sample is an instance of the simulation\n",
        "\n",
        "### Queries \n",
        "Given a probabilistic model, we want to  query the model\n",
        "* Will it rain tomorrow?\n",
        "* Given that today temperature is 15°C, will it rain tomorrow?\n",
        "\n",
        "We can answer this type of questions \n",
        "* using probability calculus (marginalisation,  Bayes'rule, expectations)\n",
        "\n",
        "However, we will see for the case of continuous variables that\n",
        "* answering these questions requires solving difficult integrals\n",
        "\n",
        "Instead, we will see that by \n",
        "* *sampling the model* \n",
        "\n",
        "we can get an approximate answer to our questions without the need of computing those integrals.\n",
        "\n",
        "### What you will learn in this Notebook\n",
        "1. to build a probabilistic model for a coin, dice, ...\n",
        "2. to sample from these models\n",
        "3. to answer queries either analytically or via sampling\n",
        "\n",
        "You will also learn\n",
        "4. what a Bernoulli and Categoirical distribution are\n",
        "5. what a cumulative distribution is\n",
        "6. How to compute expectations (mean, variance)\n",
        "7. indpendence/dependence and conditional indpendence/dependence"
      ]
    },
    {
      "cell_type": "markdown",
      "metadata": {
        "id": "KVYwEHYizpuh"
      },
      "source": [
        "The following subsections summarize the coin model we discussed during the lecture and introduce the Dice model.\n",
        "\n",
        "## Model of a coin\n",
        "\n",
        "Variables:\n",
        "* bias of the coin $\\theta$ \n",
        "* outcome of the coin toss $x$\n",
        "\n",
        "Meaning of $\\theta$: $\\theta=0.5$ (fair coin), $\\theta=1$ (two heads),  $\\theta=0$ (two tails).\n",
        "\n",
        "We denote with\n",
        "* $x$ the outcome of the coin toss\n",
        "* $dom(x) = \\{1,0\\}$\n",
        "\n",
        "We use 1 for Heads and 0 for Tail.\n",
        "\n",
        "### Probabilistic model\n",
        "$x$ is a binary variable and, its distribution can in general be written as:\n",
        "\n",
        "$$\n",
        "\\left\\{\\begin{array}{rcl}\n",
        "p(x=1)&=&\\theta\\\\\n",
        "p(x=0)&=&1-\\theta\n",
        "\\end{array}\\right.\n",
        "$$\n",
        "\n",
        "or, in a line,\n",
        "\n",
        "$$\n",
        "p(x=\\textsf{x})=\\theta^{\\textsf{x}}(1-\\theta)^{1-\\textsf{x}} ~~~~ \\text{ for } ~~~~ \\textsf{x}\\in\\{0,1\\}\n",
        "$$\n",
        "\n",
        "This is called **Bernoulli distribution**\n",
        "\n",
        "### Examples\n",
        "For instance, for a fair coin ($\\theta=0.5$),\n",
        "\n",
        "$$\n",
        "\\left\\{\\begin{array}{ll}\n",
        "p(x=1)&=&0.5\\\\\n",
        "p(x=0)&=&0.5\n",
        "\\end{array}\\right.\n",
        "$$\n",
        "\n",
        "Here an example of a tricked coin\n",
        "\n",
        "$$\n",
        "\\left\\{\\begin{array}{ll}\n",
        "p(x=1)&=&\\frac{2}{3}\\\\\n",
        "p(x=0)&=&\\frac{1}{3}\n",
        "\\end{array}\\right.\n",
        "$$\n",
        "\n",
        "## Dice\n",
        "* x denotes the result of the dice thrown\n",
        "* dom(x)=$\\{1,2,3,4,5,6\\}$\n",
        "The probability mass functions\n",
        "$$\n",
        "\\begin{array}{l}\n",
        "p(x=1) = \\theta_1\\\\ \n",
        "p(x=2) = \\theta_2\\\\ \n",
        "p(x=3) = \\theta_3\\\\ \n",
        "p(x=4) = \\theta_4\\\\ \n",
        "p(x=5) = \\theta_5\\\\ \n",
        "p(x=6) = \\theta_6\\\\ \n",
        "\\end{array}\n",
        "$$\n",
        "where $\\theta_i\\geq0$ is the probability that the outcome is the i-th face and, therefore, $\\sum_{i=1}^6\\theta_i=1$.\n",
        "\n",
        "Example Fair Dice:\n",
        "\n",
        "$$\n",
        "\\begin{array}{l}\n",
        "p(x=1) = \\frac{1}{6}\\\\ \n",
        "p(x=2) = \\frac{1}{6}\\\\ \n",
        "p(x=3) = \\frac{1}{6}\\\\ \n",
        "p(x=4) = \\frac{1}{6}\\\\ \n",
        "p(x=5) = \\frac{1}{6}\\\\ \n",
        "p(x=6) = \\frac{1}{6}\\\\ \n",
        "\\end{array}\n",
        "$$\n",
        "\n",
        "### Categorical distribution\n",
        "We can encode the six possible outcomes as follows\n",
        "\n",
        "$$\n",
        "\\begin{array}{rcl}\n",
        "1 &\\rightarrow& [1,0,0,0,0,0]\\\\\n",
        "2 &\\rightarrow& [0,1,0,0,0,0]\\\\\n",
        "3 &\\rightarrow& [0,0,1,0,0,0]\\\\\n",
        "4 &\\rightarrow& [0,0,0,1,0,0]\\\\\n",
        "5 &\\rightarrow& [0,0,0,0,1,0]\\\\\n",
        "6 &\\rightarrow& [0,0,0,0,0,1]\\\\\n",
        "\\end{array}\n",
        "$$\n",
        "\n",
        "then if we call the generic binary vector as $y$ and its $i$-th component as $y_i$, we can write\n",
        "\n",
        "$$\n",
        "p(x=y)=\\theta_1^{y_1}\\theta_2^{y_2}\\theta_3^{y_3}\\theta_4^{y_4}\\theta_5^{y_5}\\theta_6^{y_6}\n",
        "$$\n",
        "\n",
        "example $p(x=[0,1,0,0,0,0])=\\theta_2$.\n",
        "\n",
        "The above distribution is called **Categorical distribution** (we have seen it for the case of six categories (dice), but we can extend it to any generic number of categories).\n",
        "\n",
        "\n",
        "## Expectation\n",
        "Give a function $f(x)$ of the variable $x$, its expectation with respect the probability distribution\n",
        "of $x$ is equal\n",
        "\n",
        "$$\n",
        "E[f(x)]=\\sum_{\\mathscr{x}\\in dom(x)} f(\\mathscr{x})p(x=\\mathscr{x})\n",
        "$$\n",
        "\n",
        "If\n",
        "* $f(x)=x$ (identity function) then $E[x]$ is the mean of $x$;\n",
        "* $f(x)=(x-E[x])^2$ then $E[(x-E[x])^2]=Var(x)$ is called the variance of $x$;\n",
        "* $f(x)=(x==a)$  then $E[(x==a)]$ is the probability of $x=a$;\n",
        "* $f(x)=(x>=a)$  then $E[(x>=a)]$ is the probability of $x\\geq a$;\n",
        "\n",
        "Example Fair dice: \n",
        "$$\n",
        "\\begin{aligned}\n",
        "E[x]&=1\\frac{1}{6}+2\\frac{1}{6}+3\\frac{1}{6}+4\\frac{1}{6}+5\\frac{1}{6}+6\\frac{1}{6}=3.5\\\\\n",
        "E[x^2]&=1\\frac{1}{6}+4\\frac{1}{6}+9\\frac{1}{6}+16\\frac{1}{6}+25\\frac{1}{6}+36\\frac{1}{6}=13.5\\\\\n",
        "Var(x)=E[(x-3.5)^2]&=(1-3.5)^2\\frac{1}{6}+(2-3.5)^2\\frac{1}{6}+(3-3.5)^2\\frac{1}{6}+(4-3.5)^2\\frac{\n",
        "1}{6}+(5-3.5)^2\\frac{1}{6}+(6-3.5)^2\\frac{1}{6}=\\frac{35}{12}\\\\\n",
        "E[x==1]&=1\\frac{1}{6}+0\\frac{1}{6}+0\\frac{1}{6}+0\\frac{1}{6}+0\\frac{1}{6}+0\\frac{1}{6}=\\frac{1}{6}\\\\\n",
        "E[x>=2]&=0\\frac{1}{6}+1\\frac{1}{6}+1\\frac{1}{6}+1\\frac{1}{6}+1\\frac{1}{6}+1\\frac{1}{6}=\\frac{5}{6}\\\\\n",
        "\\end{aligned}\n",
        "$$\n",
        "\n",
        "\n",
        "## Statistics\n",
        "\n",
        "\n",
        "How do we do statistical analysis?\n",
        "\n",
        "\n",
        "\n",
        "###  How can we test if a coin is fair or not?\n",
        "Assume we observe the following outcome:\n",
        "\n",
        "$$\n",
        "Observations=[1,1,1,1,1]\n",
        "$$\n",
        "\n",
        "is the coin fair?\n",
        "\n",
        "###  Bag of coins model\n",
        "For the moment, let us assume we have only three types of coins\n",
        "\n",
        "1. $\\theta_1=0.25$\n",
        "2. $\\theta_2=0.5$\n",
        "3. $\\theta_3=0.75$\n",
        "\n",
        "and the number of coin of type 1,2 and 3 in the bag is the same.\n",
        "\n",
        "We can build a model that describes the way the observations could be generated.\n",
        "\n",
        "    A coin is extracted at random from a bag containing the coins of type 1, 2 and 3.\n",
        "    The coin is then tossed five times.\n",
        "\n",
        "###  Posterior\n",
        "\n",
        "We want to compute the posterior probabilities\n",
        "\n",
        "1. $p(\\theta_1=0.25 ~|~ [1,1,1,1,1])$\n",
        "2. $p(\\theta_2=0.5~|~[1,1,1,1,1])$\n",
        "3. $p(\\theta_3=0.75~|~[1,1,1,1,1])$\n",
        "\n",
        "and use these probabilities to answer the following queries:\n",
        "    \n",
        "*Is the coin fair?\n",
        "*Is the coin biased towards Head?"
      ]
    },
    {
      "cell_type": "code",
      "metadata": {
        "id": "yUHLUvg8zpun",
        "colab": {
          "base_uri": "https://localhost:8080/",
          "height": 39
        },
        "outputId": "3a653945-b1b4-4272-a72b-a41e051bec5a"
      },
      "source": [
        "# SYMPY libray\n",
        "from sympy.stats import Bernoulli, sample \n",
        "\n",
        "θ = 0.5    \n",
        "C = Bernoulli(\"Coin\", θ)\n",
        "C"
      ],
      "execution_count": null,
      "outputs": [
        {
          "output_type": "execute_result",
          "data": {
            "text/latex": "$\\displaystyle Coin$",
            "text/plain": [
              "Coin"
            ]
          },
          "metadata": {},
          "execution_count": 2
        }
      ]
    },
    {
      "cell_type": "code",
      "source": [
        "# sympy.stats library\n",
        "# https://docs.sympy.org/latest/modules/stats.html\n",
        "from sympy.stats import density\n",
        "\n",
        "def pmf(D):\n",
        "    return (list(density(D).dict.keys()),list(density(D).dict.values()))"
      ],
      "metadata": {
        "id": "oMr_X69HskKa"
      },
      "execution_count": 8,
      "outputs": []
    },
    {
      "cell_type": "code",
      "metadata": {
        "colab": {
          "base_uri": "https://localhost:8080/"
        },
        "id": "6waT7pQKalW_",
        "outputId": "4714c111-81aa-4518-a12f-401238875c0d"
      },
      "source": [
        "print(pmf(C))"
      ],
      "execution_count": 9,
      "outputs": [
        {
          "output_type": "stream",
          "name": "stdout",
          "text": [
            "([0, 1], [0.500000000000000, 0.500000000000000])\n"
          ]
        }
      ]
    },
    {
      "cell_type": "code",
      "metadata": {
        "colab": {
          "base_uri": "https://localhost:8080/",
          "height": 283
        },
        "id": "FexWPPaqasnT",
        "outputId": "c3b90108-2688-4fe5-dde0-7f73560eef4f"
      },
      "source": [
        "# matplotlib\n",
        "# https://matplotlib.org/\n",
        "import matplotlib.pyplot as plt\n",
        "%matplotlib inline\n",
        "\n",
        "plt.plot(pmf(C)[0], pmf(C)[1], 'o', ms=8)"
      ],
      "execution_count": 30,
      "outputs": [
        {
          "output_type": "execute_result",
          "data": {
            "text/plain": [
              "[<matplotlib.lines.Line2D at 0x7f47ab2a4590>]"
            ]
          },
          "metadata": {},
          "execution_count": 30
        },
        {
          "output_type": "display_data",
          "data": {
            "image/png": "[encoded data removed]",
            "text/plain": [
              "<Figure size 432x288 with 1 Axes>"
            ]
          },
          "metadata": {
            "needs_background": "light"
          }
        }
      ]
    },
    {
      "cell_type": "code",
      "metadata": {
        "colab": {
          "base_uri": "https://localhost:8080/",
          "height": 283
        },
        "id": "n5wUY0YbbA_W",
        "outputId": "de940697-cade-4bdd-c56b-40def360361d"
      },
      "source": [
        "plt.vlines(pmf(C)[0], 0, pmf(C)[1], linestyles='-', lw=2 )"
      ],
      "execution_count": 12,
      "outputs": [
        {
          "output_type": "execute_result",
          "data": {
            "text/plain": [
              "<matplotlib.collections.LineCollection at 0x7f47b5854990>"
            ]
          },
          "metadata": {},
          "execution_count": 12
        },
        {
          "output_type": "display_data",
          "data": {
            "image/png": "[encoded data removed]",
            "text/plain": [
              "<Figure size 432x288 with 1 Axes>"
            ]
          },
          "metadata": {
            "needs_background": "light"
          }
        }
      ]
    },
    {
      "cell_type": "code",
      "metadata": {
        "colab": {
          "base_uri": "https://localhost:8080/",
          "height": 300
        },
        "id": "2OHBGBssbXX4",
        "outputId": "51928aff-3250-4935-caa8-41cc16174880"
      },
      "source": [
        "print(pmf(C))\n",
        "plt.plot(pmf(C)[0], pmf(C)[1], 'o', ms=8)\n",
        "plt.vlines(pmf(C)[0], 0, pmf(C)[1], linestyles='-', lw=2 )"
      ],
      "execution_count": 13,
      "outputs": [
        {
          "output_type": "stream",
          "name": "stdout",
          "text": [
            "([0, 1], [0.500000000000000, 0.500000000000000])\n"
          ]
        },
        {
          "output_type": "execute_result",
          "data": {
            "text/plain": [
              "<matplotlib.collections.LineCollection at 0x7f47b50c3810>"
            ]
          },
          "metadata": {},
          "execution_count": 13
        },
        {
          "output_type": "display_data",
          "data": {
            "image/png": "[encoded data removed]",
            "text/plain": [
              "<Figure size 432x288 with 1 Axes>"
            ]
          },
          "metadata": {
            "needs_background": "light"
          }
        }
      ]
    }
  ]
}
