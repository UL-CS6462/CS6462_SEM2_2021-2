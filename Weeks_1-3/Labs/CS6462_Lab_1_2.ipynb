{
  "nbformat": 4,
  "nbformat_minor": 0,
  "metadata": {
    "colab": {
      "name": "CS6462_Lab_1_2.ipynb",
      "provenance": []
    },
    "kernelspec": {
      "name": "python3",
      "display_name": "Python 3"
    },
    "language_info": {
      "name": "python"
    }
  },
  "cells": [
    {
      "cell_type": "markdown",
      "source": [
        "<div>\n",
        "<img src=\"https://drive.google.com/uc?export=view&id=1vK33e_EqaHgBHcbRV_m38hx6IkG0blK_\" width=\"350\"/>\n",
        "</div> \n",
        "\n",
        "#**Artificial Intelligence - MSc**\n",
        "\n",
        "##CS6462 - PROBABILISTIC AND EXPLAINABLE AI \n",
        "\n",
        "##SEM2 2021/2\n",
        "\n",
        "###CS6462_Lab_1.2\n",
        "\n",
        "###Instructor: Enrique Naredo\n",
        "Copyright (C) 202 - All rights reserved, do not copy or distribute without permission of the author."
      ],
      "metadata": {
        "id": "WEJFtch8bLR3"
      }
    },
    {
      "cell_type": "markdown",
      "source": [
        "#Probability and Conditions"
      ],
      "metadata": {
        "id": "6KwsSentbaMG"
      }
    },
    {
      "cell_type": "markdown",
      "source": [
        "**Example 1:**\n",
        "\n",
        "A = {0, 2, 4, 6, 8}\n",
        "\n",
        "B = {1, 2, 3, 4, 5}\n",
        "\n",
        "\n",
        "**Output :**\n",
        "\n",
        "* Union : [0, 1, 2, 3, 4, 5, 6, 8]\n",
        "\n",
        "* Intersection : [2, 4]\n",
        "\n",
        "* Difference : [8, 0, 6]\n",
        "\n",
        "* Symmetric difference : [0, 1, 3, 5, 6, 8]\n"
      ],
      "metadata": {
        "id": "zfzjPVT8AkpC"
      }
    },
    {
      "cell_type": "markdown",
      "source": [
        "Code refactored from [GeeksforGeeks](https://www.geeksforgeeks.org/python-set-operations-union-intersection-difference-symmetric-difference/).\n",
        "\n",
        "In Python, below quick operands can be used for different operations.\n",
        "\n",
        "    | for union\n",
        "    & for intersection\n",
        "    – for difference\n",
        "    ^ for symmetric difference"
      ],
      "metadata": {
        "id": "JMciTShrA9V4"
      }
    },
    {
      "cell_type": "code",
      "source": [
        "## Program to perform different set operations\n",
        "# as we do in  mathematics\n",
        "  \n",
        "# sets are defined as\n",
        "A = {0, 2, 4, 6, 8}\n",
        "B = {1, 2, 3, 4, 5}\n",
        "  \n",
        "# union\n",
        "print(\"Union :\", A | B)\n",
        "  \n",
        "# intersection\n",
        "print(\"Intersection :\", A & B)\n",
        "  \n",
        "# difference\n",
        "print(\"Difference :\", A - B)\n",
        "  \n",
        "# symmetric difference\n",
        "print(\"Symmetric difference :\", A ^ B)"
      ],
      "metadata": {
        "colab": {
          "base_uri": "https://localhost:8080/"
        },
        "id": "j3NnmKbDA4Yd",
        "outputId": "62f22a76-6037-49f3-9eb8-60648db2385b"
      },
      "execution_count": null,
      "outputs": [
        {
          "output_type": "stream",
          "name": "stdout",
          "text": [
            "Union : {0, 1, 2, 3, 4, 5, 6, 8}\n",
            "Intersection : {2, 4}\n",
            "Difference : {0, 8, 6}\n",
            "Symmetric difference : {0, 1, 3, 5, 6, 8}\n"
          ]
        }
      ]
    },
    {
      "cell_type": "markdown",
      "source": [
        "**Conditional Probability**\n",
        "\n",
        "* simplify the specification of probabilities by describing them in terms of conditional probabilities\n",
        "* defined as the ”likelihood of an event occurring, based on the occurrence of another event”:\n",
        "\n",
        "the conditional probability P(E|F) of an event E given an event F, is the probability that E occurs given that F has occurred\n",
        "\n",
        "**Examples**:\n",
        "* X = tossing a die; determine the probability that a 2 was rolled, GIVEN an even number has been rolled\n",
        "* S = {1, 2, 3, 4, 5, 6}\n",
        "* E = {2}; an event \"the number is 2\"\n",
        "* F = {2, 4, 6}; an event \"the number is even\"\n",
        "* P(E|F) = P(E∩F) / P(F)"
      ],
      "metadata": {
        "id": "CbzFHwWFbYAu"
      }
    },
    {
      "cell_type": "code",
      "source": [
        "# Empty Set\n",
        "S = {}\n",
        "\n",
        "# Probabilities for\n",
        "# each die face\n",
        "S[1] = 1/6\n",
        "S[2] = 1/6\n",
        "S[3] = 1/6\n",
        "S[4] = 1/6\n",
        "S[5] = 1/6\n",
        "S[6] = 1/6\n",
        "\n",
        "S"
      ],
      "metadata": {
        "colab": {
          "base_uri": "https://localhost:8080/"
        },
        "id": "FCrcQEqoQaBg",
        "outputId": "7f40a773-5ae3-4068-8cdc-a0e0a190bff5"
      },
      "execution_count": null,
      "outputs": [
        {
          "output_type": "execute_result",
          "data": {
            "text/plain": [
              "{1: 0.16666666666666666,\n",
              " 2: 0.16666666666666666,\n",
              " 3: 0.16666666666666666,\n",
              " 4: 0.16666666666666666,\n",
              " 5: 0.16666666666666666,\n",
              " 6: 0.16666666666666666}"
            ]
          },
          "metadata": {},
          "execution_count": 31
        }
      ]
    },
    {
      "cell_type": "code",
      "source": [
        "# sum of all probabilities\n",
        "All = sum(S.values())\n",
        "print(All)"
      ],
      "metadata": {
        "colab": {
          "base_uri": "https://localhost:8080/"
        },
        "id": "qdugrhrxTTTu",
        "outputId": "c7d3f7da-d6de-4041-aa6f-70305c5553e2"
      },
      "execution_count": null,
      "outputs": [
        {
          "output_type": "stream",
          "name": "stdout",
          "text": [
            "0.9999999999999999\n"
          ]
        }
      ]
    },
    {
      "cell_type": "code",
      "source": [
        "# an event \"the number is 2\"\n",
        "event = S[2]\n",
        "print(event)"
      ],
      "metadata": {
        "colab": {
          "base_uri": "https://localhost:8080/"
        },
        "id": "4ytqvbHhUI2M",
        "outputId": "9034b483-8cde-42ee-ddcd-c718fce86fed"
      },
      "execution_count": null,
      "outputs": [
        {
          "output_type": "stream",
          "name": "stdout",
          "text": [
            "0.16666666666666666\n"
          ]
        }
      ]
    },
    {
      "cell_type": "code",
      "source": [
        "# an event \"the number is even\"\n",
        "# even = {2, 4, 6}\n",
        "number_even = S[2]+S[4]+S[6]\n",
        "print(number_even)"
      ],
      "metadata": {
        "colab": {
          "base_uri": "https://localhost:8080/"
        },
        "id": "76EAziiYUIyX",
        "outputId": "6bc3530d-6ca6-4d8d-ccde-044fbc8666b6"
      },
      "execution_count": null,
      "outputs": [
        {
          "output_type": "stream",
          "name": "stdout",
          "text": [
            "0.5\n"
          ]
        }
      ]
    },
    {
      "cell_type": "code",
      "source": [
        "# E = {2}; an event \"the number is 2\"\n",
        "E = {2}\n",
        "\n",
        "# F = {2, 4, 6}; an event \"the number is even\"\n",
        "F = {2, 4, 6}\n",
        "\n",
        "# P(E∩F)\n",
        "E_inters_F = E & F\n",
        "print(E_inters_F)"
      ],
      "metadata": {
        "colab": {
          "base_uri": "https://localhost:8080/"
        },
        "id": "aqu7G2dmZFn_",
        "outputId": "499a4a05-78fd-4ec4-e164-8cfba4d42c48"
      },
      "execution_count": null,
      "outputs": [
        {
          "output_type": "stream",
          "name": "stdout",
          "text": [
            "{2}\n"
          ]
        }
      ]
    },
    {
      "cell_type": "code",
      "source": [
        "# P(F)\n",
        "prob_F = number_even\n",
        "\n",
        "# P(E∩F)\n",
        "prob_E_inters_F = S[2]\n",
        "\n",
        "# P(E|F) = P(E∩F) / P(F)\n",
        "prob_E_given_F = prob_E_inters_F / prob_F\n",
        "\n",
        "# 1/3\n",
        "print(prob_E_given_F)"
      ],
      "metadata": {
        "colab": {
          "base_uri": "https://localhost:8080/"
        },
        "id": "i8ieMHKwaQcj",
        "outputId": "38409ea9-9dd9-47e3-fad4-ad573e1e9980"
      },
      "execution_count": null,
      "outputs": [
        {
          "output_type": "stream",
          "name": "stdout",
          "text": [
            "0.3333333333333333\n"
          ]
        }
      ]
    }
  ]
}
