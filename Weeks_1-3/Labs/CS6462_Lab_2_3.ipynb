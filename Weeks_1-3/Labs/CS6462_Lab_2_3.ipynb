{
  "nbformat": 4,
  "nbformat_minor": 0,
  "metadata": {
    "colab": {
      "name": "CS6462_Lab_2_3.ipynb",
      "provenance": []
    },
    "kernelspec": {
      "name": "python3",
      "display_name": "Python 3"
    },
    "language_info": {
      "name": "python"
    }
  },
  "cells": [
    {
      "cell_type": "markdown",
      "source": [
        "<div>\n",
        "<img src=\"https://drive.google.com/uc?export=view&id=1vK33e_EqaHgBHcbRV_m38hx6IkG0blK_\" width=\"350\"/>\n",
        "</div> \n",
        "\n",
        "#**Artificial Intelligence - MSc**\n",
        "\n",
        "##CS6462 - PROBABILISTIC AND EXPLAINABLE AI \n",
        "\n",
        "##SEM2 2021/2\n",
        "\n",
        "###CS6462_Lab_2.3\n",
        "\n",
        "###Instructor: Enrique Naredo\n",
        "Copyright (C) 202 - All rights reserved, do not copy or distribute without permission of the author."
      ],
      "metadata": {
        "id": "WloB7i6znYlz"
      }
    },
    {
      "cell_type": "markdown",
      "source": [
        "#Calculate Exact Card Probabilities Numerically"
      ],
      "metadata": {
        "id": "Km7A3JsgnpaU"
      }
    },
    {
      "cell_type": "markdown",
      "source": [
        "We will learn how we can get the exact probability using Python. \n",
        "\n",
        "* This is not always applicable but let’s try to solve the questions of Part 1.\n",
        "\n",
        "* The logic here is to generate all the possible combinations and then to calculate the ratio. "
      ],
      "metadata": {
        "id": "HzexoNCWnxZe"
      }
    },
    {
      "cell_type": "code",
      "source": [
        "# importing modules\n",
        "import itertools"
      ],
      "metadata": {
        "id": "rPpVhr61oPrY"
      },
      "execution_count": null,
      "outputs": []
    },
    {
      "cell_type": "code",
      "execution_count": null,
      "metadata": {
        "colab": {
          "base_uri": "https://localhost:8080/"
        },
        "id": "MGAaD8ZznVAO",
        "outputId": "e288bce3-4f03-42e6-ed25-6a03e5c7bd78"
      },
      "outputs": [
        {
          "output_type": "execute_result",
          "data": {
            "text/plain": [
              "[('A', 'Spade'),\n",
              " ('A', 'Heart'),\n",
              " ('A', 'Diamond'),\n",
              " ('A', 'Club'),\n",
              " ('2', 'Spade'),\n",
              " ('2', 'Heart'),\n",
              " ('2', 'Diamond'),\n",
              " ('2', 'Club'),\n",
              " ('3', 'Spade'),\n",
              " ('3', 'Heart'),\n",
              " ('3', 'Diamond'),\n",
              " ('3', 'Club'),\n",
              " ('4', 'Spade'),\n",
              " ('4', 'Heart'),\n",
              " ('4', 'Diamond'),\n",
              " ('4', 'Club'),\n",
              " ('5', 'Spade'),\n",
              " ('5', 'Heart'),\n",
              " ('5', 'Diamond'),\n",
              " ('5', 'Club'),\n",
              " ('6', 'Spade'),\n",
              " ('6', 'Heart'),\n",
              " ('6', 'Diamond'),\n",
              " ('6', 'Club'),\n",
              " ('7', 'Spade'),\n",
              " ('7', 'Heart'),\n",
              " ('7', 'Diamond'),\n",
              " ('7', 'Club'),\n",
              " ('8', 'Spade'),\n",
              " ('8', 'Heart'),\n",
              " ('8', 'Diamond'),\n",
              " ('8', 'Club'),\n",
              " ('9', 'Spade'),\n",
              " ('9', 'Heart'),\n",
              " ('9', 'Diamond'),\n",
              " ('9', 'Club'),\n",
              " ('10', 'Spade'),\n",
              " ('10', 'Heart'),\n",
              " ('10', 'Diamond'),\n",
              " ('10', 'Club'),\n",
              " ('J', 'Spade'),\n",
              " ('J', 'Heart'),\n",
              " ('J', 'Diamond'),\n",
              " ('J', 'Club'),\n",
              " ('Q', 'Spade'),\n",
              " ('Q', 'Heart'),\n",
              " ('Q', 'Diamond'),\n",
              " ('Q', 'Club'),\n",
              " ('K', 'Spade'),\n",
              " ('K', 'Heart'),\n",
              " ('K', 'Diamond'),\n",
              " ('K', 'Club')]"
            ]
          },
          "metadata": {},
          "execution_count": 5
        }
      ],
      "source": [
        "# make a deck of cards\n",
        "deck = list(itertools.product(\n",
        "    ['A', '2', '3', '4', '5', '6', '7', '8', '9', '10', 'J', 'Q', 'K'],\n",
        "    ['Spade','Heart','Diamond','Club'])\n",
        ")\n",
        "\n",
        "# show deck\n",
        "deck"
      ]
    },
    {
      "cell_type": "markdown",
      "source": [
        "**Question 1:**\n",
        "\n",
        "* How we can get all the possible 5-hand cards of a 52-card deck?\n",
        "\n",
        "* Combinations: $$ {52\\choose 5} = 2,598,960 $$"
      ],
      "metadata": {
        "id": "LSg-H80QpTcZ"
      }
    },
    {
      "cell_type": "code",
      "source": [
        "from itertools import combinations\n",
        "\n",
        "# get the (52 5) combinations\n",
        "all_possible_by_5_combinations = list(combinations(deck,5))\n",
        "\n",
        "# show the number of combinations\n",
        "len(all_possible_by_5_combinations)"
      ],
      "metadata": {
        "colab": {
          "base_uri": "https://localhost:8080/"
        },
        "id": "kMqqisAAoIlM",
        "outputId": "7f489dd3-fc0e-4e14-9e0d-b8a0a9117c8f"
      },
      "execution_count": null,
      "outputs": [
        {
          "output_type": "execute_result",
          "data": {
            "text/plain": [
              "2598960"
            ]
          },
          "metadata": {},
          "execution_count": 6
        }
      ]
    },
    {
      "cell_type": "markdown",
      "source": [
        "**Question 2:**\n",
        "\n",
        "What is the probability that when two cards are drawn from a deck of cards without a replacement that both of them will be Ace? "
      ],
      "metadata": {
        "id": "R-9ln-Jwp11p"
      }
    },
    {
      "cell_type": "code",
      "source": [
        "# event \n",
        "Aces = 0\n",
        "\n",
        "# get the (52 2) combinations\n",
        "all_possible_by_2_combinations = list(combinations(deck,2))\n",
        "\n",
        "# verify the event occurs in every hand\n",
        "for card in all_possible_by_2_combinations:\n",
        "    # count faces in each 2-card hand\n",
        "    if [d[0] for d in card].count('A') == 2:\n",
        "        # add one event if there are two aces\n",
        "        Aces+=1\n",
        "\n",
        "# compute the probability of the event\n",
        "prob = Aces / len(all_possible_by_2_combinations)\n",
        "\n",
        "# show the probability\n",
        "prob"
      ],
      "metadata": {
        "id": "xA3QJ4_Mp9t1",
        "colab": {
          "base_uri": "https://localhost:8080/"
        },
        "outputId": "7926f4af-11bb-4284-aa93-46f1c6b4f48f"
      },
      "execution_count": 8,
      "outputs": [
        {
          "output_type": "execute_result",
          "data": {
            "text/plain": [
              "0.004524886877828055"
            ]
          },
          "metadata": {},
          "execution_count": 8
        }
      ]
    },
    {
      "cell_type": "markdown",
      "source": [
        "**Question 3:**\n",
        "\n",
        "What is the probability of two Aces in 5-card hand without replacement?"
      ],
      "metadata": {
        "id": "Dq8PPcHKrvlW"
      }
    },
    {
      "cell_type": "code",
      "source": [
        "# event \n",
        "Aces = 0\n",
        "\n",
        "# verify the event occurs in every hand\n",
        "for card in all_possible_by_5_combinations:\n",
        "    # count faces in each 2-card hand\n",
        "    if [d[0] for d in card].count('A') == 2:\n",
        "        # add one event if there are two aces\n",
        "        Aces+=1\n",
        "\n",
        "# compute the probability of the event        \n",
        "prob = Aces / len(all_possible_by_5_combinations)\n",
        "\n",
        "# show the probability\n",
        "prob"
      ],
      "metadata": {
        "colab": {
          "base_uri": "https://localhost:8080/"
        },
        "id": "GwgZ8SvPr5iK",
        "outputId": "9cc90656-33c6-4915-9985-d3d887471e35"
      },
      "execution_count": 9,
      "outputs": [
        {
          "output_type": "execute_result",
          "data": {
            "text/plain": [
              "0.03992981808107859"
            ]
          },
          "metadata": {},
          "execution_count": 9
        }
      ]
    },
    {
      "cell_type": "markdown",
      "source": [
        "**Question 4:**\n",
        "\n",
        "What is the probability of being dealt a flush (5 cards of all the same suit) from the first 5 cards in a deck? "
      ],
      "metadata": {
        "id": "Cfu3LiXOsdan"
      }
    },
    {
      "cell_type": "code",
      "source": [
        "# event \n",
        "flushes  = 0\n",
        "\n",
        "# verify the event occurs in every hand\n",
        "for card in all_possible_by_5_combinations:\n",
        "    # count suits in each 5-card hand\n",
        "    flush = [d[1] for d in card]\n",
        "    # add one event if all 5 cards of all the same suit\n",
        "    if len(set(flush))== 1:\n",
        "        flushes+=1\n",
        "\n",
        "# compute the probability of the event \n",
        "prob = flushes / len(all_possible_by_5_combinations)\n",
        "\n",
        "# show the probability\n",
        "prob"
      ],
      "metadata": {
        "colab": {
          "base_uri": "https://localhost:8080/"
        },
        "id": "GbTR4hhxspBH",
        "outputId": "3dd8bbcc-6a8c-4a40-e49c-9ffcd3bf5049"
      },
      "execution_count": 10,
      "outputs": [
        {
          "output_type": "execute_result",
          "data": {
            "text/plain": [
              "0.0019807923169267707"
            ]
          },
          "metadata": {},
          "execution_count": 10
        }
      ]
    },
    {
      "cell_type": "markdown",
      "source": [
        " **Question 5:**\n",
        " \n",
        " What is the probability of being dealt a royal flush from the first 5 cards in a deck?"
      ],
      "metadata": {
        "id": "xDvahuUytTqC"
      }
    },
    {
      "cell_type": "code",
      "source": [
        "# event\n",
        "royal_flushes = 0\n",
        "\n",
        "# verify the event occurs in every hand\n",
        "for card in all_possible_by_5_combinations:\n",
        "    # count suits in each 5-card hand\n",
        "    flush = [d[1] for d in card]\n",
        "    # and then faces\n",
        "    face = [d[0] for d in card]\n",
        "    # add one event if the 5 cards dealt a royal flush \n",
        "    if len(set(flush))== 1 and sorted(['A','J', 'Q', 'K', '10'])==sorted(face):\n",
        "        royal_flushes +=1\n",
        "\n",
        "# compute the probability of the event        \n",
        "prob = royal_flushes  / len(all_possible_by_5_combinations)\n",
        "\n",
        "# show the probability\n",
        "prob"
      ],
      "metadata": {
        "colab": {
          "base_uri": "https://localhost:8080/"
        },
        "id": "jOyXGjhitawL",
        "outputId": "9c316520-f59b-4808-8087-d63d11255a34"
      },
      "execution_count": 11,
      "outputs": [
        {
          "output_type": "execute_result",
          "data": {
            "text/plain": [
              "1.5390771693292702e-06"
            ]
          },
          "metadata": {},
          "execution_count": 11
        }
      ]
    }
  ]
}
