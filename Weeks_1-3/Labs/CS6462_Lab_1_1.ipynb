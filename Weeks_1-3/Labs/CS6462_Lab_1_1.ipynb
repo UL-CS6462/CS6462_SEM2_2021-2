{
  "nbformat": 4,
  "nbformat_minor": 0,
  "metadata": {
    "colab": {
      "name": "CS6462_Lab_1_1.ipynb",
      "provenance": []
    },
    "kernelspec": {
      "name": "python3",
      "display_name": "Python 3"
    },
    "language_info": {
      "name": "python"
    }
  },
  "cells": [
    {
      "cell_type": "markdown",
      "source": [
        "<div>\n",
        "<img src=\"https://drive.google.com/uc?export=view&id=1vK33e_EqaHgBHcbRV_m38hx6IkG0blK_\" width=\"350\"/>\n",
        "</div> \n",
        "\n",
        "#**Artificial Intelligence - MSc**\n",
        "\n",
        "##CS6462 - PROBABILISTIC AND EXPLAINABLE AI \n",
        "\n",
        "##SEM2 2021/2\n",
        "\n",
        "###CS6462_Lab_1.1\n",
        "\n",
        "###Instructor: Enrique Naredo\n",
        "Copyright (C) 2022 - Copy or distribution not allowed outside this module"
      ],
      "metadata": {
        "id": "GYROJTdFoMLH"
      }
    },
    {
      "cell_type": "markdown",
      "source": [
        "##Probability\n",
        "\n",
        "*Definition*\n",
        "\n",
        "* mathematics concerned with numerical descriptions of how likely an event is to occur;\n",
        "* degree of belief of an experiment X (or phenomena) where all possible outcomes are known (denoted as sample space S);\n",
        "* any subset of S is called an event E;\n",
        "* event E occurs if the outcome of experiment X is contained in E."
      ],
      "metadata": {
        "id": "WVEYCsjBpiXZ"
      }
    },
    {
      "cell_type": "markdown",
      "source": [
        "##Tossing a coin"
      ],
      "metadata": {
        "id": "Vl_VqzgdHQSZ"
      }
    },
    {
      "cell_type": "markdown",
      "source": [
        "*Example 1*\n",
        "\n",
        "* $ X = $ tossing a coin twice\n",
        "* $ S = \\{hh,ht,th,tt\\}$\n",
        "* $ E = \\{hh, ht\\}$ event “the first toss results in a Head”"
      ],
      "metadata": {
        "id": "A60TordM7Mkp"
      }
    },
    {
      "cell_type": "code",
      "source": [
        "## Boolean function\n",
        "# run several times this cell\n",
        "# to get a random result each time\n",
        "\n",
        "# import the random library\n",
        "import random\n",
        "\n",
        "# since a coin has two sides\n",
        "# we can use a Boolean function\n",
        "# random.choice generates a random sample from a given 1-D array\n",
        "random.choice([True,False])"
      ],
      "metadata": {
        "colab": {
          "base_uri": "https://localhost:8080/"
        },
        "id": "WJnsEi9Jq_SW",
        "outputId": "501a8420-88a7-4279-f106-829cf5452acb"
      },
      "execution_count": null,
      "outputs": [
        {
          "output_type": "execute_result",
          "data": {
            "text/plain": [
              "True"
            ]
          },
          "metadata": {},
          "execution_count": 26
        }
      ]
    },
    {
      "cell_type": "code",
      "source": [
        "## Event: tossing a coin\n",
        "random.choice(['Head','Tail'])"
      ],
      "metadata": {
        "colab": {
          "base_uri": "https://localhost:8080/",
          "height": 35
        },
        "id": "lFYI05tH9wjq",
        "outputId": "02a85c3d-8e77-4d0c-a4a3-431d2253e896"
      },
      "execution_count": null,
      "outputs": [
        {
          "output_type": "execute_result",
          "data": {
            "application/vnd.google.colaboratory.intrinsic+json": {
              "type": "string"
            },
            "text/plain": [
              "'Tail'"
            ]
          },
          "metadata": {},
          "execution_count": 36
        }
      ]
    },
    {
      "cell_type": "code",
      "source": [
        "## Event: tossing a coin\n",
        "\n",
        "# another way to simulate the event\n",
        "flip = random.random()\n",
        "# here we need a threshold\n",
        "# in this case we assume the coin is fare\n",
        "# then it has 50% (0.5) chances each side\n",
        "print('Head' if flip < 0.5 else 'Tail')"
      ],
      "metadata": {
        "colab": {
          "base_uri": "https://localhost:8080/"
        },
        "id": "2i7SeILP_K-r",
        "outputId": "66d27707-bfd0-4d36-ccdf-8466494334ef"
      },
      "execution_count": null,
      "outputs": [
        {
          "output_type": "stream",
          "name": "stdout",
          "text": [
            "Head\n"
          ]
        }
      ]
    },
    {
      "cell_type": "code",
      "source": [
        "# Run several events\n",
        "\n",
        "# starts from 0 and ends in 5\n",
        "for i in range(5):\n",
        "  flip = random.choice(['Head','Tail'])\n",
        "  print(f'You flipped {flip}')"
      ],
      "metadata": {
        "colab": {
          "base_uri": "https://localhost:8080/"
        },
        "id": "x9ithv8x-jSh",
        "outputId": "dc051290-fa05-4338-9ee1-2851c17bc9d5"
      },
      "execution_count": null,
      "outputs": [
        {
          "output_type": "stream",
          "name": "stdout",
          "text": [
            "You flipped Head\n",
            "You flipped Head\n",
            "You flipped Head\n",
            "You flipped Tail\n",
            "You flipped Head\n"
          ]
        }
      ]
    },
    {
      "cell_type": "markdown",
      "source": [
        "**Exercise-1a**\n",
        "\n",
        "Write a code to flip 'n' times the coin.\n"
      ],
      "metadata": {
        "id": "lXl7lCevCTY2"
      }
    },
    {
      "cell_type": "code",
      "source": [
        "# Here your code\n",
        "\n",
        "\n"
      ],
      "metadata": {
        "id": "l32PSkvQCi2B"
      },
      "execution_count": null,
      "outputs": []
    },
    {
      "cell_type": "markdown",
      "source": [
        "**Build a function to flip a coin**"
      ],
      "metadata": {
        "id": "IM4CwB9dDRoX"
      }
    },
    {
      "cell_type": "code",
      "source": [
        "# function to flip a coin\n",
        "def TossCoin():\n",
        "  flip = random.choice(['Head','Tail'])\n",
        "  return flip"
      ],
      "metadata": {
        "id": "IAcPxpbqBaoe"
      },
      "execution_count": null,
      "outputs": []
    },
    {
      "cell_type": "code",
      "source": [
        "## driving example\n",
        "# run this cell to try the function\n",
        "TossCoin()"
      ],
      "metadata": {
        "colab": {
          "base_uri": "https://localhost:8080/",
          "height": 35
        },
        "id": "jOfV8m8gD-J0",
        "outputId": "33b70307-4bc2-429d-8ddd-620f2ba87cb2"
      },
      "execution_count": null,
      "outputs": [
        {
          "output_type": "execute_result",
          "data": {
            "application/vnd.google.colaboratory.intrinsic+json": {
              "type": "string"
            },
            "text/plain": [
              "'Tail'"
            ]
          },
          "metadata": {},
          "execution_count": 67
        }
      ]
    },
    {
      "cell_type": "markdown",
      "source": [
        "**Exercise-1b**\n",
        "\n",
        "Write a function to fli a  coin with random.random()\n"
      ],
      "metadata": {
        "id": "abo2dePLFSvN"
      }
    },
    {
      "cell_type": "code",
      "source": [
        "# Here your code\n",
        "\n",
        "\n"
      ],
      "metadata": {
        "id": "ocpFsfbwFSvQ"
      },
      "execution_count": null,
      "outputs": []
    },
    {
      "cell_type": "code",
      "source": [
        "# random boolean \n",
        "numbits = 1\n",
        "random.getrandbits(numbits)"
      ],
      "metadata": {
        "colab": {
          "base_uri": "https://localhost:8080/"
        },
        "id": "Lcnxc3aVLgBK",
        "outputId": "d1aac527-c700-44fc-e32f-e81379549bd5"
      },
      "execution_count": null,
      "outputs": [
        {
          "output_type": "execute_result",
          "data": {
            "text/plain": [
              "1"
            ]
          },
          "metadata": {},
          "execution_count": 96
        }
      ]
    },
    {
      "cell_type": "code",
      "source": [
        "## Fair coin probability approximation\n",
        "\n",
        "# count the number of times we get heads\n",
        "HeadCounter = 0 \n",
        "N = 1000000\n",
        "\n",
        "# run the experiment a huge number of times\n",
        "for _ in range(N):\n",
        "    HeadCounter += random.getrandbits(1)\n",
        "\n",
        "# Heads\n",
        "TotalHeads = HeadCounter / N * 100\n",
        "\n",
        "# Tails\n",
        "TotalTails = 100 - TotalHeads\n",
        "\n",
        "# Print the results as percentage of total number of iterations\n",
        "print(f\"The probability of getting head is {TotalHeads}%\")\n",
        "print(f\"The probability of getting tail is {TotalTails}%\")\n"
      ],
      "metadata": {
        "colab": {
          "base_uri": "https://localhost:8080/"
        },
        "id": "IVQoltbBI7t-",
        "outputId": "2b193fcb-9e8c-4dcf-dc28-5e91fd683118"
      },
      "execution_count": null,
      "outputs": [
        {
          "output_type": "stream",
          "name": "stdout",
          "text": [
            "The probability of getting head is 49.984%\n",
            "The probability of getting tail is 50.016%\n"
          ]
        }
      ]
    },
    {
      "cell_type": "markdown",
      "source": [
        "##Rolling a die"
      ],
      "metadata": {
        "id": "oNu2pKEUHaqx"
      }
    },
    {
      "cell_type": "markdown",
      "source": [
        "*Example 2*\n",
        "\n",
        "* $ X = $ rolling a die \n",
        "* $ S = \\{1, 2, 3, 4, 5, 6\\} $\n",
        "* $ E = \\{2, 4, 6\\} - $ an event \"the number is even\""
      ],
      "metadata": {
        "id": "IBF8YUYH7Jv6"
      }
    },
    {
      "cell_type": "code",
      "source": [
        "## Event: rolling a die\n",
        "\n",
        "# in Python index starts from 0\n",
        "# and a die has six sides\n",
        "die = random.randint(0, 5)\n",
        "print(\"Die landed on % s\" % (die))"
      ],
      "metadata": {
        "colab": {
          "base_uri": "https://localhost:8080/"
        },
        "id": "1MyzjrUx7obX",
        "outputId": "2fb9ce2e-cb98-4f6c-a9d6-4c2e399a62b5"
      },
      "execution_count": null,
      "outputs": [
        {
          "output_type": "stream",
          "name": "stdout",
          "text": [
            "Die landed on 3\n"
          ]
        }
      ]
    },
    {
      "cell_type": "code",
      "source": [
        "# function to rolling a die\n",
        "\n",
        "def RollingDie():\n",
        "  return random.randint(0, 5)"
      ],
      "metadata": {
        "id": "-UPGM_-XQONh"
      },
      "execution_count": null,
      "outputs": []
    },
    {
      "cell_type": "code",
      "source": [
        "# Run several events\n",
        "\n",
        "for i in range(4):\n",
        "  print(\"Die landed on % s\" % RollingDie())"
      ],
      "metadata": {
        "colab": {
          "base_uri": "https://localhost:8080/"
        },
        "id": "8ab-EagdQDE7",
        "outputId": "4744cf54-f583-4667-8823-8ab48fc980b3"
      },
      "execution_count": null,
      "outputs": [
        {
          "output_type": "stream",
          "name": "stdout",
          "text": [
            "Die landed on 1\n",
            "Die landed on 5\n",
            "Die landed on 3\n",
            "Die landed on 2\n"
          ]
        }
      ]
    },
    {
      "cell_type": "code",
      "source": [
        "## Fair die probability approximation\n",
        "\n",
        "# count the number of times each side landed\n",
        "ONE=TWO=THREE=FOUR=FIVE=SIX = 0 \n",
        "N = 1000000\n",
        "\n",
        "# run the experiment a huge number of times\n",
        "for _ in range(N):\n",
        "  face = RollingDie()\n",
        "  if face == 0:\n",
        "    ONE+=1\n",
        "  if face == 1:\n",
        "    TWO+=1\n",
        "  if face == 2:\n",
        "    THREE+=1    \n",
        "  if face == 3:\n",
        "    FOUR+=1\n",
        "  if face == 4:\n",
        "    FIVE+=1    \n",
        "  if face == 5:\n",
        "    SIX+=1\n",
        "\n",
        "# Print the results as percentage of total number of iterations\n",
        "print(f\"The probability of getting ONE is {ONE/N*100}%\")\n",
        "print(f\"The probability of getting TWO is {TWO/N*100}%\")\n",
        "print(f\"The probability of getting THREE is {THREE/N*100}%\")\n",
        "print(f\"The probability of getting FOUR is {FOUR/N*100}%\")\n",
        "print(f\"The probability of getting FIVE is {FIVE/N*100}%\")\n",
        "print(f\"The probability of getting SIX is {SIX/N*100}%\")"
      ],
      "metadata": {
        "colab": {
          "base_uri": "https://localhost:8080/"
        },
        "id": "fe0DUMyvRIkV",
        "outputId": "3934278f-5343-4b15-d5ad-d74ab5e4b34c"
      },
      "execution_count": null,
      "outputs": [
        {
          "output_type": "stream",
          "name": "stdout",
          "text": [
            "The probability of getting ONE is 16.613%\n",
            "The probability of getting TWO is 16.6611%\n",
            "The probability of getting THREE is 16.761%\n",
            "The probability of getting FOUR is 16.6285%\n",
            "The probability of getting FIVE is 16.677%\n",
            "The probability of getting SIX is 16.659399999999998%\n"
          ]
        }
      ]
    },
    {
      "cell_type": "markdown",
      "source": [
        "**Here you have a Dice rolling simulator**\n",
        "\n",
        "The code is refactored and taken from [GeeksforGeeks](https://www.geeksforgeeks.org/dice-rolling-simulator-using-python-random/)"
      ],
      "metadata": {
        "id": "a9BzhR54yok_"
      }
    },
    {
      "cell_type": "code",
      "source": [
        "## Dice rolling simulator\n",
        "\"\"\"\n",
        "  Dice rolling simulator\n",
        "  code refactored from GeeksforGeeks:\n",
        "  https://www.geeksforgeeks.org/dice-rolling-simulator-using-python-random/\n",
        "\n",
        "\"\"\"\n",
        "\n",
        "# random library\n",
        "import random\n",
        "\n",
        "# string var\n",
        "x = \"y\"\n",
        "\n",
        "# Will continue if you hit 'y'\n",
        "while x == \"y\":\t\n",
        "\t# Generates a random number\n",
        "\t# between 1 and 6 (including\n",
        "\t# both 1 and 6)\n",
        "\tnumber = random.randint(1,6)\n",
        "\t\n",
        "  # case 1\n",
        "\tif number == 1:\n",
        "\t\tprint(\" ----- \")\n",
        "\t\tprint(\"|     |\")\n",
        "\t\tprint(\"|  0  |\")\n",
        "\t\tprint(\"|     |\")\n",
        "\t\tprint(\" ----- \")\n",
        "  # case 2\n",
        "\tif number == 2:\n",
        "\t\tprint(\" ----- \")\n",
        "\t\tprint(\"|  0  |\")\n",
        "\t\tprint(\"|     |\")\n",
        "\t\tprint(\"|  0  |\")\n",
        "\t\tprint(\" ----- \")\n",
        "  # case 3\n",
        "\tif number == 3:\n",
        "\t\tprint(\" ----- \")\n",
        "\t\tprint(\"|     |\")\n",
        "\t\tprint(\"|0 0 0|\")\n",
        "\t\tprint(\"|     |\")\n",
        "\t\tprint(\" ----- \")\n",
        "  # case 4\n",
        "\tif number == 4:\n",
        "\t\tprint(\" ----- \")\n",
        "\t\tprint(\"| 0 0 |\")\n",
        "\t\tprint(\"|     |\")\n",
        "\t\tprint(\"| 0 0 |\")\n",
        "\t\tprint(\" ----- \")\n",
        "  # case 5\n",
        "\tif number == 5:\n",
        "\t\tprint(\" -----\")\n",
        "\t\tprint(\"| 0 0 |\")\n",
        "\t\tprint(\"|  0  |\")\n",
        "\t\tprint(\"| 0 0 |\")\n",
        "\t\tprint(\" ----- \")\n",
        "  # case 6\n",
        "\tif number == 6:\n",
        "\t\tprint(\" ----- \")\n",
        "\t\tprint(\"|0 0 0|\")\n",
        "\t\tprint(\"|     |\")\n",
        "\t\tprint(\"|0 0 0|\")\n",
        "\t\tprint(\" ----- \")\n",
        "\n",
        "  # message to display and showing a text box \n",
        "\tx = input(\"Enter'y' to roll again or 'n' to exit:\")\n",
        "\tprint(\"\\n\")"
      ],
      "metadata": {
        "colab": {
          "base_uri": "https://localhost:8080/"
        },
        "id": "vcSIjRSzq_P7",
        "outputId": "168aef0b-cb04-429c-d4fe-3e69a039a401"
      },
      "execution_count": null,
      "outputs": [
        {
          "output_type": "stream",
          "name": "stdout",
          "text": [
            " ----- \n",
            "|     |\n",
            "|  0  |\n",
            "|     |\n",
            " ----- \n",
            "Enter'y' to roll again or 'n' to exit:n\n",
            "\n",
            "\n"
          ]
        }
      ]
    },
    {
      "cell_type": "markdown",
      "source": [
        "**Exercise-2a**\n",
        "\n",
        "Write a function to run the Dice rolling simulator."
      ],
      "metadata": {
        "id": "IR9PHaOiVLeb"
      }
    },
    {
      "cell_type": "code",
      "source": [
        "# Here your code\n",
        "\n",
        "def RollingDie2():\n",
        "\n"
      ],
      "metadata": {
        "id": "44P-T0yXVGm9"
      },
      "execution_count": null,
      "outputs": []
    },
    {
      "cell_type": "markdown",
      "source": [
        "**Here you have a nicer Dice rolling simulator**\n",
        "\n",
        "The code is refactored and taken from [RealPython](https://realpython.com/python-dice-roll/)."
      ],
      "metadata": {
        "id": "to7V2vkZLY6Q"
      }
    },
    {
      "cell_type": "code",
      "source": [
        "## Dice rolling simulator\n",
        "\"\"\"\n",
        "  Dice rolling simulator\n",
        "  code refactored from RealPython:\n",
        "  https://realpython.com/python-dice-roll/\n",
        "\"\"\"\n",
        "\n",
        "# string var\n",
        "x = \"y\"\n",
        "\n",
        "# dictionary\n",
        "face = {\n",
        "# case 1\n",
        "1: (\n",
        "\t\t\"┌─────────┐\\n\"\n",
        "\t\t\"│         │\\n\"\n",
        "\t\t\"│    ●    │\\n\"\n",
        "\t\t\"│         │\\n\"\n",
        "\t\t\"└─────────┘\\n\"\n",
        "\t),\n",
        "# case 2\n",
        "2: (\n",
        "\t\t\"┌─────────┐\\n\"\n",
        "\t\t\"│  ●      │\\n\"\n",
        "\t\t\"│         │\\n\"\n",
        "\t\t\"│      ●  │\\n\"\n",
        "\t\t\"└─────────┘\\n\"\n",
        "\t),\n",
        "# case 3\n",
        "3: (\n",
        "\t\t\"┌─────────┐\\n\"\n",
        "\t\t\"│  ●      │\\n\"\n",
        "\t\t\"│    ●    │\\n\"\n",
        "\t\t\"│      ●  │\\n\"\n",
        "\t\t\"└─────────┘\\n\"\n",
        "\t),\n",
        "# case 4\n",
        "4: (\n",
        "\t\t\"┌─────────┐\\n\"\n",
        "\t\t\"│  ●   ●  │\\n\"\n",
        "\t\t\"│         │\\n\"\n",
        "\t\t\"│  ●   ●  │\\n\"\n",
        "\t\t\"└─────────┘\\n\"\n",
        "),\n",
        "# case 5\n",
        "5: (\n",
        "\t\t\"┌─────────┐\\n\"\n",
        "\t\t\"│  ●   ●  │\\n\"\n",
        "\t\t\"│    ●    │\\n\"\n",
        "\t\t\"│  ●   ●  │\\n\"\n",
        "\t\t\"└─────────┘\\n\"\n",
        "\t),\n",
        "# case 6\n",
        "6: (\n",
        "\t\t\"┌─────────┐\\n\"\n",
        "\t\t\"│  ●   ●  │\\n\"\n",
        "\t\t\"│  ●   ●  │\\n\"\n",
        "\t\t\"│  ●   ●  │\\n\"\n",
        "\t\t\"└─────────┘\\n\"\n",
        "\t\t),\n",
        "}\n",
        "\n",
        "# Will continue if you hit 'y'\n",
        "while x == \"y\":\t\n",
        "\t# Generates a random number\n",
        "\t# between 1 and 6 (including\n",
        "\t# both 1 and 6)\n",
        "\tnumber = random.randint(1,6)\t\n",
        "\tprint(face[number])\n",
        "\n",
        "  # message to display and showing a text box \n",
        "\tx = input(\"Enter'y' to roll again or 'n' to exit:\")\n",
        "\tprint(\"\\n\")"
      ],
      "metadata": {
        "colab": {
          "base_uri": "https://localhost:8080/"
        },
        "outputId": "acd86f0e-4c6c-4b4d-af51-2f8037a9e81a",
        "id": "9m4-TSs7YysY"
      },
      "execution_count": null,
      "outputs": [
        {
          "output_type": "stream",
          "name": "stdout",
          "text": [
            "┌─────────┐\n",
            "│  ●   ●  │\n",
            "│    ●    │\n",
            "│  ●   ●  │\n",
            "└─────────┘\n",
            "\n",
            "Enter'y' to roll again or 'n' to exit:y\n",
            "\n",
            "\n",
            "┌─────────┐\n",
            "│  ●      │\n",
            "│         │\n",
            "│      ●  │\n",
            "└─────────┘\n",
            "\n",
            "Enter'y' to roll again or 'n' to exit:y\n",
            "\n",
            "\n",
            "┌─────────┐\n",
            "│  ●   ●  │\n",
            "│  ●   ●  │\n",
            "│  ●   ●  │\n",
            "└─────────┘\n",
            "\n",
            "Enter'y' to roll again or 'n' to exit:y\n",
            "\n",
            "\n",
            "┌─────────┐\n",
            "│  ●   ●  │\n",
            "│         │\n",
            "│  ●   ●  │\n",
            "└─────────┘\n",
            "\n",
            "Enter'y' to roll again or 'n' to exit:y\n",
            "\n",
            "\n",
            "┌─────────┐\n",
            "│  ●      │\n",
            "│    ●    │\n",
            "│      ●  │\n",
            "└─────────┘\n",
            "\n",
            "Enter'y' to roll again or 'n' to exit:y\n",
            "\n",
            "\n",
            "┌─────────┐\n",
            "│         │\n",
            "│    ●    │\n",
            "│         │\n",
            "└─────────┘\n",
            "\n",
            "Enter'y' to roll again or 'n' to exit:y\n",
            "\n",
            "\n",
            "┌─────────┐\n",
            "│  ●   ●  │\n",
            "│  ●   ●  │\n",
            "│  ●   ●  │\n",
            "└─────────┘\n",
            "\n",
            "Enter'y' to roll again or 'n' to exit:y\n",
            "\n",
            "\n",
            "┌─────────┐\n",
            "│         │\n",
            "│    ●    │\n",
            "│         │\n",
            "└─────────┘\n",
            "\n",
            "Enter'y' to roll again or 'n' to exit:y\n",
            "\n",
            "\n",
            "┌─────────┐\n",
            "│  ●   ●  │\n",
            "│         │\n",
            "│  ●   ●  │\n",
            "└─────────┘\n",
            "\n",
            "Enter'y' to roll again or 'n' to exit:n\n",
            "\n",
            "\n"
          ]
        }
      ]
    },
    {
      "cell_type": "markdown",
      "source": [
        "**Exercise-2b**\n",
        "\n",
        "Write a function to run the Dice rolling simulator."
      ],
      "metadata": {
        "id": "5YW1crx8Lxj0"
      }
    },
    {
      "cell_type": "code",
      "source": [
        "# Here your code\n",
        "\n",
        "def RollingDie3():\n",
        "\n",
        "\n",
        "\n",
        "  "
      ],
      "metadata": {
        "id": "NIKyATu2Xg-9"
      },
      "execution_count": null,
      "outputs": []
    }
  ]
}
