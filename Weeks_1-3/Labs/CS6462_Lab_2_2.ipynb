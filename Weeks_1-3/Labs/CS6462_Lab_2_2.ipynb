{
  "nbformat": 4,
  "nbformat_minor": 0,
  "metadata": {
    "colab": {
      "name": "CS6462_Lab_2_2.ipynb",
      "provenance": []
    },
    "kernelspec": {
      "name": "python3",
      "display_name": "Python 3"
    },
    "language_info": {
      "name": "python"
    }
  },
  "cells": [
    {
      "cell_type": "markdown",
      "source": [
        "<div>\n",
        "<img src=\"https://drive.google.com/uc?export=view&id=1vK33e_EqaHgBHcbRV_m38hx6IkG0blK_\" width=\"350\"/>\n",
        "</div> \n",
        "\n",
        "#**Artificial Intelligence - MSc**\n",
        "\n",
        "##CS6462 - PROBABILISTIC AND EXPLAINABLE AI \n",
        "\n",
        "##SEM2 2021/2\n",
        "\n",
        "###CS6462_Lab_2.2\n",
        "\n",
        "###Instructor: Enrique Naredo\n",
        "Copyright (C) 202 - All rights reserved, do not copy or distribute without permission of the author."
      ],
      "metadata": {
        "id": "7PVNHda6TuvG"
      }
    },
    {
      "cell_type": "markdown",
      "source": [
        "#Estimate Card Probabilities with Monte Carlo Simulation"
      ],
      "metadata": {
        "id": "Hzwm-2wbZmap"
      }
    },
    {
      "cell_type": "markdown",
      "source": [
        "Estimate Probabilities of Card Games from [python-bloggers](https://python-bloggers.com/2020/08/estimate-probabilities-of-card-games/)"
      ],
      "metadata": {
        "id": "yCj8RvEaUS4l"
      }
    },
    {
      "cell_type": "markdown",
      "source": [
        "**Generate a Deck of Cards**"
      ],
      "metadata": {
        "id": "vPcebMPEUtJh"
      }
    },
    {
      "cell_type": "code",
      "execution_count": 9,
      "metadata": {
        "colab": {
          "base_uri": "https://localhost:8080/"
        },
        "id": "dtaTaDCpTr8v",
        "outputId": "0e077e0c-eb2a-4b83-9a17-e70c062072e8"
      },
      "outputs": [
        {
          "output_type": "execute_result",
          "data": {
            "text/plain": [
              "[('A', 'Spade'),\n",
              " ('A', 'Heart'),\n",
              " ('A', 'Diamond'),\n",
              " ('A', 'Club'),\n",
              " ('2', 'Spade'),\n",
              " ('2', 'Heart'),\n",
              " ('2', 'Diamond'),\n",
              " ('2', 'Club'),\n",
              " ('3', 'Spade'),\n",
              " ('3', 'Heart'),\n",
              " ('3', 'Diamond'),\n",
              " ('3', 'Club'),\n",
              " ('4', 'Spade'),\n",
              " ('4', 'Heart'),\n",
              " ('4', 'Diamond'),\n",
              " ('4', 'Club'),\n",
              " ('5', 'Spade'),\n",
              " ('5', 'Heart'),\n",
              " ('5', 'Diamond'),\n",
              " ('5', 'Club'),\n",
              " ('6', 'Spade'),\n",
              " ('6', 'Heart'),\n",
              " ('6', 'Diamond'),\n",
              " ('6', 'Club'),\n",
              " ('7', 'Spade'),\n",
              " ('7', 'Heart'),\n",
              " ('7', 'Diamond'),\n",
              " ('7', 'Club'),\n",
              " ('8', 'Spade'),\n",
              " ('8', 'Heart'),\n",
              " ('8', 'Diamond'),\n",
              " ('8', 'Club'),\n",
              " ('9', 'Spade'),\n",
              " ('9', 'Heart'),\n",
              " ('9', 'Diamond'),\n",
              " ('9', 'Club'),\n",
              " ('10', 'Spade'),\n",
              " ('10', 'Heart'),\n",
              " ('10', 'Diamond'),\n",
              " ('10', 'Club'),\n",
              " ('J', 'Spade'),\n",
              " ('J', 'Heart'),\n",
              " ('J', 'Diamond'),\n",
              " ('J', 'Club'),\n",
              " ('Q', 'Spade'),\n",
              " ('Q', 'Heart'),\n",
              " ('Q', 'Diamond'),\n",
              " ('Q', 'Club'),\n",
              " ('K', 'Spade'),\n",
              " ('K', 'Heart'),\n",
              " ('K', 'Diamond'),\n",
              " ('K', 'Club')]"
            ]
          },
          "metadata": {},
          "execution_count": 9
        }
      ],
      "source": [
        "import itertools\n",
        "\n",
        "# make a deck of cards\n",
        "deck = list(itertools.product(\n",
        "    ['A', '2', '3', '4', '5', '6', '7', '8', '9', '10', 'J', 'Q', 'K'],\n",
        "    ['Spade','Heart','Diamond','Club'])\n",
        ")\n",
        "\n",
        "# show the deck\n",
        "# (face, suit)\n",
        "deck"
      ]
    },
    {
      "cell_type": "markdown",
      "source": [
        "**Shuffle the Deck**"
      ],
      "metadata": {
        "id": "AsEq7ovnXNEw"
      }
    },
    {
      "cell_type": "code",
      "source": [
        "import random\n",
        "\n",
        "# shuffle the cards\n",
        "random.shuffle(deck)\n",
        "\n",
        "# deal 10 cards\n",
        "deck[0:10]"
      ],
      "metadata": {
        "colab": {
          "base_uri": "https://localhost:8080/"
        },
        "id": "JM8LuOM7UOC9",
        "outputId": "61ac730a-2c98-4e3a-9596-595fdad789af"
      },
      "execution_count": 11,
      "outputs": [
        {
          "output_type": "execute_result",
          "data": {
            "text/plain": [
              "[('K', 'Diamond'),\n",
              " ('7', 'Diamond'),\n",
              " ('4', 'Diamond'),\n",
              " ('J', 'Club'),\n",
              " ('8', 'Diamond'),\n",
              " ('5', 'Diamond'),\n",
              " ('6', 'Club'),\n",
              " ('2', 'Diamond'),\n",
              " ('A', 'Club'),\n",
              " ('10', 'Spade')]"
            ]
          },
          "metadata": {},
          "execution_count": 11
        }
      ]
    },
    {
      "cell_type": "markdown",
      "source": [
        "**Sort the Deck**\n",
        "\n",
        "For some probabilities where the order does not matter, a good trick is to sort the cards."
      ],
      "metadata": {
        "id": "lz9-CtlQXXCe"
      }
    },
    {
      "cell_type": "code",
      "source": [
        "# sort the deck\n",
        "sorted(deck)"
      ],
      "metadata": {
        "colab": {
          "base_uri": "https://localhost:8080/"
        },
        "id": "fZsMuOS6YQ7R",
        "outputId": "464e7dc1-06fa-4400-92c0-42d0ee9a7041"
      },
      "execution_count": 15,
      "outputs": [
        {
          "output_type": "execute_result",
          "data": {
            "text/plain": [
              "[('10', 'Club'),\n",
              " ('10', 'Diamond'),\n",
              " ('10', 'Heart'),\n",
              " ('10', 'Spade'),\n",
              " ('2', 'Club'),\n",
              " ('2', 'Diamond'),\n",
              " ('2', 'Heart'),\n",
              " ('2', 'Spade'),\n",
              " ('3', 'Club'),\n",
              " ('3', 'Diamond'),\n",
              " ('3', 'Heart'),\n",
              " ('3', 'Spade'),\n",
              " ('4', 'Club'),\n",
              " ('4', 'Diamond'),\n",
              " ('4', 'Heart'),\n",
              " ('4', 'Spade'),\n",
              " ('5', 'Club'),\n",
              " ('5', 'Diamond'),\n",
              " ('5', 'Heart'),\n",
              " ('5', 'Spade'),\n",
              " ('6', 'Club'),\n",
              " ('6', 'Diamond'),\n",
              " ('6', 'Heart'),\n",
              " ('6', 'Spade'),\n",
              " ('7', 'Club'),\n",
              " ('7', 'Diamond'),\n",
              " ('7', 'Heart'),\n",
              " ('7', 'Spade'),\n",
              " ('8', 'Club'),\n",
              " ('8', 'Diamond'),\n",
              " ('8', 'Heart'),\n",
              " ('8', 'Spade'),\n",
              " ('9', 'Club'),\n",
              " ('9', 'Diamond'),\n",
              " ('9', 'Heart'),\n",
              " ('9', 'Spade'),\n",
              " ('A', 'Club'),\n",
              " ('A', 'Diamond'),\n",
              " ('A', 'Heart'),\n",
              " ('A', 'Spade'),\n",
              " ('J', 'Club'),\n",
              " ('J', 'Diamond'),\n",
              " ('J', 'Heart'),\n",
              " ('J', 'Spade'),\n",
              " ('K', 'Club'),\n",
              " ('K', 'Diamond'),\n",
              " ('K', 'Heart'),\n",
              " ('K', 'Spade'),\n",
              " ('Q', 'Club'),\n",
              " ('Q', 'Diamond'),\n",
              " ('Q', 'Heart'),\n",
              " ('Q', 'Spade')]"
            ]
          },
          "metadata": {},
          "execution_count": 15
        }
      ]
    },
    {
      "cell_type": "code",
      "source": [
        "# sort by face: x[0]\n",
        "sorted(deck, key = lambda x: x[0])\n"
      ],
      "metadata": {
        "colab": {
          "base_uri": "https://localhost:8080/"
        },
        "id": "o1YayGfEYTs0",
        "outputId": "b3b3f992-e417-4820-fea0-2649842411e7"
      },
      "execution_count": 16,
      "outputs": [
        {
          "output_type": "execute_result",
          "data": {
            "text/plain": [
              "[('10', 'Spade'),\n",
              " ('10', 'Club'),\n",
              " ('10', 'Heart'),\n",
              " ('10', 'Diamond'),\n",
              " ('2', 'Diamond'),\n",
              " ('2', 'Heart'),\n",
              " ('2', 'Spade'),\n",
              " ('2', 'Club'),\n",
              " ('3', 'Heart'),\n",
              " ('3', 'Club'),\n",
              " ('3', 'Diamond'),\n",
              " ('3', 'Spade'),\n",
              " ('4', 'Diamond'),\n",
              " ('4', 'Heart'),\n",
              " ('4', 'Spade'),\n",
              " ('4', 'Club'),\n",
              " ('5', 'Diamond'),\n",
              " ('5', 'Club'),\n",
              " ('5', 'Spade'),\n",
              " ('5', 'Heart'),\n",
              " ('6', 'Club'),\n",
              " ('6', 'Heart'),\n",
              " ('6', 'Diamond'),\n",
              " ('6', 'Spade'),\n",
              " ('7', 'Diamond'),\n",
              " ('7', 'Heart'),\n",
              " ('7', 'Club'),\n",
              " ('7', 'Spade'),\n",
              " ('8', 'Diamond'),\n",
              " ('8', 'Spade'),\n",
              " ('8', 'Club'),\n",
              " ('8', 'Heart'),\n",
              " ('9', 'Club'),\n",
              " ('9', 'Spade'),\n",
              " ('9', 'Heart'),\n",
              " ('9', 'Diamond'),\n",
              " ('A', 'Club'),\n",
              " ('A', 'Diamond'),\n",
              " ('A', 'Spade'),\n",
              " ('A', 'Heart'),\n",
              " ('J', 'Club'),\n",
              " ('J', 'Diamond'),\n",
              " ('J', 'Spade'),\n",
              " ('J', 'Heart'),\n",
              " ('K', 'Diamond'),\n",
              " ('K', 'Heart'),\n",
              " ('K', 'Club'),\n",
              " ('K', 'Spade'),\n",
              " ('Q', 'Diamond'),\n",
              " ('Q', 'Heart'),\n",
              " ('Q', 'Club'),\n",
              " ('Q', 'Spade')]"
            ]
          },
          "metadata": {},
          "execution_count": 16
        }
      ]
    },
    {
      "cell_type": "code",
      "source": [
        "# sort by suit: x[1]\n",
        "sorted(deck, key = lambda x: x[1])"
      ],
      "metadata": {
        "colab": {
          "base_uri": "https://localhost:8080/"
        },
        "id": "SS_GECIMUN-T",
        "outputId": "2836a1b8-48cd-4e5f-82b9-cc4d39958479"
      },
      "execution_count": 17,
      "outputs": [
        {
          "output_type": "execute_result",
          "data": {
            "text/plain": [
              "[('J', 'Club'),\n",
              " ('6', 'Club'),\n",
              " ('A', 'Club'),\n",
              " ('9', 'Club'),\n",
              " ('5', 'Club'),\n",
              " ('10', 'Club'),\n",
              " ('K', 'Club'),\n",
              " ('8', 'Club'),\n",
              " ('Q', 'Club'),\n",
              " ('7', 'Club'),\n",
              " ('3', 'Club'),\n",
              " ('2', 'Club'),\n",
              " ('4', 'Club'),\n",
              " ('K', 'Diamond'),\n",
              " ('7', 'Diamond'),\n",
              " ('4', 'Diamond'),\n",
              " ('8', 'Diamond'),\n",
              " ('5', 'Diamond'),\n",
              " ('2', 'Diamond'),\n",
              " ('Q', 'Diamond'),\n",
              " ('A', 'Diamond'),\n",
              " ('J', 'Diamond'),\n",
              " ('6', 'Diamond'),\n",
              " ('3', 'Diamond'),\n",
              " ('10', 'Diamond'),\n",
              " ('9', 'Diamond'),\n",
              " ('4', 'Heart'),\n",
              " ('K', 'Heart'),\n",
              " ('7', 'Heart'),\n",
              " ('6', 'Heart'),\n",
              " ('2', 'Heart'),\n",
              " ('5', 'Heart'),\n",
              " ('Q', 'Heart'),\n",
              " ('3', 'Heart'),\n",
              " ('9', 'Heart'),\n",
              " ('10', 'Heart'),\n",
              " ('A', 'Heart'),\n",
              " ('8', 'Heart'),\n",
              " ('J', 'Heart'),\n",
              " ('10', 'Spade'),\n",
              " ('5', 'Spade'),\n",
              " ('A', 'Spade'),\n",
              " ('4', 'Spade'),\n",
              " ('8', 'Spade'),\n",
              " ('2', 'Spade'),\n",
              " ('9', 'Spade'),\n",
              " ('6', 'Spade'),\n",
              " ('K', 'Spade'),\n",
              " ('J', 'Spade'),\n",
              " ('7', 'Spade'),\n",
              " ('Q', 'Spade'),\n",
              " ('3', 'Spade')]"
            ]
          },
          "metadata": {},
          "execution_count": 17
        }
      ]
    },
    {
      "cell_type": "markdown",
      "source": [
        "**Remove Cards from the Deck**\n",
        "\n",
        "Depending on the Games and the problem that we need to solve, sometimes there is a need to remove from the Deck the cards which have already been served. "
      ],
      "metadata": {
        "id": "9m-2uIMgYgAk"
      }
    },
    {
      "cell_type": "code",
      "source": [
        "# assume that card is a tuple like ('J', 'Diamond')\n",
        "card = ('J', 'Diamond')\n",
        "deck.remove(card)  "
      ],
      "metadata": {
        "id": "Og2jaUIjYm2G"
      },
      "execution_count": 19,
      "outputs": []
    },
    {
      "cell_type": "code",
      "source": [
        "# or we can use the pop command where we remove by the index\n",
        "deck.pop(0)"
      ],
      "metadata": {
        "colab": {
          "base_uri": "https://localhost:8080/"
        },
        "id": "fX8fgcYDY8Q7",
        "outputId": "e39ab267-2c32-4570-f0b8-8455768cce86"
      },
      "execution_count": 20,
      "outputs": [
        {
          "output_type": "execute_result",
          "data": {
            "text/plain": [
              "('K', 'Diamond')"
            ]
          },
          "metadata": {},
          "execution_count": 20
        }
      ]
    },
    {
      "cell_type": "markdown",
      "source": [
        "**Question 1:** \n",
        "\n",
        "What is the probability that when two cards are drawn from a deck of cards without a replacement that both of them will be Ace?\n",
        "\n",
        "* We can solve this probability explicitly:\n",
        "\n",
        "$$\\frac{4}{52}\\times\\frac{3}{51}=\\frac{1}{221}=0.0045$$\n",
        "\n",
        "* Let’s say that we were not familiar with formulas or that the problem was more complicated. \n",
        "\n",
        "* We could find an approximate probability with a [Monte Carlo Simulation](https://www.palisade.com/risk/monte_carlo_simulation.asp) (10M Simulations)."
      ],
      "metadata": {
        "id": "6Nif8q8SZxyT"
      }
    },
    {
      "cell_type": "code",
      "source": [
        "# You could try a small number first\n",
        "# comment this line when you increase the number\n",
        "N = 10000\n",
        "\n",
        "# then you can use a bigger number\n",
        "# uncommnent this line after you try a lower number\n",
        "#N = 10000000\n",
        "\n",
        "# event of two aces\n",
        "double_aces = 0\n",
        "\n",
        "# verify the event occurs in every hand\n",
        "for hands in range(N):\n",
        "    # shuffle the cards\n",
        "    random.shuffle(deck)\n",
        "    # count faces in each 2-card hand\n",
        "    aces = [d[0] for d in deck[0:2]].count('A')\n",
        "    # add one event if there are two aces\n",
        "    if aces == 2:\n",
        "        double_aces+=1\n",
        "\n",
        "# compute the probability of the event\n",
        "prob = double_aces/N\n",
        "\n",
        "# show the probability\n",
        "prob"
      ],
      "metadata": {
        "colab": {
          "base_uri": "https://localhost:8080/"
        },
        "id": "cFB7xRk4azfJ",
        "outputId": "03af58a0-44b5-4614-abc3-19a9b2c24840"
      },
      "execution_count": 28,
      "outputs": [
        {
          "output_type": "execute_result",
          "data": {
            "text/plain": [
              "0.0047"
            ]
          },
          "metadata": {},
          "execution_count": 28
        }
      ]
    },
    {
      "cell_type": "markdown",
      "source": [
        "**Question 2:** \n",
        "What is the probability of two Aces in 5 card hand without replacement.\n",
        "\n",
        "* Again, we can solve this explicitly by applying the formula of the hypergeometric distribution. \n",
        "* We can use also Python for this calculation.\n",
        "\n",
        "$$ P = \\frac{{4 \\choose 2} { 48 \\choose 3 }}{52\\choose 5} $$"
      ],
      "metadata": {
        "id": "U7Sdt130dO2C"
      }
    },
    {
      "cell_type": "markdown",
      "source": [
        "**Using hypergeometric distribution**"
      ],
      "metadata": {
        "id": "Q8nftgfEel_O"
      }
    },
    {
      "cell_type": "markdown",
      "source": [
        "We use in this case a hypergeometric discrete random variable with the library [hypergeom](https://docs.scipy.org/doc/scipy/reference/generated/scipy.stats.hypergeom.html).\n",
        "\n",
        "* The hypergeometric distribution models drawing objects from a bin. \n",
        "\n",
        "* M is the total number of objects, n is total number of Type I objects. \n",
        "\n",
        "* The random variate represents the number of Type I objects in N drawn without replacement from the total population."
      ],
      "metadata": {
        "id": "Nqs2axOndpdn"
      }
    },
    {
      "cell_type": "code",
      "source": [
        "from scipy.stats import hypergeom\n",
        "\n",
        "# k is the number of required aces\n",
        "# M is the total number of the cards in a deck\n",
        "# n how many aces are in the deck\n",
        "# N how many aces cards we will get\n",
        "\n",
        "hypergeom.pmf(k=2, M=52, n=4, N=5)"
      ],
      "metadata": {
        "colab": {
          "base_uri": "https://localhost:8080/"
        },
        "id": "Ktm7VXdsdcyG",
        "outputId": "4ec4275c-83c2-4ad0-8c98-26ab0a7cecc1"
      },
      "execution_count": 29,
      "outputs": [
        {
          "output_type": "execute_result",
          "data": {
            "text/plain": [
              "0.039929818081078594"
            ]
          },
          "metadata": {},
          "execution_count": 29
        }
      ]
    },
    {
      "cell_type": "markdown",
      "source": [
        "**Solving it numerically**"
      ],
      "metadata": {
        "id": "6jTuModGeaVf"
      }
    },
    {
      "cell_type": "code",
      "source": [
        "# You could try a small number first\n",
        "# comment this line when you increase the number\n",
        "N = 10000\n",
        "\n",
        "# then you can use a bigger number\n",
        "# uncommnent this line after you try a lower number\n",
        "#N = 10000000\n",
        "\n",
        "# event of two aces\n",
        "double_aces = 0\n",
        "\n",
        "# verify the event occurs in every hand\n",
        "for hands in range(N):\n",
        "    # shuffle the cards\n",
        "    random.shuffle(deck)\n",
        "    # count faces in each 5-card hand\n",
        "    aces = [d[0] for d in deck[0:5]].count('A')\n",
        "    # add one event if there are two aces\n",
        "    if aces == 2:\n",
        "        double_aces+=1\n",
        "\n",
        "# compute the probability of the event\n",
        "prob = double_aces/N\n",
        "\n",
        "# show the probability\n",
        "prob"
      ],
      "metadata": {
        "colab": {
          "base_uri": "https://localhost:8080/"
        },
        "id": "L2qTmODcevvh",
        "outputId": "93b21620-bc5f-4bc8-ed44-84a19b30c316"
      },
      "execution_count": 31,
      "outputs": [
        {
          "output_type": "execute_result",
          "data": {
            "text/plain": [
              "0.0401"
            ]
          },
          "metadata": {},
          "execution_count": 31
        }
      ]
    },
    {
      "cell_type": "markdown",
      "source": [
        "**Question 3:**\n",
        "\n",
        "What is the probability of being dealt a flush (5 cards of all the same suit) from the first 5 cards in a deck?\n",
        "\n",
        "* The first card it does not matter what the suit is. Any of the suits can be drawn initially, as long as the next four cards are of the same suit as the original card.\n",
        "\n",
        "* There are 13 of each suit in the deck, so after the first card is drawn, there are only 12 of that suit, then 11 left for the third card, 10 left for the fourth card, and 9 left for the final card. Also, there will be one less card total in the deck each time.\n",
        "\n",
        "$$ P(flush) = P( \\text{2nd is same suit} ) \\times P( \\text{3rd is same suit} ) \\times P( \\text{4th is same suit} ) \\times P( \\text{5th is same suit} ) $$\n",
        "\n",
        "$$ P(flush) =\\frac{12}{51} \\times \\frac{11}{50} \\times \\frac{10}{49} \\times \\frac{9}{48} = \\frac{33}{16660} = 0.00198 $$"
      ],
      "metadata": {
        "id": "JohkinV3g7eh"
      }
    },
    {
      "cell_type": "code",
      "source": [
        "# The trick is to search for 1 unique suit in the 5-card hand\n",
        "\n",
        "# You could try a small number first\n",
        "# comment this line when you increase the number\n",
        "N = 10000\n",
        "\n",
        "# then you can use a bigger number\n",
        "# uncommnent this line after you try a lower number\n",
        "#N = 10000000\n",
        "\n",
        "# event of 5 cards of all the same suit\n",
        "flushes = 0\n",
        "\n",
        "# verify the event occurs in every hand\n",
        "for hands in range(N):\n",
        "    # shuffle the cards\n",
        "    random.shuffle(deck)\n",
        "    # count suits in each 5-card hand\n",
        "    flush = [d[1] for d in deck[0:5]]\n",
        "    # add one event if there are two aces\n",
        "    if len(set(flush))== 1:\n",
        "        flushes+=1\n",
        "\n",
        "# compute the probability of the event\n",
        "prob = flushes/N\n",
        "\n",
        "# show the probability\n",
        "prob"
      ],
      "metadata": {
        "colab": {
          "base_uri": "https://localhost:8080/"
        },
        "id": "EMTMDCMsh-Gd",
        "outputId": "6eca57c6-9389-486e-8675-b9c416ee79a9"
      },
      "execution_count": 33,
      "outputs": [
        {
          "output_type": "execute_result",
          "data": {
            "text/plain": [
              "0.0018"
            ]
          },
          "metadata": {},
          "execution_count": 33
        }
      ]
    },
    {
      "cell_type": "markdown",
      "source": [
        "**Question 4:**\n",
        "\n",
        "What is the probability of being dealt a royal flush from the first 5 cards in a deck?\n",
        "\n",
        "* The number of al possible 5-card hand is \\({52\\choose 5} = 2,598,960\\)\n",
        "\n",
        "* A royal flush is ace, king, queen, jack, and ten of the same suit. \n",
        "\n",
        "* If we order the 5-card hand from highest card to lowest, the first card will be an ace. \n",
        "\n",
        "* There are four possible suits for the ace. \n",
        "\n",
        "* After that, the other four cards are completely determined.\n",
        "\n",
        "* Thus, there are 4 possible royal flushes:\n",
        "\n",
        "$$ P(flush) = \\frac{4}{ 2598960 } = 0.00000154 $$"
      ],
      "metadata": {
        "id": "BOm_jPOAjShQ"
      }
    },
    {
      "cell_type": "code",
      "source": [
        "# Let’s see if the Monte Carlo \n",
        "# works with such small numbers\n",
        "\n",
        "# You could try a small number first\n",
        "# comment this line when you increase the number\n",
        "N = 10000\n",
        "\n",
        "# then you can use a bigger number\n",
        "# uncommnent this line after you try a lower number\n",
        "#N = 10000000\n",
        "\n",
        "# event royal flush \n",
        "royal_flushes = 0\n",
        "\n",
        "# verify the event occurs in every hand\n",
        "for hands in range(N):\n",
        "    # shuffle the cards\n",
        "    random.shuffle(deck)\n",
        "    # count suits first in each deck\n",
        "    flush = [d[1] for d in deck[0:5]]\n",
        "    # and then faces\n",
        "    face = [d[0] for d in deck[0:5]]\n",
        "    # add one event if the first 5-cards form a royal flush\n",
        "    if len(set(flush))== 1 and sorted(['A','J', 'Q', 'K', '10'])==sorted(face):\n",
        "        royal_flushes+=1\n",
        "\n",
        "# compute the probability of the event\n",
        "prob = royal_flushes/N\n",
        "\n",
        "# show the probability\n",
        "prob"
      ],
      "metadata": {
        "colab": {
          "base_uri": "https://localhost:8080/"
        },
        "id": "lvZbB6FBjl7r",
        "outputId": "15520071-8d5c-406b-b48e-9359ed7af8f8"
      },
      "execution_count": 36,
      "outputs": [
        {
          "output_type": "execute_result",
          "data": {
            "text/plain": [
              "0.0"
            ]
          },
          "metadata": {},
          "execution_count": 36
        }
      ]
    }
  ]
}
