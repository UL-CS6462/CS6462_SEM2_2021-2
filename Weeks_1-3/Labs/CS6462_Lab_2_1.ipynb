{
  "nbformat": 4,
  "nbformat_minor": 0,
  "metadata": {
    "colab": {
      "name": "CS6462_Lab_2_1.ipynb",
      "provenance": []
    },
    "kernelspec": {
      "name": "python3",
      "display_name": "Python 3"
    },
    "language_info": {
      "name": "python"
    }
  },
  "cells": [
    {
      "cell_type": "markdown",
      "source": [
        "<div>\n",
        "<img src=\"https://drive.google.com/uc?export=view&id=1vK33e_EqaHgBHcbRV_m38hx6IkG0blK_\" width=\"350\"/>\n",
        "</div> \n",
        "\n",
        "#**Artificial Intelligence - MSc**\n",
        "\n",
        "##CS6462 - PROBABILISTIC AND EXPLAINABLE AI \n",
        "##SEM2 2021/2 \n",
        "\n",
        "###CS6462_Lab_2.1\n",
        "\n",
        "###Instructor: Enrique Naredo\n",
        "Copyright (C) 2022 - Copy or distribution not allowed outside this module"
      ],
      "metadata": {
        "id": "GYROJTdFoMLH"
      }
    },
    {
      "cell_type": "markdown",
      "source": [
        "#[Probability Distribution](https://en.wikipedia.org/wiki/Probability_distribution)\n",
        "\n",
        "* In probability theory and statistics, a probability distribution is the mathematical function that gives the probabilities of occurrence of different possible outcomes for an experiment.\n",
        "\n",
        "* It is a mathematical description of a random phenomenon in terms of its sample space and the probabilities of events (subsets of the sample space)."
      ],
      "metadata": {
        "id": "PosPsPgdYceq"
      }
    },
    {
      "cell_type": "markdown",
      "source": [
        "**Random Variables and Probability**\n",
        "\n",
        "*Definition*\n",
        "\n",
        "* mathematics concerned with numerical descriptions of how likely an event is to occur;\n",
        "* degree of belief of an experiment X (or phenomena) where all possible outcomes are known (denoted as sample space S);\n",
        "* any subset of S is called an event E;\n",
        "* event E occurs if the outcome of experiment X is contained in E."
      ],
      "metadata": {
        "id": "WVEYCsjBpiXZ"
      }
    },
    {
      "cell_type": "markdown",
      "source": [
        "##Discrete Random Variables"
      ],
      "metadata": {
        "id": "_oytUfXsTbQ5"
      }
    },
    {
      "cell_type": "markdown",
      "source": [
        "**Binomial**\n",
        "\n",
        "Make a Binomial Random variable X and compute its probability mass function (PMF) or cumulative density function (CDF). \n",
        "\n",
        "We love the scipy stats library because it defines all the functions you would care about for a random variable, including expectation, variance, and even things we haven't talked about in CS109, like entropy. \n",
        "* This example declares X∼Bin(n=10,p=0.2). \n",
        "* It calculates a few statistics on X. \n",
        "* It then calculates P(X=3) and P(X≤4).  \n",
        "* Finally it generates a few random samples from X: "
      ],
      "metadata": {
        "id": "HOx0QyUdRR2S"
      }
    },
    {
      "cell_type": "markdown",
      "source": [
        "Code refactored from the Stanford lecture: [Python for Probability](https://web.stanford.edu/class/archive/cs/cs109/cs109.1192/handouts/pythonForProbability.html)."
      ],
      "metadata": {
        "id": "YrNnVJqZU_fY"
      }
    },
    {
      "cell_type": "code",
      "source": [
        "import math\n",
        "from scipy import stats\n",
        "\n",
        "# Declare X to be a binomial random variable\n",
        "# X∼Bin(n=10,p=0.2)\n",
        "X = stats.binom(10, 0.2) \n",
        "\n",
        "print(X.pmf(3))           # P(X = 3)\n",
        "print(X.cdf(4))           # P(X <= 4)\n",
        "print(X.mean())           # E[X]\n",
        "print(X.var())            # Var(X)\n",
        "print(X.std())            # Std(X)\n",
        "print(X.rvs())            # Get a random sample from X\n",
        "print(X.rvs(10))          # Get 10 random samples from X"
      ],
      "metadata": {
        "colab": {
          "base_uri": "https://localhost:8080/"
        },
        "id": "sTcSWoOTNsgS",
        "outputId": "542119ee-8ba8-4842-91e1-016cb901d347"
      },
      "execution_count": null,
      "outputs": [
        {
          "output_type": "stream",
          "name": "stdout",
          "text": [
            "0.20132659200000022\n",
            "0.9672065024000001\n",
            "2.0\n",
            "1.6\n",
            "1.2649110640673518\n",
            "1\n",
            "[3 2 0 3 3 0 4 2 2 2]\n"
          ]
        }
      ]
    },
    {
      "cell_type": "code",
      "source": [
        "from scipy import stats\n",
        "X = stats.binom(10, 0.2) \n",
        "\n",
        "print(X.cdf(7))"
      ],
      "metadata": {
        "colab": {
          "base_uri": "https://localhost:8080/"
        },
        "id": "gCGlf1rOQaqg",
        "outputId": "11d1e501-d80c-4fd5-8dc4-01170b09b34b"
      },
      "execution_count": null,
      "outputs": [
        {
          "output_type": "stream",
          "name": "stdout",
          "text": [
            "0.9999220736\n"
          ]
        }
      ]
    },
    {
      "cell_type": "markdown",
      "source": [
        "**Poisson**\n",
        "\n",
        "Make a Poisson Random variable Y. \n",
        "* This example declares Y∼Poi(λ=2). \n",
        "* It then calculates P(Y=3): "
      ],
      "metadata": {
        "id": "-IqJjirjSeZL"
      }
    },
    {
      "cell_type": "code",
      "source": [
        "# Declare Y to be a poisson random variable\n",
        "# Y∼Poi(λ=2)\n",
        "Y = stats.poisson(2)\n",
        "\n",
        "print(Y.pmf(3))       # P(Y = 3)\n",
        "print(Y.rvs())        # Get a random sample from Y"
      ],
      "metadata": {
        "colab": {
          "base_uri": "https://localhost:8080/"
        },
        "id": "uPEtFG59SnUj",
        "outputId": "abfd03a5-88d8-4a5b-b8d3-2440411b9d9d"
      },
      "execution_count": null,
      "outputs": [
        {
          "output_type": "stream",
          "name": "stdout",
          "text": [
            "0.18044704431548356\n",
            "2\n"
          ]
        }
      ]
    },
    {
      "cell_type": "markdown",
      "source": [
        "**Geometric**\n",
        "\n",
        "Make a Geometric Random variable X, the number of trials until a success. \n",
        "* This example declares X∼Geo(p=0.75):"
      ],
      "metadata": {
        "id": "0w7b9pgKS_6e"
      }
    },
    {
      "cell_type": "code",
      "source": [
        "# Declare X to be a geometric random variable\n",
        "# X∼Geo(p=0.75)\n",
        "X = stats.geom(0.75) \n",
        "\n",
        "print(X.pmf(3))       # P(X = 3)\n",
        "print(X.rvs())        # Get a random sample from Y"
      ],
      "metadata": {
        "colab": {
          "base_uri": "https://localhost:8080/"
        },
        "id": "M3XZbzNjTGF-",
        "outputId": "a1ef6635-de9a-4991-b783-edebe841533d"
      },
      "execution_count": null,
      "outputs": [
        {
          "output_type": "stream",
          "name": "stdout",
          "text": [
            "0.046875\n",
            "1\n"
          ]
        }
      ]
    },
    {
      "cell_type": "markdown",
      "source": [
        "##Continuous Random Variables"
      ],
      "metadata": {
        "id": "K72XNE-pThp0"
      }
    },
    {
      "cell_type": "markdown",
      "source": [
        "Code refactored from the Stanford lecture: [Python for Probability](https://web.stanford.edu/class/archive/cs/cs109/cs109.1192/handouts/pythonForProbability.html)."
      ],
      "metadata": {
        "id": "sf42LI_cVklt"
      }
    },
    {
      "cell_type": "markdown",
      "source": [
        "**Normal**\n",
        "\n",
        "Make a Normal Random variable A. \n",
        "\n",
        "* This example declares A∼N(μ=3,σ2=16). \n",
        "* It then calculates fY(0) and FY(0).\n",
        "* First parameter is the mean (μ).\n",
        "* Usually, second parameter to a normal is the variance (σ2). \n",
        "* In the scipy library the second parameter is the standard deviation (σ)\n",
        "\n"
      ],
      "metadata": {
        "id": "QC5-i_FsTjam"
      }
    },
    {
      "cell_type": "code",
      "source": [
        "import math\n",
        "\n",
        "# Declare A to be a normal random variable\n",
        "# A∼N(μ=3,σ2=16)\n",
        "A = stats.norm(3, math.sqrt(16))\n",
        "\n",
        "print(A.pdf(4))       # f(3), the probability density at 3\n",
        "print(A.cdf(2))       # F(2), which is also P(Y < 2)\n",
        "print(A.rvs())        # Get a random sample from A"
      ],
      "metadata": {
        "colab": {
          "base_uri": "https://localhost:8080/"
        },
        "id": "EeeNLc-2UTUn",
        "outputId": "2ca47fd4-80b6-4f75-e42e-af0599d547f8"
      },
      "execution_count": null,
      "outputs": [
        {
          "output_type": "stream",
          "name": "stdout",
          "text": [
            "0.09666702920071232\n",
            "0.4012936743170763\n",
            "-2.4813955679211306\n"
          ]
        }
      ]
    },
    {
      "cell_type": "markdown",
      "source": [
        "**Exponential**\n",
        "\n",
        "Make an Exponential Random variable B. \n",
        "* This example declares B∼Exp(λ=4)"
      ],
      "metadata": {
        "id": "MLr-idJ5Uv7o"
      }
    },
    {
      "cell_type": "code",
      "source": [
        "# Declare B to be a normal random variable\n",
        "# B∼Exp(λ=4)\n",
        "B = stats.expon(4)   \n",
        "\n",
        "print(B.pdf(1))       # f(1), the probability density at 1\n",
        "print(B.cdf(2))       # F(2) which is also P(B < 2)\n",
        "print(B.rvs())        # Get a random sample from B"
      ],
      "metadata": {
        "colab": {
          "base_uri": "https://localhost:8080/"
        },
        "id": "PcYWXO8aV5tY",
        "outputId": "d316b2c7-3d8c-49f3-8774-da210b4731b0"
      },
      "execution_count": null,
      "outputs": [
        {
          "output_type": "stream",
          "name": "stdout",
          "text": [
            "0.0\n",
            "0.0\n",
            "4.133423191810879\n"
          ]
        }
      ]
    },
    {
      "cell_type": "markdown",
      "source": [
        "**Beta**\n",
        "\n",
        "Make an Beta Random variable X. \n",
        "* This example declares X∼Beta(α=1,β=3) "
      ],
      "metadata": {
        "id": "2CXVOx_8WMjU"
      }
    },
    {
      "cell_type": "code",
      "source": [
        "# Declare X to be a beta random variable\n",
        "# X∼Beta(α=1,β=3)\n",
        "X = stats.beta(1, 3) \n",
        "\n",
        "print(X.pdf(0.5))     # f(0.5), the probability density at 1\n",
        "print(X.cdf(0.7))     # F(0.7) which is also P(X < 0.7)\n",
        "print(X.rvs())        # Get a random sample from X"
      ],
      "metadata": {
        "colab": {
          "base_uri": "https://localhost:8080/"
        },
        "id": "PiEb8zUmWUNu",
        "outputId": "fcee4c8e-7c59-4b7c-ad65-4be706d1a9ac"
      },
      "execution_count": null,
      "outputs": [
        {
          "output_type": "stream",
          "name": "stdout",
          "text": [
            "0.7500000000000001\n",
            "0.973\n",
            "0.15682810041754228\n"
          ]
        }
      ]
    }
  ]
}
