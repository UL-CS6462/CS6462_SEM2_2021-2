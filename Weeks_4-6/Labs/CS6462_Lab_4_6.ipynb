{
  "nbformat": 4,
  "nbformat_minor": 0,
  "metadata": {
    "colab": {
      "name": "CS6462_Lab_4_6.ipynb",
      "provenance": []
    },
    "kernelspec": {
      "name": "python3",
      "display_name": "Python 3"
    },
    "language_info": {
      "name": "python"
    }
  },
  "cells": [
    {
      "cell_type": "markdown",
      "source": [
        "<div>\n",
        "<img src=\"https://drive.google.com/uc?export=view&id=1vK33e_EqaHgBHcbRV_m38hx6IkG0blK_\" width=\"350\"/>\n",
        "</div> \n",
        "\n",
        "#**Artificial Intelligence - MSc**\n",
        "\n",
        "##CS6462 - PROBABILISTIC AND EXPLAINABLE AI \n",
        "##SEM2 2021/2\n",
        "\n",
        "###CS6462_Lab_4.6\n",
        "\n",
        "###Instructor: Enrique Naredo\n",
        "\n",
        "Copyright (C) 2022 - All rights reserved, do not copy or distribute without permission of the author."
      ],
      "metadata": {
        "id": "286fVwK0Iah6"
      }
    },
    {
      "cell_type": "markdown",
      "source": [
        "## [Classification](https://en.wikipedia.org/wiki/Statistical_classification)"
      ],
      "metadata": {
        "id": "-tCLQAiTIk2_"
      }
    },
    {
      "cell_type": "markdown",
      "source": [
        "In statistics, classification is the problem of identifying which of a set of categories (sub-populations) an observation (or observations) belongs to. \n",
        "\n",
        "Classification examples:\n",
        "* assigning a given email to the \"spam\" or \"non-spam\" class, \n",
        "* assigning a diagnosis to a given patient (sex, blood pressure, presence or absence of certain symptoms, etc.)\n",
        "\n",
        "An algorithm that implements classification, especially in a concrete implementation, is known as a classifier. \n",
        "\n",
        "* The term \"classifier\" sometimes also refers to the mathematical function, \n",
        "* implemented by a classification algorithm, that maps input data to a category. "
      ],
      "metadata": {
        "id": "HNO29PncdGS7"
      }
    },
    {
      "cell_type": "markdown",
      "source": [
        "### Example-6\n",
        "\n",
        "**Real-world dataset**"
      ],
      "metadata": {
        "id": "LKbIbiVCJpcI"
      }
    },
    {
      "cell_type": "code",
      "source": [
        "# import libraries\n",
        "from sklearn.ensemble import GradientBoostingClassifier\n",
        "from pandas import DataFrame\n",
        "from mlxtend.plotting import plot_decision_regions\n",
        "import matplotlib.pyplot as plt\n",
        "import numpy as np"
      ],
      "metadata": {
        "id": "rOIKgr-L04LH"
      },
      "execution_count": null,
      "outputs": []
    },
    {
      "cell_type": "code",
      "source": [
        "from sklearn import datasets\n",
        "\n",
        "# Loading some example data\n",
        "iris = datasets.load_iris()\n",
        "\n",
        "# Slice features to only contain 2\n",
        "# to show the 2D decision boundary\n",
        "# you could use any of these combinations\n",
        "# [0, 1], [0, 2], [0, 3],[1, 2], [1, 3], [2, 3]\n",
        "X2 = iris.data[:, [0, 2]]\n",
        "y2 = iris.target"
      ],
      "metadata": {
        "id": "l9xolJOv1Chh"
      },
      "execution_count": null,
      "outputs": []
    },
    {
      "cell_type": "code",
      "source": [
        "# create a data frame\n",
        "df2 = DataFrame(dict(x=X2[:,0], y=X2[:,1], label=y2))\n",
        "# three classes\n",
        "colors = {0:'red', 1:'green', 2:'blue'}\n",
        "markers = {0:'o', 1:'^', 2:'s'}\n",
        "# figure\n",
        "fig, ax = plt.subplots()\n",
        "grouped = df2.groupby('label')\n",
        "# scatter plot\n",
        "for key, group in grouped:\n",
        "    group.plot(ax=ax, kind='scatter', x='x', y='y', \n",
        "    label=key, color=colors[key], marker=markers[key])\n",
        "# show the plot\n",
        "plt.show();"
      ],
      "metadata": {
        "colab": {
          "base_uri": "https://localhost:8080/",
          "height": 279
        },
        "id": "1-RBuhJF1SHD",
        "outputId": "6bd6498b-e789-4601-a13f-f30408d2f53c"
      },
      "execution_count": null,
      "outputs": [
        {
          "output_type": "display_data",
          "data": {
            "image/png": "[encoded data removed]",
            "text/plain": [
              "<Figure size 432x288 with 1 Axes>"
            ]
          },
          "metadata": {
            "needs_background": "light"
          }
        }
      ]
    },
    {
      "cell_type": "code",
      "source": [
        "# show first n rows (default 5)\n",
        "df2.head()"
      ],
      "metadata": {
        "colab": {
          "base_uri": "https://localhost:8080/",
          "height": 206
        },
        "id": "LGpDrc7p1pcC",
        "outputId": "dfdf9315-e0e4-43cd-ee81-77797e8888cc"
      },
      "execution_count": null,
      "outputs": [
        {
          "output_type": "execute_result",
          "data": {
            "text/html": [
              "\n",
              "  <div id=\"df-3046fee1-a076-4c4f-94c8-acfab681e91b\">\n",
              "    <div class=\"colab-df-container\">\n",
              "      <div>\n",
              "<style scoped>\n",
              "    .dataframe tbody tr th:only-of-type {\n",
              "        vertical-align: middle;\n",
              "    }\n",
              "\n",
              "    .dataframe tbody tr th {\n",
              "        vertical-align: top;\n",
              "    }\n",
              "\n",
              "    .dataframe thead th {\n",
              "        text-align: right;\n",
              "    }\n",
              "</style>\n",
              "<table border=\"1\" class=\"dataframe\">\n",
              "  <thead>\n",
              "    <tr style=\"text-align: right;\">\n",
              "      <th></th>\n",
              "      <th>x</th>\n",
              "      <th>y</th>\n",
              "      <th>label</th>\n",
              "    </tr>\n",
              "  </thead>\n",
              "  <tbody>\n",
              "    <tr>\n",
              "      <th>0</th>\n",
              "      <td>5.1</td>\n",
              "      <td>1.4</td>\n",
              "      <td>0</td>\n",
              "    </tr>\n",
              "    <tr>\n",
              "      <th>1</th>\n",
              "      <td>4.9</td>\n",
              "      <td>1.4</td>\n",
              "      <td>0</td>\n",
              "    </tr>\n",
              "    <tr>\n",
              "      <th>2</th>\n",
              "      <td>4.7</td>\n",
              "      <td>1.3</td>\n",
              "      <td>0</td>\n",
              "    </tr>\n",
              "    <tr>\n",
              "      <th>3</th>\n",
              "      <td>4.6</td>\n",
              "      <td>1.5</td>\n",
              "      <td>0</td>\n",
              "    </tr>\n",
              "    <tr>\n",
              "      <th>4</th>\n",
              "      <td>5.0</td>\n",
              "      <td>1.4</td>\n",
              "      <td>0</td>\n",
              "    </tr>\n",
              "  </tbody>\n",
              "</table>\n",
              "</div>\n",
              "      <button class=\"colab-df-convert\" onclick=\"convertToInteractive('df-3046fee1-a076-4c4f-94c8-acfab681e91b')\"\n",
              "              title=\"Convert this dataframe to an interactive table.\"\n",
              "              style=\"display:none;\">\n",
              "        \n",
              "  <svg xmlns=\"http://www.w3.org/2000/svg\" height=\"24px\"viewBox=\"0 0 24 24\"\n",
              "       width=\"24px\">\n",
              "    <path d=\"M0 0h24v24H0V0z\" fill=\"none\"/>\n",
              "    <path d=\"M18.56 5.44l.94 2.06.94-2.06 2.06-.94-2.06-.94-.94-2.06-.94 2.06-2.06.94zm-11 1L8.5 8.5l.94-2.06 2.06-.94-2.06-.94L8.5 2.5l-.94 2.06-2.06.94zm10 10l.94 2.06.94-2.06 2.06-.94-2.06-.94-.94-2.06-.94 2.06-2.06.94z\"/><path d=\"M17.41 7.96l-1.37-1.37c-.4-.4-.92-.59-1.43-.59-.52 0-1.04.2-1.43.59L10.3 9.45l-7.72 7.72c-.78.78-.78 2.05 0 2.83L4 21.41c.39.39.9.59 1.41.59.51 0 1.02-.2 1.41-.59l7.78-7.78 2.81-2.81c.8-.78.8-2.07 0-2.86zM5.41 20L4 18.59l7.72-7.72 1.47 1.35L5.41 20z\"/>\n",
              "  </svg>\n",
              "      </button>\n",
              "      \n",
              "  <style>\n",
              "    .colab-df-container {\n",
              "      display:flex;\n",
              "      flex-wrap:wrap;\n",
              "      gap: 12px;\n",
              "    }\n",
              "\n",
              "    .colab-df-convert {\n",
              "      background-color: #E8F0FE;\n",
              "      border: none;\n",
              "      border-radius: 50%;\n",
              "      cursor: pointer;\n",
              "      display: none;\n",
              "      fill: #1967D2;\n",
              "      height: 32px;\n",
              "      padding: 0 0 0 0;\n",
              "      width: 32px;\n",
              "    }\n",
              "\n",
              "    .colab-df-convert:hover {\n",
              "      background-color: #E2EBFA;\n",
              "      box-shadow: 0px 1px 2px rgba(60, 64, 67, 0.3), 0px 1px 3px 1px rgba(60, 64, 67, 0.15);\n",
              "      fill: #174EA6;\n",
              "    }\n",
              "\n",
              "    [theme=dark] .colab-df-convert {\n",
              "      background-color: #3B4455;\n",
              "      fill: #D2E3FC;\n",
              "    }\n",
              "\n",
              "    [theme=dark] .colab-df-convert:hover {\n",
              "      background-color: #434B5C;\n",
              "      box-shadow: 0px 1px 3px 1px rgba(0, 0, 0, 0.15);\n",
              "      filter: drop-shadow(0px 1px 2px rgba(0, 0, 0, 0.3));\n",
              "      fill: #FFFFFF;\n",
              "    }\n",
              "  </style>\n",
              "\n",
              "      <script>\n",
              "        const buttonEl =\n",
              "          document.querySelector('#df-3046fee1-a076-4c4f-94c8-acfab681e91b button.colab-df-convert');\n",
              "        buttonEl.style.display =\n",
              "          google.colab.kernel.accessAllowed ? 'block' : 'none';\n",
              "\n",
              "        async function convertToInteractive(key) {\n",
              "          const element = document.querySelector('#df-3046fee1-a076-4c4f-94c8-acfab681e91b');\n",
              "          const dataTable =\n",
              "            await google.colab.kernel.invokeFunction('convertToInteractive',\n",
              "                                                     [key], {});\n",
              "          if (!dataTable) return;\n",
              "\n",
              "          const docLinkHtml = 'Like what you see? Visit the ' +\n",
              "            '<a target=\"_blank\" href=https://colab.research.google.com/notebooks/data_table.ipynb>data table notebook</a>'\n",
              "            + ' to learn more about interactive tables.';\n",
              "          element.innerHTML = '';\n",
              "          dataTable['output_type'] = 'display_data';\n",
              "          await google.colab.output.renderOutput(dataTable, element);\n",
              "          const docLink = document.createElement('div');\n",
              "          docLink.innerHTML = docLinkHtml;\n",
              "          element.appendChild(docLink);\n",
              "        }\n",
              "      </script>\n",
              "    </div>\n",
              "  </div>\n",
              "  "
            ],
            "text/plain": [
              "     x    y  label\n",
              "0  5.1  1.4      0\n",
              "1  4.9  1.4      0\n",
              "2  4.7  1.3      0\n",
              "3  4.6  1.5      0\n",
              "4  5.0  1.4      0"
            ]
          },
          "metadata": {},
          "execution_count": 5
        }
      ]
    },
    {
      "cell_type": "code",
      "source": [
        "# show statistics\n",
        "df2.describe()"
      ],
      "metadata": {
        "colab": {
          "base_uri": "https://localhost:8080/",
          "height": 300
        },
        "id": "KriEdOV_1unq",
        "outputId": "2e72eb40-0504-4063-a896-77bab5d042e6"
      },
      "execution_count": null,
      "outputs": [
        {
          "output_type": "execute_result",
          "data": {
            "text/html": [
              "\n",
              "  <div id=\"df-1f3db422-a3e3-4a51-b8ac-7caba72351d1\">\n",
              "    <div class=\"colab-df-container\">\n",
              "      <div>\n",
              "<style scoped>\n",
              "    .dataframe tbody tr th:only-of-type {\n",
              "        vertical-align: middle;\n",
              "    }\n",
              "\n",
              "    .dataframe tbody tr th {\n",
              "        vertical-align: top;\n",
              "    }\n",
              "\n",
              "    .dataframe thead th {\n",
              "        text-align: right;\n",
              "    }\n",
              "</style>\n",
              "<table border=\"1\" class=\"dataframe\">\n",
              "  <thead>\n",
              "    <tr style=\"text-align: right;\">\n",
              "      <th></th>\n",
              "      <th>x</th>\n",
              "      <th>y</th>\n",
              "      <th>label</th>\n",
              "    </tr>\n",
              "  </thead>\n",
              "  <tbody>\n",
              "    <tr>\n",
              "      <th>count</th>\n",
              "      <td>150.000000</td>\n",
              "      <td>150.000000</td>\n",
              "      <td>150.000000</td>\n",
              "    </tr>\n",
              "    <tr>\n",
              "      <th>mean</th>\n",
              "      <td>5.843333</td>\n",
              "      <td>3.758000</td>\n",
              "      <td>1.000000</td>\n",
              "    </tr>\n",
              "    <tr>\n",
              "      <th>std</th>\n",
              "      <td>0.828066</td>\n",
              "      <td>1.765298</td>\n",
              "      <td>0.819232</td>\n",
              "    </tr>\n",
              "    <tr>\n",
              "      <th>min</th>\n",
              "      <td>4.300000</td>\n",
              "      <td>1.000000</td>\n",
              "      <td>0.000000</td>\n",
              "    </tr>\n",
              "    <tr>\n",
              "      <th>25%</th>\n",
              "      <td>5.100000</td>\n",
              "      <td>1.600000</td>\n",
              "      <td>0.000000</td>\n",
              "    </tr>\n",
              "    <tr>\n",
              "      <th>50%</th>\n",
              "      <td>5.800000</td>\n",
              "      <td>4.350000</td>\n",
              "      <td>1.000000</td>\n",
              "    </tr>\n",
              "    <tr>\n",
              "      <th>75%</th>\n",
              "      <td>6.400000</td>\n",
              "      <td>5.100000</td>\n",
              "      <td>2.000000</td>\n",
              "    </tr>\n",
              "    <tr>\n",
              "      <th>max</th>\n",
              "      <td>7.900000</td>\n",
              "      <td>6.900000</td>\n",
              "      <td>2.000000</td>\n",
              "    </tr>\n",
              "  </tbody>\n",
              "</table>\n",
              "</div>\n",
              "      <button class=\"colab-df-convert\" onclick=\"convertToInteractive('df-1f3db422-a3e3-4a51-b8ac-7caba72351d1')\"\n",
              "              title=\"Convert this dataframe to an interactive table.\"\n",
              "              style=\"display:none;\">\n",
              "        \n",
              "  <svg xmlns=\"http://www.w3.org/2000/svg\" height=\"24px\"viewBox=\"0 0 24 24\"\n",
              "       width=\"24px\">\n",
              "    <path d=\"M0 0h24v24H0V0z\" fill=\"none\"/>\n",
              "    <path d=\"M18.56 5.44l.94 2.06.94-2.06 2.06-.94-2.06-.94-.94-2.06-.94 2.06-2.06.94zm-11 1L8.5 8.5l.94-2.06 2.06-.94-2.06-.94L8.5 2.5l-.94 2.06-2.06.94zm10 10l.94 2.06.94-2.06 2.06-.94-2.06-.94-.94-2.06-.94 2.06-2.06.94z\"/><path d=\"M17.41 7.96l-1.37-1.37c-.4-.4-.92-.59-1.43-.59-.52 0-1.04.2-1.43.59L10.3 9.45l-7.72 7.72c-.78.78-.78 2.05 0 2.83L4 21.41c.39.39.9.59 1.41.59.51 0 1.02-.2 1.41-.59l7.78-7.78 2.81-2.81c.8-.78.8-2.07 0-2.86zM5.41 20L4 18.59l7.72-7.72 1.47 1.35L5.41 20z\"/>\n",
              "  </svg>\n",
              "      </button>\n",
              "      \n",
              "  <style>\n",
              "    .colab-df-container {\n",
              "      display:flex;\n",
              "      flex-wrap:wrap;\n",
              "      gap: 12px;\n",
              "    }\n",
              "\n",
              "    .colab-df-convert {\n",
              "      background-color: #E8F0FE;\n",
              "      border: none;\n",
              "      border-radius: 50%;\n",
              "      cursor: pointer;\n",
              "      display: none;\n",
              "      fill: #1967D2;\n",
              "      height: 32px;\n",
              "      padding: 0 0 0 0;\n",
              "      width: 32px;\n",
              "    }\n",
              "\n",
              "    .colab-df-convert:hover {\n",
              "      background-color: #E2EBFA;\n",
              "      box-shadow: 0px 1px 2px rgba(60, 64, 67, 0.3), 0px 1px 3px 1px rgba(60, 64, 67, 0.15);\n",
              "      fill: #174EA6;\n",
              "    }\n",
              "\n",
              "    [theme=dark] .colab-df-convert {\n",
              "      background-color: #3B4455;\n",
              "      fill: #D2E3FC;\n",
              "    }\n",
              "\n",
              "    [theme=dark] .colab-df-convert:hover {\n",
              "      background-color: #434B5C;\n",
              "      box-shadow: 0px 1px 3px 1px rgba(0, 0, 0, 0.15);\n",
              "      filter: drop-shadow(0px 1px 2px rgba(0, 0, 0, 0.3));\n",
              "      fill: #FFFFFF;\n",
              "    }\n",
              "  </style>\n",
              "\n",
              "      <script>\n",
              "        const buttonEl =\n",
              "          document.querySelector('#df-1f3db422-a3e3-4a51-b8ac-7caba72351d1 button.colab-df-convert');\n",
              "        buttonEl.style.display =\n",
              "          google.colab.kernel.accessAllowed ? 'block' : 'none';\n",
              "\n",
              "        async function convertToInteractive(key) {\n",
              "          const element = document.querySelector('#df-1f3db422-a3e3-4a51-b8ac-7caba72351d1');\n",
              "          const dataTable =\n",
              "            await google.colab.kernel.invokeFunction('convertToInteractive',\n",
              "                                                     [key], {});\n",
              "          if (!dataTable) return;\n",
              "\n",
              "          const docLinkHtml = 'Like what you see? Visit the ' +\n",
              "            '<a target=\"_blank\" href=https://colab.research.google.com/notebooks/data_table.ipynb>data table notebook</a>'\n",
              "            + ' to learn more about interactive tables.';\n",
              "          element.innerHTML = '';\n",
              "          dataTable['output_type'] = 'display_data';\n",
              "          await google.colab.output.renderOutput(dataTable, element);\n",
              "          const docLink = document.createElement('div');\n",
              "          docLink.innerHTML = docLinkHtml;\n",
              "          element.appendChild(docLink);\n",
              "        }\n",
              "      </script>\n",
              "    </div>\n",
              "  </div>\n",
              "  "
            ],
            "text/plain": [
              "                x           y       label\n",
              "count  150.000000  150.000000  150.000000\n",
              "mean     5.843333    3.758000    1.000000\n",
              "std      0.828066    1.765298    0.819232\n",
              "min      4.300000    1.000000    0.000000\n",
              "25%      5.100000    1.600000    0.000000\n",
              "50%      5.800000    4.350000    1.000000\n",
              "75%      6.400000    5.100000    2.000000\n",
              "max      7.900000    6.900000    2.000000"
            ]
          },
          "metadata": {},
          "execution_count": 8
        }
      ]
    },
    {
      "cell_type": "code",
      "source": [
        "# count the data elements for each class\n",
        "df2['label'].value_counts()"
      ],
      "metadata": {
        "colab": {
          "base_uri": "https://localhost:8080/"
        },
        "id": "Opy2i_jm1v-g",
        "outputId": "50e583aa-bafd-45bf-c186-a21b0d350ec7"
      },
      "execution_count": null,
      "outputs": [
        {
          "output_type": "execute_result",
          "data": {
            "text/plain": [
              "0    50\n",
              "1    50\n",
              "2    50\n",
              "Name: label, dtype: int64"
            ]
          },
          "metadata": {},
          "execution_count": 9
        }
      ]
    },
    {
      "cell_type": "markdown",
      "source": [
        "###Training & Test Data"
      ],
      "metadata": {
        "id": "OyTmPXMY2IpR"
      }
    },
    {
      "cell_type": "code",
      "source": [
        "from sklearn.model_selection import train_test_split\n",
        "\n",
        "# training: 80% (0.8), test: 20% (0.2)\n",
        "X_train,X_test,y_train,y_test = train_test_split(X2, y2, test_size=0.2)"
      ],
      "metadata": {
        "id": "RR0WQJD62NsJ"
      },
      "execution_count": null,
      "outputs": []
    },
    {
      "cell_type": "markdown",
      "source": [
        "**Training set**"
      ],
      "metadata": {
        "id": "Nz9SXxlz4Otf"
      }
    },
    {
      "cell_type": "code",
      "source": [
        "# training \n",
        "X_train[0:10]"
      ],
      "metadata": {
        "colab": {
          "base_uri": "https://localhost:8080/"
        },
        "id": "LmLSzf402ZqR",
        "outputId": "e5062721-a333-4675-8b03-5009f6bd2d85"
      },
      "execution_count": null,
      "outputs": [
        {
          "output_type": "execute_result",
          "data": {
            "text/plain": [
              "array([[5. , 1.5],\n",
              "       [4.8, 1.4],\n",
              "       [5.6, 4.1],\n",
              "       [5.7, 1.5],\n",
              "       [5.5, 1.4],\n",
              "       [5.9, 5.1],\n",
              "       [5. , 1.2],\n",
              "       [6.7, 5.6],\n",
              "       [4.9, 3.3],\n",
              "       [5.5, 4.4]])"
            ]
          },
          "metadata": {},
          "execution_count": 15
        }
      ]
    },
    {
      "cell_type": "code",
      "source": [
        "# training \n",
        "y_train[0:10]"
      ],
      "metadata": {
        "colab": {
          "base_uri": "https://localhost:8080/"
        },
        "id": "SfS3UMvo4NKC",
        "outputId": "61a86bf1-f0f9-4450-ee18-3865a4f1e5c0"
      },
      "execution_count": null,
      "outputs": [
        {
          "output_type": "execute_result",
          "data": {
            "text/plain": [
              "array([0, 0, 1, 0, 0, 2, 0, 2, 1, 1])"
            ]
          },
          "metadata": {},
          "execution_count": 16
        }
      ]
    },
    {
      "cell_type": "markdown",
      "source": [
        "**Test set**"
      ],
      "metadata": {
        "id": "VBwx5p0t4crP"
      }
    },
    {
      "cell_type": "code",
      "source": [
        "X_test[0:10]"
      ],
      "metadata": {
        "colab": {
          "base_uri": "https://localhost:8080/"
        },
        "id": "CGfeH3Zl2bTf",
        "outputId": "add64876-e670-479a-bc42-62ef45fbe438"
      },
      "execution_count": null,
      "outputs": [
        {
          "output_type": "execute_result",
          "data": {
            "text/plain": [
              "array([[4.8, 1.6],\n",
              "       [5.5, 4. ],\n",
              "       [5.4, 1.7],\n",
              "       [4.5, 1.3],\n",
              "       [6.5, 5.5],\n",
              "       [6.1, 4.7],\n",
              "       [7.7, 6.1],\n",
              "       [6.4, 5.6],\n",
              "       [4.7, 1.6],\n",
              "       [7.7, 6.9]])"
            ]
          },
          "metadata": {},
          "execution_count": 12
        }
      ]
    },
    {
      "cell_type": "code",
      "source": [
        "y_test[0:10]"
      ],
      "metadata": {
        "colab": {
          "base_uri": "https://localhost:8080/"
        },
        "id": "n7ls_YYZ4hPr",
        "outputId": "6cdbd1ae-dd2c-4d43-b670-5ecdcfd1bd84"
      },
      "execution_count": null,
      "outputs": [
        {
          "output_type": "execute_result",
          "data": {
            "text/plain": [
              "array([0, 1, 0, 0, 2, 1, 2, 2, 0, 2])"
            ]
          },
          "metadata": {},
          "execution_count": 17
        }
      ]
    },
    {
      "cell_type": "markdown",
      "source": [
        "[**Gradient boosting**](https://en.wikipedia.org/wiki/Gradient_boosting)\n",
        "\n",
        "Gradient boosting is a machine learning technique used in regression and classification tasks, among others. \n",
        "\n",
        "* It gives a prediction model in the form of an ensemble of weak prediction models, which are typically decision trees.\n",
        "\n",
        "* When a decision tree is the weak learner, the resulting algorithm is called gradient-boosted trees; it usually outperforms random forest.\n",
        "\n",
        "* A gradient-boosted trees model is built in a stage-wise fashion as in other boosting methods, but it generalizes the other methods by allowing optimization of an arbitrary differentiable loss function"
      ],
      "metadata": {
        "id": "lb0F_sbi49Hm"
      }
    },
    {
      "cell_type": "code",
      "source": [
        "# Gradient Boosting Classifier model\n",
        "GBC_model = GradientBoostingClassifier()"
      ],
      "metadata": {
        "id": "X_bR8QLE49bb"
      },
      "execution_count": null,
      "outputs": []
    },
    {
      "cell_type": "code",
      "source": [
        "# fit to data a Logistic Regresion model\n",
        "GBC_model.fit(X_train, y_train)"
      ],
      "metadata": {
        "colab": {
          "base_uri": "https://localhost:8080/"
        },
        "id": "Lhf-WBme5ayC",
        "outputId": "8f2f0d60-58fe-4ac4-fb41-6641f3d03857"
      },
      "execution_count": null,
      "outputs": [
        {
          "output_type": "execute_result",
          "data": {
            "text/plain": [
              "GradientBoostingClassifier()"
            ]
          },
          "metadata": {},
          "execution_count": 21
        }
      ]
    },
    {
      "cell_type": "markdown",
      "source": [
        "**[Decision boundary](https://en.wikipedia.org/wiki/Decision_boundary)**\n",
        "\n",
        "* A decision boundary is the region of a problem space in which the output label of a classifier is ambiguous.\n",
        "\n",
        "* If the decision surface is a hyperplane, then the classification problem is linear, and the classes are linearly separable.\n",
        "\n",
        "* In a statistical-classification problem with two classes, a decision boundary or decision surface is a hypersurface that partitions the underlying vector space into two sets, one for each class.\n",
        "\n",
        "* You can find a related information to this topic in this [publication](https://towardsdatascience.com/classification-problems-and-exploring-decision-boundaries-3317e03afcdb).\n",
        "\n",
        "**Note**: The code used allows us to use a 2D dimensional space to show the decision boundary. Be aware that in this example we are using 2 features (2D). "
      ],
      "metadata": {
        "id": "ja6NOcAdO2Dl"
      }
    },
    {
      "cell_type": "code",
      "source": [
        "# Plotting the decision boundary \n",
        "plot_decision_regions(X_train, y_train, clf=GBC_model, legend=7);"
      ],
      "metadata": {
        "colab": {
          "base_uri": "https://localhost:8080/",
          "height": 320
        },
        "id": "Gs3Y6gvrP_ck",
        "outputId": "5b8bd09a-7800-4c77-b841-9178968be5ed"
      },
      "execution_count": null,
      "outputs": [
        {
          "output_type": "stream",
          "name": "stderr",
          "text": [
            "/usr/local/lib/python3.7/dist-packages/mlxtend/plotting/decision_regions.py:244: MatplotlibDeprecationWarning: Passing unsupported keyword arguments to axis() will raise a TypeError in 3.3.\n",
            "  ax.axis(xmin=xx.min(), xmax=xx.max(), y_min=yy.min(), y_max=yy.max())\n"
          ]
        },
        {
          "output_type": "display_data",
          "data": {
            "image/png": "[encoded data removed]",
            "text/plain": [
              "<Figure size 432x288 with 1 Axes>"
            ]
          },
          "metadata": {
            "needs_background": "light"
          }
        }
      ]
    },
    {
      "cell_type": "markdown",
      "source": [
        "###Exercise-12\n",
        "\n",
        "In this exercise, you will create a new dataset to test your model, you need to add or modify the code in the following cells, here you have some highlight and hints to solve this exercise:\n",
        "* Add the missing parts of the code;\n",
        "* compare it against the example;\n",
        "* use different var names, for instance; fig2, ax2, etc;\n",
        "* use different colors for the dots;\n",
        "* use different shapes for the marks\n",
        "* show the predictions on the new dataset;\n",
        "* verify if the given label is correct;\n",
        "* give the percentage of correct classiffied data points."
      ],
      "metadata": {
        "id": "JlyarzQN7GQc"
      }
    },
    {
      "cell_type": "code",
      "source": [
        "# make predictions (assign class labels)\n",
        "y_pred = GBC_model(X_test)\n",
        "# show the inputs and predicted outputs\n",
        "for k in range(X_test):\n",
        "\t#print(\"X=%s, Class Predicted = %s\" % (X_test[i], y_pred[i]))\n",
        "  print(\"X{0} = {1}, Class Predicted = {2}\".format(i, X_test, y_pred))"
      ],
      "metadata": {
        "id": "UrXicBKD7H3j"
      },
      "execution_count": null,
      "outputs": []
    },
    {
      "cell_type": "code",
      "source": [
        "# create a data frame\n",
        "df_new = DataFrame(dict(x=X_test, y=X_test, y_pred))"
      ],
      "metadata": {
        "id": "Zx97HGUK7W4Z"
      },
      "execution_count": null,
      "outputs": []
    },
    {
      "cell_type": "code",
      "source": [
        "# show 10 rows \n",
        "df_new.head()"
      ],
      "metadata": {
        "id": "rneHwcZa7cQT"
      },
      "execution_count": null,
      "outputs": []
    },
    {
      "cell_type": "code",
      "source": [
        "# three classes\n",
        "colors2 = orange,brown,cyan\n",
        "# figure\n",
        "fig2, ax2 = subplots()\n",
        "# new data\n",
        "grouped2 = df_new.group('label')\n",
        "# scatter plot\n",
        "for key2, group2 in grouped:\n",
        "    group2.plot(ax=ax2, kind='scatter', x='x', y='y', label, color=colors2)\n",
        "# show the plot\n",
        "plt.show();"
      ],
      "metadata": {
        "id": "jrPAOKbL7i4T"
      },
      "execution_count": null,
      "outputs": []
    },
    {
      "cell_type": "code",
      "source": [
        "# Plotting the new decision boundary \n",
        "# from the LogisticRegression model\n",
        "plot_regions(X_test, y_pred, GBC_model, legend=18)"
      ],
      "metadata": {
        "id": "91FVsisE7qAt"
      },
      "execution_count": null,
      "outputs": []
    }
  ]
}