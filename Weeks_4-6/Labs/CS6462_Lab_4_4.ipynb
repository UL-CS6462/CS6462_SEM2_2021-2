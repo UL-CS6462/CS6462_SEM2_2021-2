{
  "nbformat": 4,
  "nbformat_minor": 0,
  "metadata": {
    "colab": {
      "name": "CS6462_Lab_4_4.ipynb",
      "provenance": []
    },
    "kernelspec": {
      "name": "python3",
      "display_name": "Python 3"
    },
    "language_info": {
      "name": "python"
    }
  },
  "cells": [
    {
      "cell_type": "markdown",
      "source": [
        "<div>\n",
        "<img src=\"https://drive.google.com/uc?export=view&id=1vK33e_EqaHgBHcbRV_m38hx6IkG0blK_\" width=\"350\"/>\n",
        "</div> \n",
        "\n",
        "#**Artificial Intelligence - MSc**\n",
        "\n",
        "##CS6462 - PROBABILISTIC AND EXPLAINABLE AI \n",
        "##SEM2 2021/2\n",
        "\n",
        "###CS6462_Lab_4.4\n",
        "\n",
        "###Instructor: Enrique Naredo\n",
        "\n",
        "Copyright (C) 2022 - All rights reserved, do not copy or distribute without permission of the author."
      ],
      "metadata": {
        "id": "286fVwK0Iah6"
      }
    },
    {
      "cell_type": "markdown",
      "source": [
        "## [Classification](https://en.wikipedia.org/wiki/Statistical_classification)"
      ],
      "metadata": {
        "id": "4LlUvu-id_NZ"
      }
    },
    {
      "cell_type": "markdown",
      "source": [
        "In statistics, classification is the problem of identifying which of a set of categories (sub-populations) an observation (or observations) belongs to. \n",
        "\n",
        "Classification examples:\n",
        "* assigning a given email to the \"spam\" or \"non-spam\" class, \n",
        "* assigning a diagnosis to a given patient (sex, blood pressure, presence or absence of certain symptoms, etc.)\n",
        "\n",
        "An algorithm that implements classification, especially in a concrete implementation, is known as a classifier. \n",
        "\n",
        "* The term \"classifier\" sometimes also refers to the mathematical function, \n",
        "* implemented by a classification algorithm, that maps input data to a category. "
      ],
      "metadata": {
        "id": "HNO29PncdGS7"
      }
    },
    {
      "cell_type": "markdown",
      "source": [
        "### Example-4 \n",
        "\n",
        "**Binary Classification**"
      ],
      "metadata": {
        "id": "LKbIbiVCJpcI"
      }
    },
    {
      "cell_type": "code",
      "execution_count": null,
      "metadata": {
        "id": "yCCN0yczITzB"
      },
      "outputs": [],
      "source": [
        "# import libraries\n",
        "from sklearn.datasets import make_blobs\n",
        "from sklearn.linear_model import LogisticRegression\n",
        "from pandas import DataFrame\n",
        "from mlxtend.plotting import plot_decision_regions\n",
        "import matplotlib.pyplot as plt\n",
        "import numpy as np\n",
        "import warnings\n",
        "warnings.filterwarnings('ignore')"
      ]
    },
    {
      "cell_type": "markdown",
      "source": [
        "**Synthetic Dataset**\n",
        "\n",
        "Generate isotropic Gaussian blobs using \"make_blobs\""
      ],
      "metadata": {
        "id": "usRNrKMMK3U8"
      }
    },
    {
      "cell_type": "code",
      "source": [
        "## randomly generate a 2d, 2 classes dataset\n",
        "# run several times the cell to observe the results\n",
        "\n",
        "X1, y1 = make_blobs(n_samples=200, centers=2, n_features=2)\n",
        "# create a data frame\n",
        "df = DataFrame(dict(x=X1[:,0], y=X1[:,1], label=y1))\n",
        "# two classes\n",
        "colors = {0:'red', 1:'blue'}\n",
        "# figure\n",
        "fig, ax = plt.subplots()\n",
        "grouped = df.groupby('label')\n",
        "# scatter plot\n",
        "for key, group in grouped:\n",
        "    group.plot(ax=ax, kind='scatter', x='x', y='y', label=key, color=colors[key])\n",
        "# show the plot\n",
        "plt.show();"
      ],
      "metadata": {
        "colab": {
          "base_uri": "https://localhost:8080/",
          "height": 279
        },
        "id": "N7ZZTRSJK1bd",
        "outputId": "cacc0fd7-c97e-485d-88df-e173242168a1"
      },
      "execution_count": null,
      "outputs": [
        {
          "output_type": "display_data",
          "data": {
            "image/png": "[encoded data removed]",
            "text/plain": [
              "<Figure size 432x288 with 1 Axes>"
            ]
          },
          "metadata": {
            "needs_background": "light"
          }
        }
      ]
    },
    {
      "cell_type": "code",
      "source": [
        "# show first n rows (default 5)\n",
        "df.head()"
      ],
      "metadata": {
        "colab": {
          "base_uri": "https://localhost:8080/",
          "height": 206
        },
        "id": "A8nFDxx3LGvu",
        "outputId": "d2afef3f-6cd7-47f5-9b48-c857f8db8b48"
      },
      "execution_count": null,
      "outputs": [
        {
          "output_type": "execute_result",
          "data": {
            "text/html": [
              "\n",
              "  <div id=\"df-53357aa1-f841-4f88-b340-2b72b263fa96\">\n",
              "    <div class=\"colab-df-container\">\n",
              "      <div>\n",
              "<style scoped>\n",
              "    .dataframe tbody tr th:only-of-type {\n",
              "        vertical-align: middle;\n",
              "    }\n",
              "\n",
              "    .dataframe tbody tr th {\n",
              "        vertical-align: top;\n",
              "    }\n",
              "\n",
              "    .dataframe thead th {\n",
              "        text-align: right;\n",
              "    }\n",
              "</style>\n",
              "<table border=\"1\" class=\"dataframe\">\n",
              "  <thead>\n",
              "    <tr style=\"text-align: right;\">\n",
              "      <th></th>\n",
              "      <th>x</th>\n",
              "      <th>y</th>\n",
              "      <th>label</th>\n",
              "    </tr>\n",
              "  </thead>\n",
              "  <tbody>\n",
              "    <tr>\n",
              "      <th>0</th>\n",
              "      <td>-1.101104</td>\n",
              "      <td>7.729733</td>\n",
              "      <td>1</td>\n",
              "    </tr>\n",
              "    <tr>\n",
              "      <th>1</th>\n",
              "      <td>0.795921</td>\n",
              "      <td>8.296059</td>\n",
              "      <td>1</td>\n",
              "    </tr>\n",
              "    <tr>\n",
              "      <th>2</th>\n",
              "      <td>0.784318</td>\n",
              "      <td>8.803522</td>\n",
              "      <td>1</td>\n",
              "    </tr>\n",
              "    <tr>\n",
              "      <th>3</th>\n",
              "      <td>-0.497022</td>\n",
              "      <td>9.672867</td>\n",
              "      <td>1</td>\n",
              "    </tr>\n",
              "    <tr>\n",
              "      <th>4</th>\n",
              "      <td>-0.020148</td>\n",
              "      <td>7.301145</td>\n",
              "      <td>1</td>\n",
              "    </tr>\n",
              "  </tbody>\n",
              "</table>\n",
              "</div>\n",
              "      <button class=\"colab-df-convert\" onclick=\"convertToInteractive('df-53357aa1-f841-4f88-b340-2b72b263fa96')\"\n",
              "              title=\"Convert this dataframe to an interactive table.\"\n",
              "              style=\"display:none;\">\n",
              "        \n",
              "  <svg xmlns=\"http://www.w3.org/2000/svg\" height=\"24px\"viewBox=\"0 0 24 24\"\n",
              "       width=\"24px\">\n",
              "    <path d=\"M0 0h24v24H0V0z\" fill=\"none\"/>\n",
              "    <path d=\"M18.56 5.44l.94 2.06.94-2.06 2.06-.94-2.06-.94-.94-2.06-.94 2.06-2.06.94zm-11 1L8.5 8.5l.94-2.06 2.06-.94-2.06-.94L8.5 2.5l-.94 2.06-2.06.94zm10 10l.94 2.06.94-2.06 2.06-.94-2.06-.94-.94-2.06-.94 2.06-2.06.94z\"/><path d=\"M17.41 7.96l-1.37-1.37c-.4-.4-.92-.59-1.43-.59-.52 0-1.04.2-1.43.59L10.3 9.45l-7.72 7.72c-.78.78-.78 2.05 0 2.83L4 21.41c.39.39.9.59 1.41.59.51 0 1.02-.2 1.41-.59l7.78-7.78 2.81-2.81c.8-.78.8-2.07 0-2.86zM5.41 20L4 18.59l7.72-7.72 1.47 1.35L5.41 20z\"/>\n",
              "  </svg>\n",
              "      </button>\n",
              "      \n",
              "  <style>\n",
              "    .colab-df-container {\n",
              "      display:flex;\n",
              "      flex-wrap:wrap;\n",
              "      gap: 12px;\n",
              "    }\n",
              "\n",
              "    .colab-df-convert {\n",
              "      background-color: #E8F0FE;\n",
              "      border: none;\n",
              "      border-radius: 50%;\n",
              "      cursor: pointer;\n",
              "      display: none;\n",
              "      fill: #1967D2;\n",
              "      height: 32px;\n",
              "      padding: 0 0 0 0;\n",
              "      width: 32px;\n",
              "    }\n",
              "\n",
              "    .colab-df-convert:hover {\n",
              "      background-color: #E2EBFA;\n",
              "      box-shadow: 0px 1px 2px rgba(60, 64, 67, 0.3), 0px 1px 3px 1px rgba(60, 64, 67, 0.15);\n",
              "      fill: #174EA6;\n",
              "    }\n",
              "\n",
              "    [theme=dark] .colab-df-convert {\n",
              "      background-color: #3B4455;\n",
              "      fill: #D2E3FC;\n",
              "    }\n",
              "\n",
              "    [theme=dark] .colab-df-convert:hover {\n",
              "      background-color: #434B5C;\n",
              "      box-shadow: 0px 1px 3px 1px rgba(0, 0, 0, 0.15);\n",
              "      filter: drop-shadow(0px 1px 2px rgba(0, 0, 0, 0.3));\n",
              "      fill: #FFFFFF;\n",
              "    }\n",
              "  </style>\n",
              "\n",
              "      <script>\n",
              "        const buttonEl =\n",
              "          document.querySelector('#df-53357aa1-f841-4f88-b340-2b72b263fa96 button.colab-df-convert');\n",
              "        buttonEl.style.display =\n",
              "          google.colab.kernel.accessAllowed ? 'block' : 'none';\n",
              "\n",
              "        async function convertToInteractive(key) {\n",
              "          const element = document.querySelector('#df-53357aa1-f841-4f88-b340-2b72b263fa96');\n",
              "          const dataTable =\n",
              "            await google.colab.kernel.invokeFunction('convertToInteractive',\n",
              "                                                     [key], {});\n",
              "          if (!dataTable) return;\n",
              "\n",
              "          const docLinkHtml = 'Like what you see? Visit the ' +\n",
              "            '<a target=\"_blank\" href=https://colab.research.google.com/notebooks/data_table.ipynb>data table notebook</a>'\n",
              "            + ' to learn more about interactive tables.';\n",
              "          element.innerHTML = '';\n",
              "          dataTable['output_type'] = 'display_data';\n",
              "          await google.colab.output.renderOutput(dataTable, element);\n",
              "          const docLink = document.createElement('div');\n",
              "          docLink.innerHTML = docLinkHtml;\n",
              "          element.appendChild(docLink);\n",
              "        }\n",
              "      </script>\n",
              "    </div>\n",
              "  </div>\n",
              "  "
            ],
            "text/plain": [
              "          x         y  label\n",
              "0 -1.101104  7.729733      1\n",
              "1  0.795921  8.296059      1\n",
              "2  0.784318  8.803522      1\n",
              "3 -0.497022  9.672867      1\n",
              "4 -0.020148  7.301145      1"
            ]
          },
          "metadata": {},
          "execution_count": 3
        }
      ]
    },
    {
      "cell_type": "code",
      "source": [
        "# count the data elements for each class\n",
        "df['label'].value_counts()"
      ],
      "metadata": {
        "colab": {
          "base_uri": "https://localhost:8080/"
        },
        "id": "Snn460z7LNFZ",
        "outputId": "65e1e66a-b6bd-41e0-96cb-731b4b026847"
      },
      "execution_count": null,
      "outputs": [
        {
          "output_type": "execute_result",
          "data": {
            "text/plain": [
              "1    100\n",
              "0    100\n",
              "Name: label, dtype: int64"
            ]
          },
          "metadata": {},
          "execution_count": 4
        }
      ]
    },
    {
      "cell_type": "markdown",
      "source": [
        "##[Logistic Regresion](https://en.wikipedia.org/wiki/Logistic_regression)\n",
        "\n",
        "Logistic regression is a statistical model that in its basic form uses a logistic function to model a binary dependent variable, although many more complex extensions exist.\n",
        "\n",
        "In regression analysis, logistic regression (or logit regression) is estimating the parameters of a logistic model (a form of binary regression)."
      ],
      "metadata": {
        "id": "cNRsFPCvOBx-"
      }
    },
    {
      "cell_type": "code",
      "source": [
        "# Logistic Regression model\n",
        "LR_model = LogisticRegression()"
      ],
      "metadata": {
        "id": "bPujVAeyOaKI"
      },
      "execution_count": null,
      "outputs": []
    },
    {
      "cell_type": "code",
      "source": [
        "# verify the var names to correctly run this cell\n",
        "LR_model.fit(X1, y1)"
      ],
      "metadata": {
        "colab": {
          "base_uri": "https://localhost:8080/"
        },
        "id": "m-YFexXgOfLn",
        "outputId": "8d4601c2-c6e7-4a21-ed06-6f6b1ae80ed2"
      },
      "execution_count": null,
      "outputs": [
        {
          "output_type": "execute_result",
          "data": {
            "text/plain": [
              "LogisticRegression()"
            ]
          },
          "metadata": {},
          "execution_count": 7
        }
      ]
    },
    {
      "cell_type": "markdown",
      "source": [
        "**[Decision boundary](https://en.wikipedia.org/wiki/Decision_boundary)**\n",
        "\n",
        "* A decision boundary is the region of a problem space in which the output label of a classifier is ambiguous.\n",
        "\n",
        "* If the decision surface is a hyperplane, then the classification problem is linear, and the classes are linearly separable.\n",
        "\n",
        "* In a statistical-classification problem with two classes, a decision boundary or decision surface is a hypersurface that partitions the underlying vector space into two sets, one for each class.\n",
        "\n",
        "* You can find a related information to this topic in this [publication](https://towardsdatascience.com/classification-problems-and-exploring-decision-boundaries-3317e03afcdb).\n",
        "\n",
        "**Note**: The code used allows us to use a 2D dimensional space to show the decision boundary. Be aware that in this example we are using 2 features (2D). "
      ],
      "metadata": {
        "id": "ja6NOcAdO2Dl"
      }
    },
    {
      "cell_type": "code",
      "source": [
        "# Plotting the decision boundary \n",
        "plot_decision_regions(X1, y1, clf=LR_model, legend=2);"
      ],
      "metadata": {
        "colab": {
          "base_uri": "https://localhost:8080/",
          "height": 265
        },
        "id": "Gs3Y6gvrP_ck",
        "outputId": "cc1393f0-7e76-4bb9-8203-7818c822fb65"
      },
      "execution_count": null,
      "outputs": [
        {
          "output_type": "display_data",
          "data": {
            "image/png": "[encoded data removed]",
            "text/plain": [
              "<Figure size 432x288 with 1 Axes>"
            ]
          },
          "metadata": {
            "needs_background": "light"
          }
        }
      ]
    },
    {
      "cell_type": "markdown",
      "source": [
        "###Exercise-9\n",
        "\n",
        "In this exercise, you will create a new dataset to test your model, you need to add or modify the code in the following cells, here you have some highlight and hints to solve this exercise:\n",
        "* Add the missing parts of the code;\n",
        "* compare it against the example;\n",
        "* use different var names, for instance; fig2, ax2, etc;\n",
        "* use different colors for the dots;\n",
        "* use different shapes for the [markers](https://matplotlib.org/stable/api/markers_api.html);\n",
        "* show the predictions on the new dataset;\n",
        "* verify if the given label is correct;\n",
        "* give the percentage of correct classiffied data points."
      ],
      "metadata": {
        "id": "R80aglWFQle-"
      }
    },
    {
      "cell_type": "code",
      "source": [
        "# new data instances, use 50 samples\n",
        "# and add the missing part of the code\n",
        "X_new, _ = "
      ],
      "metadata": {
        "id": "7UKf7YTXQOGR"
      },
      "execution_count": null,
      "outputs": []
    },
    {
      "cell_type": "markdown",
      "source": [
        "###Predictions"
      ],
      "metadata": {
        "id": "4SVpjnbIRKLI"
      }
    },
    {
      "cell_type": "code",
      "source": [
        "# make predictions (assign class labels)\n",
        "y_pred = LR_model.predict( )"
      ],
      "metadata": {
        "id": "ulVMg2t4QOB4"
      },
      "execution_count": null,
      "outputs": []
    },
    {
      "cell_type": "code",
      "source": [
        "# show the inputs and predicted outputs\n",
        "for j in range(len( )):\n",
        "  print(\"X{0} = {1}, Class Predicted = {2}\".format(i, [i], y_pred[i]))"
      ],
      "metadata": {
        "id": "YrR6GWuJZLCU"
      },
      "execution_count": null,
      "outputs": []
    },
    {
      "cell_type": "code",
      "source": [
        "# create a data frame\n",
        "# add the missing code in this cell\n",
        "\n",
        "df_new = DataFrame(dict(X_new[:,0], X_new[:,1], label= ))"
      ],
      "metadata": {
        "id": "-kJAK-BBQN-u"
      },
      "execution_count": null,
      "outputs": []
    },
    {
      "cell_type": "code",
      "source": [
        "# show 7 rows \n",
        "df_new.head( )"
      ],
      "metadata": {
        "id": "-tpfJIVFR6dg"
      },
      "execution_count": null,
      "outputs": []
    },
    {
      "cell_type": "code",
      "source": [
        "# use: 'green', 'brown'\n",
        "colors2 = \n",
        "\n",
        "# figure\n",
        "fig2,  = plt.subplots()\n",
        "\n",
        "# new data\n",
        " = df_new.groupby('label')\n",
        "\n",
        "# scatter plot\n",
        "for key2, group2 in grouped2:\n",
        "    group.plot(ax=ax2, kind= , x='x', y='y', label=key, color=colors2[key])\n",
        "\n",
        "# show the plot\n",
        "plt.show ;"
      ],
      "metadata": {
        "id": "AIp3w5TqR6a6"
      },
      "execution_count": null,
      "outputs": []
    },
    {
      "cell_type": "code",
      "source": [
        "# vary the value of pos from 1 to 10 (1,2,3,4,5,6,7,8,9,10)\n",
        "# and report your findings \n",
        "pos = 1\n",
        "plot_decision_regions(X, y, clf=LR_model, legend=pos)"
      ],
      "metadata": {
        "id": "Pgg5Ot7Saf8D"
      },
      "execution_count": null,
      "outputs": []
    }
  ]
}