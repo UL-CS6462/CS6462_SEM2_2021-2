{
  "nbformat": 4,
  "nbformat_minor": 0,
  "metadata": {
    "colab": {
      "name": "CS6462_Lab_4_1.ipynb",
      "provenance": []
    },
    "kernelspec": {
      "name": "python3",
      "display_name": "Python 3"
    },
    "language_info": {
      "name": "python"
    }
  },
  "cells": [
    {
      "cell_type": "markdown",
      "source": [
        "<div>\n",
        "<img src=\"https://drive.google.com/uc?export=view&id=1vK33e_EqaHgBHcbRV_m38hx6IkG0blK_\" width=\"350\"/>\n",
        "</div> \n",
        "\n",
        "#**Artificial Intelligence - MSc**\n",
        "\n",
        "##CS6462 - PROBABILISTIC AND EXPLAINABLE AI \n",
        "##SEM2 2021/2\n",
        "\n",
        "###CS6462_Lab_4.1\n",
        "\n",
        "###Instructor: Enrique Naredo\n",
        "\n",
        "Copyright (C) 2022 - All rights reserved, do not copy or distribute without permission of the author."
      ],
      "metadata": {
        "id": "oXLK3P8TUrTI"
      }
    },
    {
      "cell_type": "markdown",
      "source": [
        "##Linear Regression"
      ],
      "metadata": {
        "id": "4C8Sv_SlVGu5"
      }
    },
    {
      "cell_type": "markdown",
      "source": [
        "In statistics, [linear regression](https://en.wikipedia.org/wiki/Linear_regression) is a linear approach for modelling the relationship between a scalar response and one or more explanatory variables (also known as dependent and independent variables).\n",
        "\n",
        "[Linear regression](https://www.youtube.com/watch?v=nk2CQITm_eo) is the next step up after correlation.\n",
        "\n"
      ],
      "metadata": {
        "id": "CocoyGnqXbTk"
      }
    },
    {
      "cell_type": "markdown",
      "source": [
        "###Frequentist Linear Regression"
      ],
      "metadata": {
        "id": "Een5LGFcU-18"
      }
    },
    {
      "cell_type": "markdown",
      "source": [
        "The [frequentist probablity](https://en.wikipedia.org/wiki/Frequentist_probability) view of linear regression is the best well known method taught at schools.\n",
        "\n",
        "The model assumes that the response variable (y) is a linear combination of weights (coefficients) multiplied by a set of predictor variables (x) and also includes an error term to account for random sampling noise. \n",
        "\n",
        "* For example, if we have just one predictor, then we have:\n",
        " $$ y = \\beta_0 + \\beta_1 x_1 + ϵ$$\n",
        "\n",
        "* sometimes in the literature the 'intercept' $\\beta_0$ is refered as $\\alpha$:\n",
        " $$ y = \\alpha + \\beta x + ϵ$$\n",
        "\n",
        "* if we have two predictors, the equation is:\n",
        " $$ y = \\beta_0 + \\beta_1 x_1 +  \\beta_2 x_2 + ϵ$$\n",
        "\n",
        "* for n predictors:\n",
        " $$ y = \\beta_0 + \\beta_1 x_1 + \\beta_2 x_2 + \\cdots +  \\beta_n x_n + ϵ$$\n",
        "\n",
        "* for the general case, the equation is:\n",
        " $$ y = \\beta_0 + \\beta x_i + ϵ$$\n",
        "\n",
        "* Using matrix notation\n",
        "$$ y = \\beta^T x_i + ϵ $$\n",
        "\n",
        "**Note-1**: $y$ is the true value, meaning that our models will try to model it, we say that the model estimate the true value, that's why the outcome of the models is $\\hat{y}$ instead."
      ],
      "metadata": {
        "id": "wgn5Oph7VCt3"
      }
    },
    {
      "cell_type": "markdown",
      "source": [
        "In linear regression, the goal is to find the coefficients; $\\beta_i$, that best explain the data. \n",
        "\n",
        "We can imagine that there are many possible combinations of the coefficients to build a model,  \n",
        "* the [residual sum of squares](https://en.wikipedia.org/wiki/Residual_sum_of_squares) (RSS),\n",
        "* also known as the sum of squared residuals (SSR),\n",
        "* or the sum of squared estimate of errors (SSE):\n",
        "\n",
        "$$ RSS(\\beta) = \\sum_{i=1}^n (y_i - \\hat{y})^2 $$\n",
        "\n",
        "and substituing $\\hat{y}$ ($y$, in the original equation), we have\n",
        "\n",
        "$$ RSS(\\beta) = \\sum_{i=1}^n (y_i - \\beta^T x_i)^2 $$"
      ],
      "metadata": {
        "id": "pfiL6pihfbZk"
      }
    },
    {
      "cell_type": "markdown",
      "source": [
        "The first step is to find $\\beta_i$, we do this using the data points $x_i$ in the training set to compute the maximum likelihood estimation (MLE) of $\\beta_i$, meaning that we are looking for the value that is the most probable:\n",
        "\n",
        "$$ \\hat{\\beta} = (X^T X)^{-1} X^T y $$\n",
        "\n",
        "**Note-2**: Recall that we are estimating the coeffcients $\\beta$, or in more general way, the model parameters, for this reason we use $\\hat{\\beta}$.\n",
        "\n",
        "**Note-3**: Not all matrices are invertible, you will either need to change the way you're generating matrices, or skip the ones that aren't invertible."
      ],
      "metadata": {
        "id": "AITpbqZimvgx"
      }
    },
    {
      "cell_type": "markdown",
      "source": [
        "Second step is to estimate the output $y_i$ of any **new** data point $x_j$:\n",
        "\n",
        "$$ \\hat{y} = \\hat{\\beta}^T x_j + ϵ $$\n",
        "\n",
        "**Note**: We use the index $j$, just to make a distinction between the training ad test set."
      ],
      "metadata": {
        "id": "jzcpzXBIp8ml"
      }
    },
    {
      "cell_type": "markdown",
      "source": [
        "###Example-1\n",
        "\n",
        "Now, it's time to hands-on coding what we have already learned."
      ],
      "metadata": {
        "id": "CgKmg1Jzveka"
      }
    },
    {
      "cell_type": "code",
      "execution_count": null,
      "metadata": {
        "id": "1YCYb4h2Um_l"
      },
      "outputs": [],
      "source": [
        "# import basic modules\n",
        "import numpy as np\n",
        "import matplotlib.pyplot as plt\n",
        "import pandas as pd\n",
        "import seaborn as sns"
      ]
    },
    {
      "cell_type": "code",
      "source": [
        "## Generate linear artificial (synthetic) data\n",
        "\n",
        "# to replicate same experiment each time\n",
        "R = np.random.RandomState(1001) # <- magic number (9)\n",
        "\n",
        "# number of data points\n",
        "N = 50\n",
        "\n",
        "# independent var\n",
        "x = np.linspace(0, 2, num=N)\n",
        "\n",
        "# noise\n",
        "ϵ = np.random.randn(N)*0.25\n",
        "\n",
        "# true response var\n",
        "y = np.sin(x) + ϵ "
      ],
      "metadata": {
        "id": "LyS2sfP1u24k"
      },
      "execution_count": null,
      "outputs": []
    },
    {
      "cell_type": "code",
      "source": [
        "# plot (linear) data points\n",
        "plt.scatter(x, y);"
      ],
      "metadata": {
        "colab": {
          "base_uri": "https://localhost:8080/",
          "height": 265
        },
        "id": "FR4Kh1CBAkot",
        "outputId": "97828a09-9e90-4d04-d197-d69c2070d3cd"
      },
      "execution_count": null,
      "outputs": [
        {
          "output_type": "display_data",
          "data": {
            "image/png": "[encoded data removed]",
            "text/plain": [
              "<Figure size 432x288 with 1 Axes>"
            ]
          },
          "metadata": {
            "needs_background": "light"
          }
        }
      ]
    },
    {
      "cell_type": "markdown",
      "source": [
        "###Linear estimation"
      ],
      "metadata": {
        "id": "MnfxJjbdLQvE"
      }
    },
    {
      "cell_type": "code",
      "source": [
        "# the @ operator used for matrix multiplication\n",
        "β_hat = x.T @ y / (x.T @ x)  \n",
        "α_hat = np.mean(y) - β_hat * np.mean(x)\n",
        "y_hat = α_hat + β_hat*x "
      ],
      "metadata": {
        "id": "P-451MTNV119"
      },
      "execution_count": null,
      "outputs": []
    },
    {
      "cell_type": "code",
      "source": [
        "plt.scatter(x, y);\n",
        "plt.plot(x, y_hat, color='red', alpha=0.75, label='Regression line');"
      ],
      "metadata": {
        "colab": {
          "base_uri": "https://localhost:8080/",
          "height": 265
        },
        "id": "oYTxVxp7i32a",
        "outputId": "04b45006-224c-400b-f1a5-0da39938c887"
      },
      "execution_count": null,
      "outputs": [
        {
          "output_type": "display_data",
          "data": {
            "image/png": "[encoded data removed]",
            "text/plain": [
              "<Figure size 432x288 with 1 Axes>"
            ]
          },
          "metadata": {
            "needs_background": "light"
          }
        }
      ]
    },
    {
      "cell_type": "markdown",
      "source": [
        "###Exercise-1\n",
        "\n",
        "* Repeat the experiment \n",
        "* using 1% of noise\n",
        "* and 20 points\n",
        "* Plot the data points\n",
        "* Estimate the linear model\n",
        "* Plot the model in green along the *data* points"
      ],
      "metadata": {
        "id": "Fx2vckXE0dYh"
      }
    },
    {
      "cell_type": "code",
      "source": [
        ""
      ],
      "metadata": {
        "id": "sOcC6zlsjEZT"
      },
      "execution_count": null,
      "outputs": []
    },
    {
      "cell_type": "code",
      "source": [
        "# here your code\n",
        "\n",
        "\n",
        "\n"
      ],
      "metadata": {
        "id": "5ll0m06G0dYi"
      },
      "execution_count": null,
      "outputs": []
    },
    {
      "cell_type": "markdown",
      "source": [
        "###Exercise-2\n",
        "\n",
        "* Generate a new dataset in the interval [-5, -2]\n",
        "* Use 5% of noise\n",
        "* Plot 30 data points\n",
        "* Estimate the linear model\n",
        "* Plot the model in blue along the *data* points"
      ],
      "metadata": {
        "id": "BPyIyCSjv9Op"
      }
    },
    {
      "cell_type": "code",
      "source": [
        "# here your code\n",
        "\n",
        "\n",
        "\n"
      ],
      "metadata": {
        "id": "ky8UMewzhWL3"
      },
      "execution_count": null,
      "outputs": []
    },
    {
      "cell_type": "markdown",
      "source": [
        "###Exercise-3\n",
        "\n",
        "Print the corresponding values of $\\hat{\\alpha}$ and $\\hat{\\beta}$ for:\n",
        "\n",
        "* Example-1\n",
        "* Exercise-1\n",
        "* Exercise-2"
      ],
      "metadata": {
        "id": "nGuGRbGb4OOD"
      }
    },
    {
      "cell_type": "code",
      "source": [
        "# here your code\n",
        "\n",
        "\n",
        "\n"
      ],
      "metadata": {
        "id": "uyllw9Gk5Hc7"
      },
      "execution_count": null,
      "outputs": []
    }
  ]
}