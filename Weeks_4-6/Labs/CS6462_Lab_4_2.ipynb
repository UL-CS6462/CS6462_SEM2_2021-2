{
  "nbformat": 4,
  "nbformat_minor": 0,
  "metadata": {
    "colab": {
      "name": "CS6462_Lab_4_2.ipynb",
      "provenance": []
    },
    "kernelspec": {
      "name": "python3",
      "display_name": "Python 3"
    },
    "language_info": {
      "name": "python"
    }
  },
  "cells": [
    {
      "cell_type": "markdown",
      "source": [
        "<div>\n",
        "<img src=\"https://drive.google.com/uc?export=view&id=1vK33e_EqaHgBHcbRV_m38hx6IkG0blK_\" width=\"350\"/>\n",
        "</div> \n",
        "\n",
        "#**Artificial Intelligence - MSc**\n",
        "\n",
        "##CS6462 - PROBABILISTIC AND EXPLAINABLE AI \n",
        "##SEM2 2021/2\n",
        "\n",
        "###CS6462_Lab_4.2\n",
        "\n",
        "###Instructor: Enrique Naredo\n",
        "\n",
        "Copyright (C) 2022 - All rights reserved, do not copy or distribute without permission of the author."
      ],
      "metadata": {
        "id": "oXLK3P8TUrTI"
      }
    },
    {
      "cell_type": "markdown",
      "source": [
        "##Linear Regression"
      ],
      "metadata": {
        "id": "4C8Sv_SlVGu5"
      }
    },
    {
      "cell_type": "markdown",
      "source": [
        "In statistics, [linear regression](https://en.wikipedia.org/wiki/Linear_regression) is a linear approach for modelling the relationship between a scalar response and one or more explanatory variables (also known as dependent and independent variables).\n",
        "\n",
        "[Linear regression](https://www.youtube.com/watch?v=nk2CQITm_eo) is the next step up after correlation.\n",
        "\n"
      ],
      "metadata": {
        "id": "CocoyGnqXbTk"
      }
    },
    {
      "cell_type": "markdown",
      "source": [
        "### Example-2"
      ],
      "metadata": {
        "id": "CgKmg1Jzveka"
      }
    },
    {
      "cell_type": "code",
      "execution_count": null,
      "metadata": {
        "id": "1YCYb4h2Um_l"
      },
      "outputs": [],
      "source": [
        "# import basic modules\n",
        "import numpy as np\n",
        "import matplotlib.pyplot as plt\n",
        "import pandas as pd\n",
        "import seaborn as sns"
      ]
    },
    {
      "cell_type": "code",
      "source": [
        "## Generate linear artificial (synthetic) data\n",
        "\n",
        "# to replicate same experiment each time\n",
        "#R = np.random.RandomState(1001) # <- magic number (9)\n",
        "\n",
        "# number of data points\n",
        "N = 50\n",
        "\n",
        "# independent var\n",
        "x = np.linspace(10, 15, num=N)\n",
        "\n",
        "# noise\n",
        "ϵ = np.random.randn(N)*0.15\n",
        "\n",
        "# true response var\n",
        "y = np.sin(x) + ϵ "
      ],
      "metadata": {
        "id": "LyS2sfP1u24k"
      },
      "execution_count": null,
      "outputs": []
    },
    {
      "cell_type": "code",
      "source": [
        "# plot (linear) data points\n",
        "x = x.reshape(-1, 1)\n",
        "y = y.reshape(-1, 1)\n",
        "plt.scatter(x, y);"
      ],
      "metadata": {
        "colab": {
          "base_uri": "https://localhost:8080/",
          "height": 265
        },
        "id": "FR4Kh1CBAkot",
        "outputId": "94857820-1fc9-4b5c-cddc-54d801aac9ce"
      },
      "execution_count": null,
      "outputs": [
        {
          "output_type": "display_data",
          "data": {
            "image/png": "[encoded data removed]",
            "text/plain": [
              "<Figure size 432x288 with 1 Axes>"
            ]
          },
          "metadata": {
            "needs_background": "light"
          }
        }
      ]
    },
    {
      "cell_type": "markdown",
      "source": [
        "###Linear estimation"
      ],
      "metadata": {
        "id": "MnfxJjbdLQvE"
      }
    },
    {
      "cell_type": "markdown",
      "source": [
        "We will start using one of the most well-konwn library in Python for machine learning: [scikit-learn](https://scikit-learn.org/stable/).\n",
        "\n",
        "Scikit has many models to try, we will start by using:\n",
        "\n",
        "* [LinearRegression](https://scikit-learn.org/stable/modules/classes.html#module-sklearn.linear_model)"
      ],
      "metadata": {
        "id": "KQ66xHTeuwgA"
      }
    },
    {
      "cell_type": "code",
      "source": [
        "from sklearn.linear_model import LinearRegression\n",
        "\n",
        "LR = LinearRegression()\n",
        "y_fit =  LR.fit(x,y).predict(x)\n"
      ],
      "metadata": {
        "id": "6_b344Fpu2w2"
      },
      "execution_count": null,
      "outputs": []
    },
    {
      "cell_type": "code",
      "source": [
        "plt.scatter(x, y)\n",
        "plt.plot(x, y_fit, color='red')\n",
        "legend_title = 'Linear Regression\\n {} + {}*x'.format(round(LR.intercept_[0],2),round(LR.coef_[0][0],2))\n",
        "legend = plt.legend(loc='upper left', frameon=False, title=legend_title)\n",
        "plt.title(\"Linear Regression\")\n",
        "plt.show();"
      ],
      "metadata": {
        "colab": {
          "base_uri": "https://localhost:8080/",
          "height": 298
        },
        "id": "nXdTEmwn9F3q",
        "outputId": "eff98761-0f57-477e-bee7-73560169fd8b"
      },
      "execution_count": null,
      "outputs": [
        {
          "output_type": "stream",
          "name": "stderr",
          "text": [
            "No handles with labels found to put in legend.\n"
          ]
        },
        {
          "output_type": "display_data",
          "data": {
            "image/png": "[encoded data removed]",
            "text/plain": [
              "<Figure size 432x288 with 1 Axes>"
            ]
          },
          "metadata": {
            "needs_background": "light"
          }
        }
      ]
    },
    {
      "cell_type": "code",
      "source": [
        "from sklearn.linear_model import LinearRegression\n",
        "\n",
        "LR = LinearRegression()\n",
        "y_fit =  LR.fit(x,y).predict(x)"
      ],
      "metadata": {
        "id": "i64f4FqoTd1e"
      },
      "execution_count": null,
      "outputs": []
    },
    {
      "cell_type": "code",
      "source": [
        "plt.figure(figsize=(8,6))\n",
        "plt.tight_layout();\n",
        "sns.displot(y, kde=True);"
      ],
      "metadata": {
        "id": "5qGFy_R1EedX",
        "colab": {
          "base_uri": "https://localhost:8080/",
          "height": 386
        },
        "outputId": "b72fda58-8e5c-4b96-fa36-19d11d5a707d"
      },
      "execution_count": null,
      "outputs": [
        {
          "output_type": "display_data",
          "data": {
            "text/plain": [
              "<Figure size 576x432 with 0 Axes>"
            ]
          },
          "metadata": {}
        },
        {
          "output_type": "display_data",
          "data": {
            "image/png": "[encoded data removed]",
            "text/plain": [
              "<Figure size 402.25x360 with 1 Axes>"
            ]
          },
          "metadata": {
            "needs_background": "light"
          }
        }
      ]
    },
    {
      "cell_type": "markdown",
      "source": [
        "### Exercise-4\n",
        "\n",
        "* Create a new input dataset using: ```linspace(0,1,100)```;\n",
        "* use this input and create an output summing the input to: ```x2+ np.cos(4*np.pi*x2) + np.random.randn(len(x2))*0.2```;\n",
        "* plot input in green;\n",
        "* use the linear model to fit the input data;\n",
        "* plot the linear model in brown;\n",
        "* add the equation of the model in the plot similarlly as in the example.\n",
        "* plot the histogram and the distribution shape in the same figure as in the example"
      ],
      "metadata": {
        "id": "HXMF2XibTkLI"
      }
    },
    {
      "cell_type": "code",
      "source": [
        "# your code here\n",
        "\n",
        "\n",
        "\n",
        "\n",
        "\n"
      ],
      "metadata": {
        "id": "quesuuCel7gc"
      },
      "execution_count": null,
      "outputs": []
    },
    {
      "cell_type": "markdown",
      "source": [
        "### Exercise-5\n",
        "\n",
        "* Create a new input dataset using: ```linspace(0,1,100)```;\n",
        "\n",
        "* create a periodic datatset using the input in the following code:\n",
        "```np.hstack([np.cos(2*np.pi*input),np.sin(2*np.pi*input),\n",
        "                      np.cos(4*np.pi*input),np.sin(4*np.pi*input),\n",
        "                      np.cos(6*np.pi*input),np.sin(6*np.pi*input),\n",
        "                      np.cos(8*np.pi*input),np.sin(8*np.pi*input),\n",
        "                      np.cos(10*np.pi*input),np.sin(10*np.pi*input),\n",
        "                      np.cos(12*np.pi*input),np.sin(12*np.pi*input)])```\n",
        "\n",
        "* create the output using the following code:\n",
        "```input + np.cos(4*np.pi*input) + np.random.randn(len(input))*0.2```\n",
        "\n",
        "* you can rename \"input\" with a suitable var name\n",
        "* plot input in orange using a figure with this size: (20,12)\n",
        "* plot output in cyan\n",
        "* show the equation of the model in the plot\n",
        "* plot the histogram and the distribution shape in the same figure as in the example"
      ],
      "metadata": {
        "id": "9Viktk9kuhiA"
      }
    },
    {
      "cell_type": "code",
      "source": [
        "# your code here\n",
        "\n",
        "\n",
        "\n",
        "\n",
        "\n",
        "\n",
        "\n"
      ],
      "metadata": {
        "id": "e4cUjoC7l7dy"
      },
      "execution_count": null,
      "outputs": []
    }
  ]
}