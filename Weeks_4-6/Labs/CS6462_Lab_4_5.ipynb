{
  "nbformat": 4,
  "nbformat_minor": 0,
  "metadata": {
    "colab": {
      "name": "CS6462_Lab_4_5.ipynb",
      "provenance": []
    },
    "kernelspec": {
      "name": "python3",
      "display_name": "Python 3"
    },
    "language_info": {
      "name": "python"
    }
  },
  "cells": [
    {
      "cell_type": "markdown",
      "source": [
        "<div>\n",
        "<img src=\"https://drive.google.com/uc?export=view&id=1vK33e_EqaHgBHcbRV_m38hx6IkG0blK_\" width=\"350\"/>\n",
        "</div> \n",
        "\n",
        "#**Artificial Intelligence - MSc**\n",
        "\n",
        "##CS6462 - PROBABILISTIC AND EXPLAINABLE AI \n",
        "##SEM2 2021/2\n",
        "\n",
        "###CS6462_Lab_4.5\n",
        "\n",
        "###Instructor: Enrique Naredo\n",
        "\n",
        "Copyright (C) 2022 - All rights reserved, do not copy or distribute without permission of the author."
      ],
      "metadata": {
        "id": "286fVwK0Iah6"
      }
    },
    {
      "cell_type": "markdown",
      "source": [
        "## [Classification](https://en.wikipedia.org/wiki/Statistical_classification)"
      ],
      "metadata": {
        "id": "-tCLQAiTIk2_"
      }
    },
    {
      "cell_type": "markdown",
      "source": [
        "In statistics, classification is the problem of identifying which of a set of categories (sub-populations) an observation (or observations) belongs to. \n",
        "\n",
        "Classification examples:\n",
        "* assigning a given email to the \"spam\" or \"non-spam\" class, \n",
        "* assigning a diagnosis to a given patient (sex, blood pressure, presence or absence of certain symptoms, etc.)\n",
        "\n",
        "An algorithm that implements classification, especially in a concrete implementation, is known as a classifier. \n",
        "\n",
        "* The term \"classifier\" sometimes also refers to the mathematical function, \n",
        "* implemented by a classification algorithm, that maps input data to a category. "
      ],
      "metadata": {
        "id": "HNO29PncdGS7"
      }
    },
    {
      "cell_type": "markdown",
      "source": [
        "### Example-5\n",
        "\n",
        "**Multi-classification**"
      ],
      "metadata": {
        "id": "LKbIbiVCJpcI"
      }
    },
    {
      "cell_type": "code",
      "source": [
        "# import libraries\n",
        "from sklearn.datasets import make_blobs\n",
        "from sklearn.ensemble import RandomForestClassifier\n",
        "from pandas import DataFrame\n",
        "from mlxtend.plotting import plot_decision_regions\n",
        "import matplotlib.pyplot as plt\n",
        "import numpy as np\n",
        "import warnings\n",
        "warnings.filterwarnings('ignore')"
      ],
      "metadata": {
        "id": "3MGtEtNTgaqK"
      },
      "execution_count": null,
      "outputs": []
    },
    {
      "cell_type": "code",
      "source": [
        "from sklearn.datasets import make_classification\n",
        "\n",
        "# create synthetic data\n",
        "# randomly generate a 2d, 3 classes dataset\n",
        "# run several times the cell to observe the results\n",
        "# add a random seed to replicate same setup\n",
        "\n",
        "X1, y1 = make_classification(n_classes=3,\n",
        "                            n_features=2,\n",
        "                            n_samples=300, \n",
        "                            n_redundant=0, \n",
        "                            n_informative=2,\n",
        "                            n_clusters_per_class=1)"
      ],
      "metadata": {
        "id": "QG4tkvbye6rY"
      },
      "execution_count": null,
      "outputs": []
    },
    {
      "cell_type": "code",
      "source": [
        "# create a data frame\n",
        "df = DataFrame(dict(x=X1[:,0], y=X1[:,1], label=y1))"
      ],
      "metadata": {
        "id": "mS9f5tpCgDvP"
      },
      "execution_count": null,
      "outputs": []
    },
    {
      "cell_type": "code",
      "source": [
        "df.head()"
      ],
      "metadata": {
        "colab": {
          "base_uri": "https://localhost:8080/",
          "height": 206
        },
        "id": "aq0Fj6dggJDr",
        "outputId": "ee8ac785-5dfe-4ee7-9186-f7130f0c214d"
      },
      "execution_count": null,
      "outputs": [
        {
          "output_type": "execute_result",
          "data": {
            "text/html": [
              "\n",
              "  <div id=\"df-fe0b2233-7eb5-4bff-9623-f8e7ab5f4732\">\n",
              "    <div class=\"colab-df-container\">\n",
              "      <div>\n",
              "<style scoped>\n",
              "    .dataframe tbody tr th:only-of-type {\n",
              "        vertical-align: middle;\n",
              "    }\n",
              "\n",
              "    .dataframe tbody tr th {\n",
              "        vertical-align: top;\n",
              "    }\n",
              "\n",
              "    .dataframe thead th {\n",
              "        text-align: right;\n",
              "    }\n",
              "</style>\n",
              "<table border=\"1\" class=\"dataframe\">\n",
              "  <thead>\n",
              "    <tr style=\"text-align: right;\">\n",
              "      <th></th>\n",
              "      <th>x</th>\n",
              "      <th>y</th>\n",
              "      <th>label</th>\n",
              "    </tr>\n",
              "  </thead>\n",
              "  <tbody>\n",
              "    <tr>\n",
              "      <th>0</th>\n",
              "      <td>1.175993</td>\n",
              "      <td>-0.231444</td>\n",
              "      <td>2</td>\n",
              "    </tr>\n",
              "    <tr>\n",
              "      <th>1</th>\n",
              "      <td>-1.207546</td>\n",
              "      <td>-1.332022</td>\n",
              "      <td>0</td>\n",
              "    </tr>\n",
              "    <tr>\n",
              "      <th>2</th>\n",
              "      <td>0.756421</td>\n",
              "      <td>-1.679603</td>\n",
              "      <td>2</td>\n",
              "    </tr>\n",
              "    <tr>\n",
              "      <th>3</th>\n",
              "      <td>0.296480</td>\n",
              "      <td>-1.476123</td>\n",
              "      <td>2</td>\n",
              "    </tr>\n",
              "    <tr>\n",
              "      <th>4</th>\n",
              "      <td>0.233608</td>\n",
              "      <td>0.129558</td>\n",
              "      <td>0</td>\n",
              "    </tr>\n",
              "  </tbody>\n",
              "</table>\n",
              "</div>\n",
              "      <button class=\"colab-df-convert\" onclick=\"convertToInteractive('df-fe0b2233-7eb5-4bff-9623-f8e7ab5f4732')\"\n",
              "              title=\"Convert this dataframe to an interactive table.\"\n",
              "              style=\"display:none;\">\n",
              "        \n",
              "  <svg xmlns=\"http://www.w3.org/2000/svg\" height=\"24px\"viewBox=\"0 0 24 24\"\n",
              "       width=\"24px\">\n",
              "    <path d=\"M0 0h24v24H0V0z\" fill=\"none\"/>\n",
              "    <path d=\"M18.56 5.44l.94 2.06.94-2.06 2.06-.94-2.06-.94-.94-2.06-.94 2.06-2.06.94zm-11 1L8.5 8.5l.94-2.06 2.06-.94-2.06-.94L8.5 2.5l-.94 2.06-2.06.94zm10 10l.94 2.06.94-2.06 2.06-.94-2.06-.94-.94-2.06-.94 2.06-2.06.94z\"/><path d=\"M17.41 7.96l-1.37-1.37c-.4-.4-.92-.59-1.43-.59-.52 0-1.04.2-1.43.59L10.3 9.45l-7.72 7.72c-.78.78-.78 2.05 0 2.83L4 21.41c.39.39.9.59 1.41.59.51 0 1.02-.2 1.41-.59l7.78-7.78 2.81-2.81c.8-.78.8-2.07 0-2.86zM5.41 20L4 18.59l7.72-7.72 1.47 1.35L5.41 20z\"/>\n",
              "  </svg>\n",
              "      </button>\n",
              "      \n",
              "  <style>\n",
              "    .colab-df-container {\n",
              "      display:flex;\n",
              "      flex-wrap:wrap;\n",
              "      gap: 12px;\n",
              "    }\n",
              "\n",
              "    .colab-df-convert {\n",
              "      background-color: #E8F0FE;\n",
              "      border: none;\n",
              "      border-radius: 50%;\n",
              "      cursor: pointer;\n",
              "      display: none;\n",
              "      fill: #1967D2;\n",
              "      height: 32px;\n",
              "      padding: 0 0 0 0;\n",
              "      width: 32px;\n",
              "    }\n",
              "\n",
              "    .colab-df-convert:hover {\n",
              "      background-color: #E2EBFA;\n",
              "      box-shadow: 0px 1px 2px rgba(60, 64, 67, 0.3), 0px 1px 3px 1px rgba(60, 64, 67, 0.15);\n",
              "      fill: #174EA6;\n",
              "    }\n",
              "\n",
              "    [theme=dark] .colab-df-convert {\n",
              "      background-color: #3B4455;\n",
              "      fill: #D2E3FC;\n",
              "    }\n",
              "\n",
              "    [theme=dark] .colab-df-convert:hover {\n",
              "      background-color: #434B5C;\n",
              "      box-shadow: 0px 1px 3px 1px rgba(0, 0, 0, 0.15);\n",
              "      filter: drop-shadow(0px 1px 2px rgba(0, 0, 0, 0.3));\n",
              "      fill: #FFFFFF;\n",
              "    }\n",
              "  </style>\n",
              "\n",
              "      <script>\n",
              "        const buttonEl =\n",
              "          document.querySelector('#df-fe0b2233-7eb5-4bff-9623-f8e7ab5f4732 button.colab-df-convert');\n",
              "        buttonEl.style.display =\n",
              "          google.colab.kernel.accessAllowed ? 'block' : 'none';\n",
              "\n",
              "        async function convertToInteractive(key) {\n",
              "          const element = document.querySelector('#df-fe0b2233-7eb5-4bff-9623-f8e7ab5f4732');\n",
              "          const dataTable =\n",
              "            await google.colab.kernel.invokeFunction('convertToInteractive',\n",
              "                                                     [key], {});\n",
              "          if (!dataTable) return;\n",
              "\n",
              "          const docLinkHtml = 'Like what you see? Visit the ' +\n",
              "            '<a target=\"_blank\" href=https://colab.research.google.com/notebooks/data_table.ipynb>data table notebook</a>'\n",
              "            + ' to learn more about interactive tables.';\n",
              "          element.innerHTML = '';\n",
              "          dataTable['output_type'] = 'display_data';\n",
              "          await google.colab.output.renderOutput(dataTable, element);\n",
              "          const docLink = document.createElement('div');\n",
              "          docLink.innerHTML = docLinkHtml;\n",
              "          element.appendChild(docLink);\n",
              "        }\n",
              "      </script>\n",
              "    </div>\n",
              "  </div>\n",
              "  "
            ],
            "text/plain": [
              "          x         y  label\n",
              "0  1.175993 -0.231444      2\n",
              "1 -1.207546 -1.332022      0\n",
              "2  0.756421 -1.679603      2\n",
              "3  0.296480 -1.476123      2\n",
              "4  0.233608  0.129558      0"
            ]
          },
          "metadata": {},
          "execution_count": 8
        }
      ]
    },
    {
      "cell_type": "code",
      "source": [
        "df.describe()"
      ],
      "metadata": {
        "colab": {
          "base_uri": "https://localhost:8080/",
          "height": 300
        },
        "id": "5y_xiek9gM31",
        "outputId": "c35f2669-1bd5-4cfd-d872-60c2a38e31f9"
      },
      "execution_count": null,
      "outputs": [
        {
          "output_type": "execute_result",
          "data": {
            "text/html": [
              "\n",
              "  <div id=\"df-935dde68-5d5c-4a1f-a0c8-646a69047adc\">\n",
              "    <div class=\"colab-df-container\">\n",
              "      <div>\n",
              "<style scoped>\n",
              "    .dataframe tbody tr th:only-of-type {\n",
              "        vertical-align: middle;\n",
              "    }\n",
              "\n",
              "    .dataframe tbody tr th {\n",
              "        vertical-align: top;\n",
              "    }\n",
              "\n",
              "    .dataframe thead th {\n",
              "        text-align: right;\n",
              "    }\n",
              "</style>\n",
              "<table border=\"1\" class=\"dataframe\">\n",
              "  <thead>\n",
              "    <tr style=\"text-align: right;\">\n",
              "      <th></th>\n",
              "      <th>x</th>\n",
              "      <th>y</th>\n",
              "      <th>label</th>\n",
              "    </tr>\n",
              "  </thead>\n",
              "  <tbody>\n",
              "    <tr>\n",
              "      <th>count</th>\n",
              "      <td>300.000000</td>\n",
              "      <td>300.000000</td>\n",
              "      <td>300.000000</td>\n",
              "    </tr>\n",
              "    <tr>\n",
              "      <th>mean</th>\n",
              "      <td>0.349270</td>\n",
              "      <td>-0.276523</td>\n",
              "      <td>1.006667</td>\n",
              "    </tr>\n",
              "    <tr>\n",
              "      <th>std</th>\n",
              "      <td>1.264355</td>\n",
              "      <td>1.197750</td>\n",
              "      <td>0.817834</td>\n",
              "    </tr>\n",
              "    <tr>\n",
              "      <th>min</th>\n",
              "      <td>-2.767253</td>\n",
              "      <td>-2.862413</td>\n",
              "      <td>0.000000</td>\n",
              "    </tr>\n",
              "    <tr>\n",
              "      <th>25%</th>\n",
              "      <td>-0.553367</td>\n",
              "      <td>-1.265713</td>\n",
              "      <td>0.000000</td>\n",
              "    </tr>\n",
              "    <tr>\n",
              "      <th>50%</th>\n",
              "      <td>0.388976</td>\n",
              "      <td>-0.233859</td>\n",
              "      <td>1.000000</td>\n",
              "    </tr>\n",
              "    <tr>\n",
              "      <th>75%</th>\n",
              "      <td>1.264741</td>\n",
              "      <td>0.729265</td>\n",
              "      <td>2.000000</td>\n",
              "    </tr>\n",
              "    <tr>\n",
              "      <th>max</th>\n",
              "      <td>3.986595</td>\n",
              "      <td>2.691019</td>\n",
              "      <td>2.000000</td>\n",
              "    </tr>\n",
              "  </tbody>\n",
              "</table>\n",
              "</div>\n",
              "      <button class=\"colab-df-convert\" onclick=\"convertToInteractive('df-935dde68-5d5c-4a1f-a0c8-646a69047adc')\"\n",
              "              title=\"Convert this dataframe to an interactive table.\"\n",
              "              style=\"display:none;\">\n",
              "        \n",
              "  <svg xmlns=\"http://www.w3.org/2000/svg\" height=\"24px\"viewBox=\"0 0 24 24\"\n",
              "       width=\"24px\">\n",
              "    <path d=\"M0 0h24v24H0V0z\" fill=\"none\"/>\n",
              "    <path d=\"M18.56 5.44l.94 2.06.94-2.06 2.06-.94-2.06-.94-.94-2.06-.94 2.06-2.06.94zm-11 1L8.5 8.5l.94-2.06 2.06-.94-2.06-.94L8.5 2.5l-.94 2.06-2.06.94zm10 10l.94 2.06.94-2.06 2.06-.94-2.06-.94-.94-2.06-.94 2.06-2.06.94z\"/><path d=\"M17.41 7.96l-1.37-1.37c-.4-.4-.92-.59-1.43-.59-.52 0-1.04.2-1.43.59L10.3 9.45l-7.72 7.72c-.78.78-.78 2.05 0 2.83L4 21.41c.39.39.9.59 1.41.59.51 0 1.02-.2 1.41-.59l7.78-7.78 2.81-2.81c.8-.78.8-2.07 0-2.86zM5.41 20L4 18.59l7.72-7.72 1.47 1.35L5.41 20z\"/>\n",
              "  </svg>\n",
              "      </button>\n",
              "      \n",
              "  <style>\n",
              "    .colab-df-container {\n",
              "      display:flex;\n",
              "      flex-wrap:wrap;\n",
              "      gap: 12px;\n",
              "    }\n",
              "\n",
              "    .colab-df-convert {\n",
              "      background-color: #E8F0FE;\n",
              "      border: none;\n",
              "      border-radius: 50%;\n",
              "      cursor: pointer;\n",
              "      display: none;\n",
              "      fill: #1967D2;\n",
              "      height: 32px;\n",
              "      padding: 0 0 0 0;\n",
              "      width: 32px;\n",
              "    }\n",
              "\n",
              "    .colab-df-convert:hover {\n",
              "      background-color: #E2EBFA;\n",
              "      box-shadow: 0px 1px 2px rgba(60, 64, 67, 0.3), 0px 1px 3px 1px rgba(60, 64, 67, 0.15);\n",
              "      fill: #174EA6;\n",
              "    }\n",
              "\n",
              "    [theme=dark] .colab-df-convert {\n",
              "      background-color: #3B4455;\n",
              "      fill: #D2E3FC;\n",
              "    }\n",
              "\n",
              "    [theme=dark] .colab-df-convert:hover {\n",
              "      background-color: #434B5C;\n",
              "      box-shadow: 0px 1px 3px 1px rgba(0, 0, 0, 0.15);\n",
              "      filter: drop-shadow(0px 1px 2px rgba(0, 0, 0, 0.3));\n",
              "      fill: #FFFFFF;\n",
              "    }\n",
              "  </style>\n",
              "\n",
              "      <script>\n",
              "        const buttonEl =\n",
              "          document.querySelector('#df-935dde68-5d5c-4a1f-a0c8-646a69047adc button.colab-df-convert');\n",
              "        buttonEl.style.display =\n",
              "          google.colab.kernel.accessAllowed ? 'block' : 'none';\n",
              "\n",
              "        async function convertToInteractive(key) {\n",
              "          const element = document.querySelector('#df-935dde68-5d5c-4a1f-a0c8-646a69047adc');\n",
              "          const dataTable =\n",
              "            await google.colab.kernel.invokeFunction('convertToInteractive',\n",
              "                                                     [key], {});\n",
              "          if (!dataTable) return;\n",
              "\n",
              "          const docLinkHtml = 'Like what you see? Visit the ' +\n",
              "            '<a target=\"_blank\" href=https://colab.research.google.com/notebooks/data_table.ipynb>data table notebook</a>'\n",
              "            + ' to learn more about interactive tables.';\n",
              "          element.innerHTML = '';\n",
              "          dataTable['output_type'] = 'display_data';\n",
              "          await google.colab.output.renderOutput(dataTable, element);\n",
              "          const docLink = document.createElement('div');\n",
              "          docLink.innerHTML = docLinkHtml;\n",
              "          element.appendChild(docLink);\n",
              "        }\n",
              "      </script>\n",
              "    </div>\n",
              "  </div>\n",
              "  "
            ],
            "text/plain": [
              "                x           y       label\n",
              "count  300.000000  300.000000  300.000000\n",
              "mean     0.349270   -0.276523    1.006667\n",
              "std      1.264355    1.197750    0.817834\n",
              "min     -2.767253   -2.862413    0.000000\n",
              "25%     -0.553367   -1.265713    0.000000\n",
              "50%      0.388976   -0.233859    1.000000\n",
              "75%      1.264741    0.729265    2.000000\n",
              "max      3.986595    2.691019    2.000000"
            ]
          },
          "metadata": {},
          "execution_count": 9
        }
      ]
    },
    {
      "cell_type": "code",
      "source": [
        "# count the data elements for each class\n",
        "df['label'].value_counts()"
      ],
      "metadata": {
        "colab": {
          "base_uri": "https://localhost:8080/"
        },
        "id": "k_0c2fwPhHX5",
        "outputId": "9875a322-c16c-4fc8-a0d2-3c391b628b65"
      },
      "execution_count": null,
      "outputs": [
        {
          "output_type": "execute_result",
          "data": {
            "text/plain": [
              "2    101\n",
              "1    100\n",
              "0     99\n",
              "Name: label, dtype: int64"
            ]
          },
          "metadata": {},
          "execution_count": 14
        }
      ]
    },
    {
      "cell_type": "code",
      "source": [
        "# three classes\n",
        "colors = {0:'red', 1:'green', 2:'blue'}\n",
        "markers = {0:'o', 1:'^', 2:'s'}\n",
        "# figure\n",
        "fig, ax = plt.subplots()\n",
        "grouped = df.groupby('label')\n",
        "# scatter plot\n",
        "for key, group in grouped:\n",
        "    group.plot(ax=ax, kind='scatter', x='x', y='y', \n",
        "    label=key, color=colors[key], marker=markers[key])\n",
        "# show the plot\n",
        "plt.show()"
      ],
      "metadata": {
        "colab": {
          "base_uri": "https://localhost:8080/",
          "height": 279
        },
        "id": "Ot0-CINTgIF6",
        "outputId": "85fc4dd8-8cbb-41c6-8224-c0b3c51e7e3b"
      },
      "execution_count": null,
      "outputs": [
        {
          "output_type": "display_data",
          "data": {
            "image/png": "[encoded data removed]",
            "text/plain": [
              "<Figure size 432x288 with 1 Axes>"
            ]
          },
          "metadata": {
            "needs_background": "light"
          }
        }
      ]
    },
    {
      "cell_type": "markdown",
      "source": [
        "### [Random Forest](https://en.wikipedia.org/wiki/Random_forest)\n",
        "\n",
        "Random forests (RF) or random decision forests are an ensemble learning method for classification, regression and other tasks.\n",
        "\n",
        "RF operates by constructing a multitude of decision trees at training time. \n",
        "\n",
        "* For classification tasks, the output of the random forest is the class selected by most trees. \n",
        "* For regression tasks, the mean or average prediction of the individual trees is returned."
      ],
      "metadata": {
        "id": "_uVx3RJ8hbOv"
      }
    },
    {
      "cell_type": "code",
      "source": [
        "# Random Forests model\n",
        "RF_model = RandomForestClassifier()"
      ],
      "metadata": {
        "id": "FwxfMKuAiULX"
      },
      "execution_count": null,
      "outputs": []
    },
    {
      "cell_type": "code",
      "source": [
        "# fit to data the model\n",
        "RF_model.fit(X1, y1)"
      ],
      "metadata": {
        "colab": {
          "base_uri": "https://localhost:8080/"
        },
        "id": "9noLyVJBidq1",
        "outputId": "037c767e-3519-4f5d-d299-ed6e621658b6"
      },
      "execution_count": null,
      "outputs": [
        {
          "output_type": "execute_result",
          "data": {
            "text/plain": [
              "RandomForestClassifier()"
            ]
          },
          "metadata": {},
          "execution_count": 19
        }
      ]
    },
    {
      "cell_type": "markdown",
      "source": [
        "**[Decision boundary](https://en.wikipedia.org/wiki/Decision_boundary)**\n",
        "\n",
        "* A decision boundary is the region of a problem space in which the output label of a classifier is ambiguous.\n",
        "\n",
        "* If the decision surface is a hyperplane, then the classification problem is linear, and the classes are linearly separable.\n",
        "\n",
        "* In a statistical-classification problem with two classes, a decision boundary or decision surface is a hypersurface that partitions the underlying vector space into two sets, one for each class.\n",
        "\n",
        "* You can find a related information to this topic in this [publication](https://towardsdatascience.com/classification-problems-and-exploring-decision-boundaries-3317e03afcdb).\n",
        "\n",
        "**Note**: The code used allows us to use a 2D dimensional space to show the decision boundary. Be aware that in this example we are using 2 features (2D). "
      ],
      "metadata": {
        "id": "ja6NOcAdO2Dl"
      }
    },
    {
      "cell_type": "code",
      "source": [
        "# Plotting the decision boundary \n",
        "plot_decision_regions(X1, y1, clf=RF_model, legend=3);"
      ],
      "metadata": {
        "colab": {
          "base_uri": "https://localhost:8080/",
          "height": 265
        },
        "id": "Gs3Y6gvrP_ck",
        "outputId": "c51207dd-b7f7-4a56-e93e-dad3be4fc853"
      },
      "execution_count": null,
      "outputs": [
        {
          "output_type": "display_data",
          "data": {
            "image/png": "[encoded data removed]",
            "text/plain": [
              "<Figure size 432x288 with 1 Axes>"
            ]
          },
          "metadata": {
            "needs_background": "light"
          }
        }
      ]
    },
    {
      "cell_type": "markdown",
      "source": [
        "###Exercise-10\n",
        "\n",
        "In this exercise, you will create a new dataset to test your model, you need to add or modify the code in the following cells, here you have some highlight and hints to solve this exercise:\n",
        "* Add the missing parts of the code;\n",
        "* compare it against the example;\n",
        "* use different var names, for instance; fig2, ax2, etc;\n",
        "* use different colors for the dots;\n",
        "* use different shapes for the marks\n",
        "* show the predictions on the new dataset;\n",
        "* verify if the given label is correct;\n",
        "* give the percentage of correct classiffied data points."
      ],
      "metadata": {
        "id": "Zs9hIhalno8s"
      }
    },
    {
      "cell_type": "code",
      "source": [
        "# new data instances (20)\n",
        "X_new, _ = classification(n_classes=3,\n",
        "                            n_features=2,\n",
        "                            n_samples= , \n",
        "                            n_redundant= , \n",
        "                            n_informative= ,\n",
        "                            n_clusters_per_class= )"
      ],
      "metadata": {
        "id": "TEv2zbYkn1NZ"
      },
      "execution_count": null,
      "outputs": []
    },
    {
      "cell_type": "code",
      "source": [
        "# make predictions (assign class labels)\n",
        "y_pred = RF_model.predict( )\n",
        "# show the inputs and predicted outputs\n",
        "for j in range(len(X_new)):\n",
        "  print(\"X{0}={}, Class Predicted={}\".format(i, X_new[i], y_pred[i]))"
      ],
      "metadata": {
        "id": "vIJxU4M3n8Sz"
      },
      "execution_count": null,
      "outputs": []
    },
    {
      "cell_type": "code",
      "source": [
        "# create a data frame\n",
        "df_new = Data(dict(X_new[], X_new[], label= ))"
      ],
      "metadata": {
        "id": "Q-iVyzdYoIwQ"
      },
      "execution_count": null,
      "outputs": []
    },
    {
      "cell_type": "code",
      "source": [
        "# show 20 rows \n",
        "df_new.head()"
      ],
      "metadata": {
        "id": "XyjGO38QoPIF"
      },
      "execution_count": null,
      "outputs": []
    },
    {
      "cell_type": "code",
      "source": [
        "# three classes\n",
        "colors2 = orange,brown,cyan\n",
        "markers2 = P,*,D\n",
        "# figure\n",
        "fig2,  = plt.subplot()\n",
        "# new data\n",
        "grouped = df_new.group('label')\n",
        "# scatter plot\n",
        "for key2, group2 in grouped2:\n",
        "    group2.plot(ax=ax2, kin='scater', x='x', y='y', label=key, \n",
        "     marker=markers[key])\n",
        "# show the plot\n",
        "plt.show();"
      ],
      "metadata": {
        "id": "asDtBBQeoUP_"
      },
      "execution_count": null,
      "outputs": []
    },
    {
      "cell_type": "code",
      "source": [
        "# Plotting the new decision boundary \n",
        "# from the LogisticRegression model\n",
        "plotdecision_regions(X_new, , clf=LR_model, legend=4)"
      ],
      "metadata": {
        "id": "XNc3uKgTobyh"
      },
      "execution_count": null,
      "outputs": []
    },
    {
      "cell_type": "markdown",
      "source": [
        "###Exercise-11\n",
        "\n",
        "In this exercise, repeat Exercise-10 and play around with the parameters of [```make_classification```](https://scikit-learn.org/stable/modules/generated/sklearn.datasets.make_classification.html)\n",
        "* n_classes, i.e. 4, 5.\n",
        "* n_features, i.e. 3, 4, 5, 6.\n",
        "* n_samples, i.e. 400, 600.\n",
        "* n_redundant, i.e. 4, 5.\n",
        "* n_informative, i.e. 3, 4.\n",
        "* n_clusters_per_class, i.e. 2, 3.\n",
        "\n",
        "**Notes**: \n",
        "* Number of informative, redundant and repeated features must sum to less than the number of total features.\n",
        "* n_classes * n_clusters_per_class must be smaller or equal 2**n_informative"
      ],
      "metadata": {
        "id": "zg1k2X7UrggW"
      }
    },
    {
      "cell_type": "code",
      "source": [
        "# your code here\n",
        "\n",
        "\n",
        "\n",
        "\n",
        "\n"
      ],
      "metadata": {
        "id": "W8UlilyYu9Ab"
      },
      "execution_count": null,
      "outputs": []
    }
  ]
}